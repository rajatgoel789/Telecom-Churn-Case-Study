{
 "cells": [
  {
   "cell_type": "markdown",
   "id": "08081bf3",
   "metadata": {},
   "source": [
    "## Problem Statement\n",
    "In the telecom industry, customers are able to choose from multiple service providers and actively switch from one operator to another. In this highly competitive market, the telecommunications industry experiences an average of 15-25% annual churn rate. Given the fact that it costs 5-10 times more to acquire a new customer than to retain an existing one, customer retention has now become even more important than customer acquisition.\n",
    "\n",
    "For many incumbent operators, retaining high profitable customers is the number one business\n",
    "goal. To reduce customer churn, telecom companies need to predict which customers are at high risk of churn. In this project, you will analyze customer-level data of a leading telecom firm, build predictive models to identify customers at high risk of churn.\n",
    "\n",
    "In this competition, your goal is to build a machine learning model that is able to predict churning customers based on the features provided for their usage.\n",
    "\n"
   ]
  },
  {
   "cell_type": "markdown",
   "id": "c57b42e2",
   "metadata": {},
   "source": [
    "## The notebook consist of below 4 parts\n",
    "\n",
    "* Data Understanding, Preparation, and Pre-Processing\n",
    "* Exploratory Data Analysis \n",
    "* Feature Engineering and Variable Transformation\n",
    "* Model Selection, Model Building, and  Prediction"
   ]
  },
  {
   "cell_type": "markdown",
   "id": "6d0ed7db",
   "metadata": {},
   "source": [
    "### Data Understanding, Preparation, and Pre-Processing"
   ]
  },
  {
   "cell_type": "markdown",
   "id": "5b042e4d",
   "metadata": {},
   "source": [
    "#### Importing Libraries"
   ]
  },
  {
   "cell_type": "code",
   "execution_count": 1,
   "id": "a1b12d8c",
   "metadata": {},
   "outputs": [],
   "source": [
    "import pandas as pd\n",
    "import numpy as np\n",
    "import seaborn as sns\n",
    "\n",
    "# To show all the columns in the dataset\n",
    "pd.set_option(\"display.max_columns\", None)"
   ]
  },
  {
   "cell_type": "code",
   "execution_count": 2,
   "id": "b9699c9e",
   "metadata": {},
   "outputs": [],
   "source": [
    "#reading data\n",
    "df=pd.read_csv(\"train (1).csv\")"
   ]
  },
  {
   "cell_type": "code",
   "execution_count": 3,
   "id": "c37676ad",
   "metadata": {},
   "outputs": [
    {
     "data": {
      "text/plain": [
       "(69999, 172)"
      ]
     },
     "execution_count": 3,
     "metadata": {},
     "output_type": "execute_result"
    }
   ],
   "source": [
    "#checking shape of data\n",
    "df.shape"
   ]
  },
  {
   "cell_type": "code",
   "execution_count": 4,
   "id": "59c11688",
   "metadata": {},
   "outputs": [
    {
     "data": {
      "text/html": [
       "<div>\n",
       "<style scoped>\n",
       "    .dataframe tbody tr th:only-of-type {\n",
       "        vertical-align: middle;\n",
       "    }\n",
       "\n",
       "    .dataframe tbody tr th {\n",
       "        vertical-align: top;\n",
       "    }\n",
       "\n",
       "    .dataframe thead th {\n",
       "        text-align: right;\n",
       "    }\n",
       "</style>\n",
       "<table border=\"1\" class=\"dataframe\">\n",
       "  <thead>\n",
       "    <tr style=\"text-align: right;\">\n",
       "      <th></th>\n",
       "      <th>id</th>\n",
       "      <th>circle_id</th>\n",
       "      <th>loc_og_t2o_mou</th>\n",
       "      <th>std_og_t2o_mou</th>\n",
       "      <th>loc_ic_t2o_mou</th>\n",
       "      <th>last_date_of_month_6</th>\n",
       "      <th>last_date_of_month_7</th>\n",
       "      <th>last_date_of_month_8</th>\n",
       "      <th>arpu_6</th>\n",
       "      <th>arpu_7</th>\n",
       "      <th>arpu_8</th>\n",
       "      <th>onnet_mou_6</th>\n",
       "      <th>onnet_mou_7</th>\n",
       "      <th>onnet_mou_8</th>\n",
       "      <th>offnet_mou_6</th>\n",
       "      <th>offnet_mou_7</th>\n",
       "      <th>offnet_mou_8</th>\n",
       "      <th>roam_ic_mou_6</th>\n",
       "      <th>roam_ic_mou_7</th>\n",
       "      <th>roam_ic_mou_8</th>\n",
       "      <th>roam_og_mou_6</th>\n",
       "      <th>roam_og_mou_7</th>\n",
       "      <th>roam_og_mou_8</th>\n",
       "      <th>loc_og_t2t_mou_6</th>\n",
       "      <th>loc_og_t2t_mou_7</th>\n",
       "      <th>loc_og_t2t_mou_8</th>\n",
       "      <th>loc_og_t2m_mou_6</th>\n",
       "      <th>loc_og_t2m_mou_7</th>\n",
       "      <th>loc_og_t2m_mou_8</th>\n",
       "      <th>loc_og_t2f_mou_6</th>\n",
       "      <th>loc_og_t2f_mou_7</th>\n",
       "      <th>loc_og_t2f_mou_8</th>\n",
       "      <th>loc_og_t2c_mou_6</th>\n",
       "      <th>loc_og_t2c_mou_7</th>\n",
       "      <th>loc_og_t2c_mou_8</th>\n",
       "      <th>loc_og_mou_6</th>\n",
       "      <th>loc_og_mou_7</th>\n",
       "      <th>loc_og_mou_8</th>\n",
       "      <th>std_og_t2t_mou_6</th>\n",
       "      <th>std_og_t2t_mou_7</th>\n",
       "      <th>std_og_t2t_mou_8</th>\n",
       "      <th>std_og_t2m_mou_6</th>\n",
       "      <th>std_og_t2m_mou_7</th>\n",
       "      <th>std_og_t2m_mou_8</th>\n",
       "      <th>std_og_t2f_mou_6</th>\n",
       "      <th>std_og_t2f_mou_7</th>\n",
       "      <th>std_og_t2f_mou_8</th>\n",
       "      <th>std_og_t2c_mou_6</th>\n",
       "      <th>std_og_t2c_mou_7</th>\n",
       "      <th>std_og_t2c_mou_8</th>\n",
       "      <th>std_og_mou_6</th>\n",
       "      <th>std_og_mou_7</th>\n",
       "      <th>std_og_mou_8</th>\n",
       "      <th>isd_og_mou_6</th>\n",
       "      <th>isd_og_mou_7</th>\n",
       "      <th>isd_og_mou_8</th>\n",
       "      <th>spl_og_mou_6</th>\n",
       "      <th>spl_og_mou_7</th>\n",
       "      <th>spl_og_mou_8</th>\n",
       "      <th>og_others_6</th>\n",
       "      <th>og_others_7</th>\n",
       "      <th>og_others_8</th>\n",
       "      <th>total_og_mou_6</th>\n",
       "      <th>total_og_mou_7</th>\n",
       "      <th>total_og_mou_8</th>\n",
       "      <th>loc_ic_t2t_mou_6</th>\n",
       "      <th>loc_ic_t2t_mou_7</th>\n",
       "      <th>loc_ic_t2t_mou_8</th>\n",
       "      <th>loc_ic_t2m_mou_6</th>\n",
       "      <th>loc_ic_t2m_mou_7</th>\n",
       "      <th>loc_ic_t2m_mou_8</th>\n",
       "      <th>loc_ic_t2f_mou_6</th>\n",
       "      <th>loc_ic_t2f_mou_7</th>\n",
       "      <th>loc_ic_t2f_mou_8</th>\n",
       "      <th>loc_ic_mou_6</th>\n",
       "      <th>loc_ic_mou_7</th>\n",
       "      <th>loc_ic_mou_8</th>\n",
       "      <th>std_ic_t2t_mou_6</th>\n",
       "      <th>std_ic_t2t_mou_7</th>\n",
       "      <th>std_ic_t2t_mou_8</th>\n",
       "      <th>std_ic_t2m_mou_6</th>\n",
       "      <th>std_ic_t2m_mou_7</th>\n",
       "      <th>std_ic_t2m_mou_8</th>\n",
       "      <th>std_ic_t2f_mou_6</th>\n",
       "      <th>std_ic_t2f_mou_7</th>\n",
       "      <th>std_ic_t2f_mou_8</th>\n",
       "      <th>std_ic_t2o_mou_6</th>\n",
       "      <th>std_ic_t2o_mou_7</th>\n",
       "      <th>std_ic_t2o_mou_8</th>\n",
       "      <th>std_ic_mou_6</th>\n",
       "      <th>std_ic_mou_7</th>\n",
       "      <th>std_ic_mou_8</th>\n",
       "      <th>total_ic_mou_6</th>\n",
       "      <th>total_ic_mou_7</th>\n",
       "      <th>total_ic_mou_8</th>\n",
       "      <th>spl_ic_mou_6</th>\n",
       "      <th>spl_ic_mou_7</th>\n",
       "      <th>spl_ic_mou_8</th>\n",
       "      <th>isd_ic_mou_6</th>\n",
       "      <th>isd_ic_mou_7</th>\n",
       "      <th>isd_ic_mou_8</th>\n",
       "      <th>ic_others_6</th>\n",
       "      <th>ic_others_7</th>\n",
       "      <th>ic_others_8</th>\n",
       "      <th>total_rech_num_6</th>\n",
       "      <th>total_rech_num_7</th>\n",
       "      <th>total_rech_num_8</th>\n",
       "      <th>total_rech_amt_6</th>\n",
       "      <th>total_rech_amt_7</th>\n",
       "      <th>total_rech_amt_8</th>\n",
       "      <th>max_rech_amt_6</th>\n",
       "      <th>max_rech_amt_7</th>\n",
       "      <th>max_rech_amt_8</th>\n",
       "      <th>date_of_last_rech_6</th>\n",
       "      <th>date_of_last_rech_7</th>\n",
       "      <th>date_of_last_rech_8</th>\n",
       "      <th>last_day_rch_amt_6</th>\n",
       "      <th>last_day_rch_amt_7</th>\n",
       "      <th>last_day_rch_amt_8</th>\n",
       "      <th>date_of_last_rech_data_6</th>\n",
       "      <th>date_of_last_rech_data_7</th>\n",
       "      <th>date_of_last_rech_data_8</th>\n",
       "      <th>total_rech_data_6</th>\n",
       "      <th>total_rech_data_7</th>\n",
       "      <th>total_rech_data_8</th>\n",
       "      <th>max_rech_data_6</th>\n",
       "      <th>max_rech_data_7</th>\n",
       "      <th>max_rech_data_8</th>\n",
       "      <th>count_rech_2g_6</th>\n",
       "      <th>count_rech_2g_7</th>\n",
       "      <th>count_rech_2g_8</th>\n",
       "      <th>count_rech_3g_6</th>\n",
       "      <th>count_rech_3g_7</th>\n",
       "      <th>count_rech_3g_8</th>\n",
       "      <th>av_rech_amt_data_6</th>\n",
       "      <th>av_rech_amt_data_7</th>\n",
       "      <th>av_rech_amt_data_8</th>\n",
       "      <th>vol_2g_mb_6</th>\n",
       "      <th>vol_2g_mb_7</th>\n",
       "      <th>vol_2g_mb_8</th>\n",
       "      <th>vol_3g_mb_6</th>\n",
       "      <th>vol_3g_mb_7</th>\n",
       "      <th>vol_3g_mb_8</th>\n",
       "      <th>arpu_3g_6</th>\n",
       "      <th>arpu_3g_7</th>\n",
       "      <th>arpu_3g_8</th>\n",
       "      <th>arpu_2g_6</th>\n",
       "      <th>arpu_2g_7</th>\n",
       "      <th>arpu_2g_8</th>\n",
       "      <th>night_pck_user_6</th>\n",
       "      <th>night_pck_user_7</th>\n",
       "      <th>night_pck_user_8</th>\n",
       "      <th>monthly_2g_6</th>\n",
       "      <th>monthly_2g_7</th>\n",
       "      <th>monthly_2g_8</th>\n",
       "      <th>sachet_2g_6</th>\n",
       "      <th>sachet_2g_7</th>\n",
       "      <th>sachet_2g_8</th>\n",
       "      <th>monthly_3g_6</th>\n",
       "      <th>monthly_3g_7</th>\n",
       "      <th>monthly_3g_8</th>\n",
       "      <th>sachet_3g_6</th>\n",
       "      <th>sachet_3g_7</th>\n",
       "      <th>sachet_3g_8</th>\n",
       "      <th>fb_user_6</th>\n",
       "      <th>fb_user_7</th>\n",
       "      <th>fb_user_8</th>\n",
       "      <th>aon</th>\n",
       "      <th>aug_vbc_3g</th>\n",
       "      <th>jul_vbc_3g</th>\n",
       "      <th>jun_vbc_3g</th>\n",
       "      <th>churn_probability</th>\n",
       "    </tr>\n",
       "  </thead>\n",
       "  <tbody>\n",
       "    <tr>\n",
       "      <th>0</th>\n",
       "      <td>0</td>\n",
       "      <td>109</td>\n",
       "      <td>0.0</td>\n",
       "      <td>0.0</td>\n",
       "      <td>0.0</td>\n",
       "      <td>6/30/2014</td>\n",
       "      <td>7/31/2014</td>\n",
       "      <td>8/31/2014</td>\n",
       "      <td>31.277</td>\n",
       "      <td>87.009</td>\n",
       "      <td>7.527</td>\n",
       "      <td>48.58</td>\n",
       "      <td>124.38</td>\n",
       "      <td>1.29</td>\n",
       "      <td>32.24</td>\n",
       "      <td>96.68</td>\n",
       "      <td>2.33</td>\n",
       "      <td>0.00</td>\n",
       "      <td>0.0</td>\n",
       "      <td>0.0</td>\n",
       "      <td>0.00</td>\n",
       "      <td>0.0</td>\n",
       "      <td>0.00</td>\n",
       "      <td>2.23</td>\n",
       "      <td>0.00</td>\n",
       "      <td>0.28</td>\n",
       "      <td>5.29</td>\n",
       "      <td>16.04</td>\n",
       "      <td>2.33</td>\n",
       "      <td>0.00</td>\n",
       "      <td>0.00</td>\n",
       "      <td>0.00</td>\n",
       "      <td>0.00</td>\n",
       "      <td>0.00</td>\n",
       "      <td>0.00</td>\n",
       "      <td>7.53</td>\n",
       "      <td>16.04</td>\n",
       "      <td>2.61</td>\n",
       "      <td>46.34</td>\n",
       "      <td>124.38</td>\n",
       "      <td>1.01</td>\n",
       "      <td>18.75</td>\n",
       "      <td>80.61</td>\n",
       "      <td>0.00</td>\n",
       "      <td>0.00</td>\n",
       "      <td>0.0</td>\n",
       "      <td>0.0</td>\n",
       "      <td>0.0</td>\n",
       "      <td>0.0</td>\n",
       "      <td>0.0</td>\n",
       "      <td>65.09</td>\n",
       "      <td>204.99</td>\n",
       "      <td>1.01</td>\n",
       "      <td>0.0</td>\n",
       "      <td>0.00</td>\n",
       "      <td>0.0</td>\n",
       "      <td>8.20</td>\n",
       "      <td>0.63</td>\n",
       "      <td>0.00</td>\n",
       "      <td>0.38</td>\n",
       "      <td>0.0</td>\n",
       "      <td>0.0</td>\n",
       "      <td>81.21</td>\n",
       "      <td>221.68</td>\n",
       "      <td>3.63</td>\n",
       "      <td>2.43</td>\n",
       "      <td>3.68</td>\n",
       "      <td>7.79</td>\n",
       "      <td>0.83</td>\n",
       "      <td>21.08</td>\n",
       "      <td>16.91</td>\n",
       "      <td>0.00</td>\n",
       "      <td>0.00</td>\n",
       "      <td>0.00</td>\n",
       "      <td>3.26</td>\n",
       "      <td>24.76</td>\n",
       "      <td>24.71</td>\n",
       "      <td>0.00</td>\n",
       "      <td>7.61</td>\n",
       "      <td>0.21</td>\n",
       "      <td>7.46</td>\n",
       "      <td>19.96</td>\n",
       "      <td>14.96</td>\n",
       "      <td>0.0</td>\n",
       "      <td>0.00</td>\n",
       "      <td>0.00</td>\n",
       "      <td>0.0</td>\n",
       "      <td>0.0</td>\n",
       "      <td>0.0</td>\n",
       "      <td>7.46</td>\n",
       "      <td>27.58</td>\n",
       "      <td>15.18</td>\n",
       "      <td>11.84</td>\n",
       "      <td>53.04</td>\n",
       "      <td>40.56</td>\n",
       "      <td>0.00</td>\n",
       "      <td>0.0</td>\n",
       "      <td>0.66</td>\n",
       "      <td>0.00</td>\n",
       "      <td>0.00</td>\n",
       "      <td>0.00</td>\n",
       "      <td>1.11</td>\n",
       "      <td>0.69</td>\n",
       "      <td>0.00</td>\n",
       "      <td>3</td>\n",
       "      <td>2</td>\n",
       "      <td>2</td>\n",
       "      <td>77</td>\n",
       "      <td>65</td>\n",
       "      <td>10</td>\n",
       "      <td>65</td>\n",
       "      <td>65</td>\n",
       "      <td>10</td>\n",
       "      <td>6/22/2014</td>\n",
       "      <td>7/10/2014</td>\n",
       "      <td>8/24/2014</td>\n",
       "      <td>65</td>\n",
       "      <td>65</td>\n",
       "      <td>0</td>\n",
       "      <td>NaN</td>\n",
       "      <td>NaN</td>\n",
       "      <td>NaN</td>\n",
       "      <td>NaN</td>\n",
       "      <td>NaN</td>\n",
       "      <td>NaN</td>\n",
       "      <td>NaN</td>\n",
       "      <td>NaN</td>\n",
       "      <td>NaN</td>\n",
       "      <td>NaN</td>\n",
       "      <td>NaN</td>\n",
       "      <td>NaN</td>\n",
       "      <td>NaN</td>\n",
       "      <td>NaN</td>\n",
       "      <td>NaN</td>\n",
       "      <td>NaN</td>\n",
       "      <td>NaN</td>\n",
       "      <td>NaN</td>\n",
       "      <td>0.0</td>\n",
       "      <td>0.00</td>\n",
       "      <td>0.00</td>\n",
       "      <td>0.0</td>\n",
       "      <td>0.00</td>\n",
       "      <td>0.0</td>\n",
       "      <td>NaN</td>\n",
       "      <td>NaN</td>\n",
       "      <td>NaN</td>\n",
       "      <td>NaN</td>\n",
       "      <td>NaN</td>\n",
       "      <td>NaN</td>\n",
       "      <td>NaN</td>\n",
       "      <td>NaN</td>\n",
       "      <td>NaN</td>\n",
       "      <td>0</td>\n",
       "      <td>0</td>\n",
       "      <td>0</td>\n",
       "      <td>0</td>\n",
       "      <td>0</td>\n",
       "      <td>0</td>\n",
       "      <td>0</td>\n",
       "      <td>0</td>\n",
       "      <td>0</td>\n",
       "      <td>0</td>\n",
       "      <td>0</td>\n",
       "      <td>0</td>\n",
       "      <td>NaN</td>\n",
       "      <td>NaN</td>\n",
       "      <td>NaN</td>\n",
       "      <td>1958</td>\n",
       "      <td>0.0</td>\n",
       "      <td>0.0</td>\n",
       "      <td>0.0</td>\n",
       "      <td>0</td>\n",
       "    </tr>\n",
       "    <tr>\n",
       "      <th>1</th>\n",
       "      <td>1</td>\n",
       "      <td>109</td>\n",
       "      <td>0.0</td>\n",
       "      <td>0.0</td>\n",
       "      <td>0.0</td>\n",
       "      <td>6/30/2014</td>\n",
       "      <td>7/31/2014</td>\n",
       "      <td>8/31/2014</td>\n",
       "      <td>0.000</td>\n",
       "      <td>122.787</td>\n",
       "      <td>42.953</td>\n",
       "      <td>0.00</td>\n",
       "      <td>0.00</td>\n",
       "      <td>0.00</td>\n",
       "      <td>0.00</td>\n",
       "      <td>25.99</td>\n",
       "      <td>30.89</td>\n",
       "      <td>0.00</td>\n",
       "      <td>0.0</td>\n",
       "      <td>0.0</td>\n",
       "      <td>0.00</td>\n",
       "      <td>0.0</td>\n",
       "      <td>0.00</td>\n",
       "      <td>0.00</td>\n",
       "      <td>0.00</td>\n",
       "      <td>0.00</td>\n",
       "      <td>0.00</td>\n",
       "      <td>0.00</td>\n",
       "      <td>0.00</td>\n",
       "      <td>0.00</td>\n",
       "      <td>0.00</td>\n",
       "      <td>0.00</td>\n",
       "      <td>0.00</td>\n",
       "      <td>22.01</td>\n",
       "      <td>29.79</td>\n",
       "      <td>0.00</td>\n",
       "      <td>0.00</td>\n",
       "      <td>0.00</td>\n",
       "      <td>0.00</td>\n",
       "      <td>0.00</td>\n",
       "      <td>0.00</td>\n",
       "      <td>0.00</td>\n",
       "      <td>0.00</td>\n",
       "      <td>0.00</td>\n",
       "      <td>0.00</td>\n",
       "      <td>0.0</td>\n",
       "      <td>0.0</td>\n",
       "      <td>0.0</td>\n",
       "      <td>0.0</td>\n",
       "      <td>0.0</td>\n",
       "      <td>0.00</td>\n",
       "      <td>0.00</td>\n",
       "      <td>0.00</td>\n",
       "      <td>0.0</td>\n",
       "      <td>0.00</td>\n",
       "      <td>0.0</td>\n",
       "      <td>0.00</td>\n",
       "      <td>30.73</td>\n",
       "      <td>31.66</td>\n",
       "      <td>0.00</td>\n",
       "      <td>0.0</td>\n",
       "      <td>0.0</td>\n",
       "      <td>0.00</td>\n",
       "      <td>30.73</td>\n",
       "      <td>31.66</td>\n",
       "      <td>1.68</td>\n",
       "      <td>19.09</td>\n",
       "      <td>10.53</td>\n",
       "      <td>1.41</td>\n",
       "      <td>18.68</td>\n",
       "      <td>11.09</td>\n",
       "      <td>0.35</td>\n",
       "      <td>1.66</td>\n",
       "      <td>3.40</td>\n",
       "      <td>3.44</td>\n",
       "      <td>39.44</td>\n",
       "      <td>25.03</td>\n",
       "      <td>0.00</td>\n",
       "      <td>0.00</td>\n",
       "      <td>0.00</td>\n",
       "      <td>0.00</td>\n",
       "      <td>0.00</td>\n",
       "      <td>0.00</td>\n",
       "      <td>0.0</td>\n",
       "      <td>0.00</td>\n",
       "      <td>0.00</td>\n",
       "      <td>0.0</td>\n",
       "      <td>0.0</td>\n",
       "      <td>0.0</td>\n",
       "      <td>0.00</td>\n",
       "      <td>0.00</td>\n",
       "      <td>0.00</td>\n",
       "      <td>3.44</td>\n",
       "      <td>39.44</td>\n",
       "      <td>25.04</td>\n",
       "      <td>0.00</td>\n",
       "      <td>0.0</td>\n",
       "      <td>0.01</td>\n",
       "      <td>0.00</td>\n",
       "      <td>0.00</td>\n",
       "      <td>0.00</td>\n",
       "      <td>0.00</td>\n",
       "      <td>0.00</td>\n",
       "      <td>0.00</td>\n",
       "      <td>3</td>\n",
       "      <td>4</td>\n",
       "      <td>5</td>\n",
       "      <td>0</td>\n",
       "      <td>145</td>\n",
       "      <td>50</td>\n",
       "      <td>0</td>\n",
       "      <td>145</td>\n",
       "      <td>50</td>\n",
       "      <td>6/12/2014</td>\n",
       "      <td>7/10/2014</td>\n",
       "      <td>8/26/2014</td>\n",
       "      <td>0</td>\n",
       "      <td>0</td>\n",
       "      <td>0</td>\n",
       "      <td>NaN</td>\n",
       "      <td>7/8/2014</td>\n",
       "      <td>NaN</td>\n",
       "      <td>NaN</td>\n",
       "      <td>1.0</td>\n",
       "      <td>NaN</td>\n",
       "      <td>NaN</td>\n",
       "      <td>145.0</td>\n",
       "      <td>NaN</td>\n",
       "      <td>NaN</td>\n",
       "      <td>0.0</td>\n",
       "      <td>NaN</td>\n",
       "      <td>NaN</td>\n",
       "      <td>1.0</td>\n",
       "      <td>NaN</td>\n",
       "      <td>NaN</td>\n",
       "      <td>145.0</td>\n",
       "      <td>NaN</td>\n",
       "      <td>0.0</td>\n",
       "      <td>352.91</td>\n",
       "      <td>0.00</td>\n",
       "      <td>0.0</td>\n",
       "      <td>3.96</td>\n",
       "      <td>0.0</td>\n",
       "      <td>NaN</td>\n",
       "      <td>122.07</td>\n",
       "      <td>NaN</td>\n",
       "      <td>NaN</td>\n",
       "      <td>122.08</td>\n",
       "      <td>NaN</td>\n",
       "      <td>NaN</td>\n",
       "      <td>0.0</td>\n",
       "      <td>NaN</td>\n",
       "      <td>0</td>\n",
       "      <td>0</td>\n",
       "      <td>0</td>\n",
       "      <td>0</td>\n",
       "      <td>0</td>\n",
       "      <td>0</td>\n",
       "      <td>0</td>\n",
       "      <td>1</td>\n",
       "      <td>0</td>\n",
       "      <td>0</td>\n",
       "      <td>0</td>\n",
       "      <td>0</td>\n",
       "      <td>NaN</td>\n",
       "      <td>1.0</td>\n",
       "      <td>NaN</td>\n",
       "      <td>710</td>\n",
       "      <td>0.0</td>\n",
       "      <td>0.0</td>\n",
       "      <td>0.0</td>\n",
       "      <td>0</td>\n",
       "    </tr>\n",
       "    <tr>\n",
       "      <th>2</th>\n",
       "      <td>2</td>\n",
       "      <td>109</td>\n",
       "      <td>0.0</td>\n",
       "      <td>0.0</td>\n",
       "      <td>0.0</td>\n",
       "      <td>6/30/2014</td>\n",
       "      <td>7/31/2014</td>\n",
       "      <td>8/31/2014</td>\n",
       "      <td>60.806</td>\n",
       "      <td>103.176</td>\n",
       "      <td>0.000</td>\n",
       "      <td>0.53</td>\n",
       "      <td>15.93</td>\n",
       "      <td>0.00</td>\n",
       "      <td>53.99</td>\n",
       "      <td>82.05</td>\n",
       "      <td>0.00</td>\n",
       "      <td>0.00</td>\n",
       "      <td>0.0</td>\n",
       "      <td>0.0</td>\n",
       "      <td>0.00</td>\n",
       "      <td>0.0</td>\n",
       "      <td>0.00</td>\n",
       "      <td>0.53</td>\n",
       "      <td>12.98</td>\n",
       "      <td>0.00</td>\n",
       "      <td>24.11</td>\n",
       "      <td>0.00</td>\n",
       "      <td>0.00</td>\n",
       "      <td>0.00</td>\n",
       "      <td>0.00</td>\n",
       "      <td>0.00</td>\n",
       "      <td>2.14</td>\n",
       "      <td>0.00</td>\n",
       "      <td>0.00</td>\n",
       "      <td>24.64</td>\n",
       "      <td>12.98</td>\n",
       "      <td>0.00</td>\n",
       "      <td>0.00</td>\n",
       "      <td>2.94</td>\n",
       "      <td>0.00</td>\n",
       "      <td>28.94</td>\n",
       "      <td>82.05</td>\n",
       "      <td>0.00</td>\n",
       "      <td>0.00</td>\n",
       "      <td>0.0</td>\n",
       "      <td>0.0</td>\n",
       "      <td>0.0</td>\n",
       "      <td>0.0</td>\n",
       "      <td>0.0</td>\n",
       "      <td>28.94</td>\n",
       "      <td>84.99</td>\n",
       "      <td>0.00</td>\n",
       "      <td>0.0</td>\n",
       "      <td>0.00</td>\n",
       "      <td>0.0</td>\n",
       "      <td>2.89</td>\n",
       "      <td>1.38</td>\n",
       "      <td>0.00</td>\n",
       "      <td>0.00</td>\n",
       "      <td>0.0</td>\n",
       "      <td>0.0</td>\n",
       "      <td>56.49</td>\n",
       "      <td>99.36</td>\n",
       "      <td>0.00</td>\n",
       "      <td>4.51</td>\n",
       "      <td>6.16</td>\n",
       "      <td>6.49</td>\n",
       "      <td>89.86</td>\n",
       "      <td>25.18</td>\n",
       "      <td>23.51</td>\n",
       "      <td>0.00</td>\n",
       "      <td>0.00</td>\n",
       "      <td>0.00</td>\n",
       "      <td>94.38</td>\n",
       "      <td>31.34</td>\n",
       "      <td>30.01</td>\n",
       "      <td>11.69</td>\n",
       "      <td>0.00</td>\n",
       "      <td>0.00</td>\n",
       "      <td>18.21</td>\n",
       "      <td>2.48</td>\n",
       "      <td>6.38</td>\n",
       "      <td>0.0</td>\n",
       "      <td>0.00</td>\n",
       "      <td>0.00</td>\n",
       "      <td>0.0</td>\n",
       "      <td>0.0</td>\n",
       "      <td>0.0</td>\n",
       "      <td>29.91</td>\n",
       "      <td>2.48</td>\n",
       "      <td>6.38</td>\n",
       "      <td>124.29</td>\n",
       "      <td>33.83</td>\n",
       "      <td>36.64</td>\n",
       "      <td>0.00</td>\n",
       "      <td>0.0</td>\n",
       "      <td>0.00</td>\n",
       "      <td>0.00</td>\n",
       "      <td>0.00</td>\n",
       "      <td>0.00</td>\n",
       "      <td>0.00</td>\n",
       "      <td>0.00</td>\n",
       "      <td>0.25</td>\n",
       "      <td>2</td>\n",
       "      <td>4</td>\n",
       "      <td>2</td>\n",
       "      <td>70</td>\n",
       "      <td>120</td>\n",
       "      <td>0</td>\n",
       "      <td>70</td>\n",
       "      <td>70</td>\n",
       "      <td>0</td>\n",
       "      <td>6/11/2014</td>\n",
       "      <td>7/22/2014</td>\n",
       "      <td>8/24/2014</td>\n",
       "      <td>70</td>\n",
       "      <td>50</td>\n",
       "      <td>0</td>\n",
       "      <td>NaN</td>\n",
       "      <td>NaN</td>\n",
       "      <td>NaN</td>\n",
       "      <td>NaN</td>\n",
       "      <td>NaN</td>\n",
       "      <td>NaN</td>\n",
       "      <td>NaN</td>\n",
       "      <td>NaN</td>\n",
       "      <td>NaN</td>\n",
       "      <td>NaN</td>\n",
       "      <td>NaN</td>\n",
       "      <td>NaN</td>\n",
       "      <td>NaN</td>\n",
       "      <td>NaN</td>\n",
       "      <td>NaN</td>\n",
       "      <td>NaN</td>\n",
       "      <td>NaN</td>\n",
       "      <td>NaN</td>\n",
       "      <td>0.0</td>\n",
       "      <td>0.00</td>\n",
       "      <td>0.00</td>\n",
       "      <td>0.0</td>\n",
       "      <td>0.00</td>\n",
       "      <td>0.0</td>\n",
       "      <td>NaN</td>\n",
       "      <td>NaN</td>\n",
       "      <td>NaN</td>\n",
       "      <td>NaN</td>\n",
       "      <td>NaN</td>\n",
       "      <td>NaN</td>\n",
       "      <td>NaN</td>\n",
       "      <td>NaN</td>\n",
       "      <td>NaN</td>\n",
       "      <td>0</td>\n",
       "      <td>0</td>\n",
       "      <td>0</td>\n",
       "      <td>0</td>\n",
       "      <td>0</td>\n",
       "      <td>0</td>\n",
       "      <td>0</td>\n",
       "      <td>0</td>\n",
       "      <td>0</td>\n",
       "      <td>0</td>\n",
       "      <td>0</td>\n",
       "      <td>0</td>\n",
       "      <td>NaN</td>\n",
       "      <td>NaN</td>\n",
       "      <td>NaN</td>\n",
       "      <td>882</td>\n",
       "      <td>0.0</td>\n",
       "      <td>0.0</td>\n",
       "      <td>0.0</td>\n",
       "      <td>0</td>\n",
       "    </tr>\n",
       "    <tr>\n",
       "      <th>3</th>\n",
       "      <td>3</td>\n",
       "      <td>109</td>\n",
       "      <td>0.0</td>\n",
       "      <td>0.0</td>\n",
       "      <td>0.0</td>\n",
       "      <td>6/30/2014</td>\n",
       "      <td>7/31/2014</td>\n",
       "      <td>8/31/2014</td>\n",
       "      <td>156.362</td>\n",
       "      <td>205.260</td>\n",
       "      <td>111.095</td>\n",
       "      <td>7.26</td>\n",
       "      <td>16.01</td>\n",
       "      <td>0.00</td>\n",
       "      <td>68.76</td>\n",
       "      <td>78.48</td>\n",
       "      <td>50.23</td>\n",
       "      <td>0.00</td>\n",
       "      <td>0.0</td>\n",
       "      <td>0.0</td>\n",
       "      <td>0.00</td>\n",
       "      <td>0.0</td>\n",
       "      <td>1.63</td>\n",
       "      <td>6.99</td>\n",
       "      <td>3.94</td>\n",
       "      <td>0.00</td>\n",
       "      <td>37.91</td>\n",
       "      <td>44.89</td>\n",
       "      <td>23.63</td>\n",
       "      <td>0.00</td>\n",
       "      <td>0.00</td>\n",
       "      <td>0.00</td>\n",
       "      <td>0.00</td>\n",
       "      <td>0.00</td>\n",
       "      <td>8.03</td>\n",
       "      <td>44.91</td>\n",
       "      <td>48.84</td>\n",
       "      <td>23.63</td>\n",
       "      <td>0.26</td>\n",
       "      <td>12.06</td>\n",
       "      <td>0.00</td>\n",
       "      <td>15.33</td>\n",
       "      <td>25.93</td>\n",
       "      <td>4.60</td>\n",
       "      <td>0.56</td>\n",
       "      <td>0.0</td>\n",
       "      <td>0.0</td>\n",
       "      <td>0.0</td>\n",
       "      <td>0.0</td>\n",
       "      <td>0.0</td>\n",
       "      <td>16.16</td>\n",
       "      <td>37.99</td>\n",
       "      <td>4.60</td>\n",
       "      <td>0.0</td>\n",
       "      <td>0.00</td>\n",
       "      <td>0.0</td>\n",
       "      <td>14.95</td>\n",
       "      <td>9.13</td>\n",
       "      <td>25.61</td>\n",
       "      <td>0.00</td>\n",
       "      <td>0.0</td>\n",
       "      <td>0.0</td>\n",
       "      <td>76.03</td>\n",
       "      <td>95.98</td>\n",
       "      <td>53.84</td>\n",
       "      <td>24.98</td>\n",
       "      <td>4.84</td>\n",
       "      <td>23.88</td>\n",
       "      <td>53.99</td>\n",
       "      <td>44.23</td>\n",
       "      <td>57.14</td>\n",
       "      <td>7.23</td>\n",
       "      <td>0.81</td>\n",
       "      <td>0.00</td>\n",
       "      <td>86.21</td>\n",
       "      <td>49.89</td>\n",
       "      <td>81.03</td>\n",
       "      <td>0.00</td>\n",
       "      <td>0.00</td>\n",
       "      <td>0.00</td>\n",
       "      <td>8.89</td>\n",
       "      <td>0.28</td>\n",
       "      <td>2.81</td>\n",
       "      <td>0.0</td>\n",
       "      <td>0.00</td>\n",
       "      <td>0.00</td>\n",
       "      <td>0.0</td>\n",
       "      <td>0.0</td>\n",
       "      <td>0.0</td>\n",
       "      <td>8.89</td>\n",
       "      <td>0.28</td>\n",
       "      <td>2.81</td>\n",
       "      <td>95.11</td>\n",
       "      <td>50.18</td>\n",
       "      <td>83.84</td>\n",
       "      <td>0.00</td>\n",
       "      <td>0.0</td>\n",
       "      <td>0.00</td>\n",
       "      <td>0.00</td>\n",
       "      <td>0.00</td>\n",
       "      <td>0.00</td>\n",
       "      <td>0.00</td>\n",
       "      <td>0.00</td>\n",
       "      <td>0.00</td>\n",
       "      <td>2</td>\n",
       "      <td>4</td>\n",
       "      <td>3</td>\n",
       "      <td>160</td>\n",
       "      <td>240</td>\n",
       "      <td>130</td>\n",
       "      <td>110</td>\n",
       "      <td>110</td>\n",
       "      <td>50</td>\n",
       "      <td>6/15/2014</td>\n",
       "      <td>7/21/2014</td>\n",
       "      <td>8/25/2014</td>\n",
       "      <td>110</td>\n",
       "      <td>110</td>\n",
       "      <td>50</td>\n",
       "      <td>NaN</td>\n",
       "      <td>NaN</td>\n",
       "      <td>NaN</td>\n",
       "      <td>NaN</td>\n",
       "      <td>NaN</td>\n",
       "      <td>NaN</td>\n",
       "      <td>NaN</td>\n",
       "      <td>NaN</td>\n",
       "      <td>NaN</td>\n",
       "      <td>NaN</td>\n",
       "      <td>NaN</td>\n",
       "      <td>NaN</td>\n",
       "      <td>NaN</td>\n",
       "      <td>NaN</td>\n",
       "      <td>NaN</td>\n",
       "      <td>NaN</td>\n",
       "      <td>NaN</td>\n",
       "      <td>NaN</td>\n",
       "      <td>0.0</td>\n",
       "      <td>0.00</td>\n",
       "      <td>0.00</td>\n",
       "      <td>0.0</td>\n",
       "      <td>0.00</td>\n",
       "      <td>0.0</td>\n",
       "      <td>NaN</td>\n",
       "      <td>NaN</td>\n",
       "      <td>NaN</td>\n",
       "      <td>NaN</td>\n",
       "      <td>NaN</td>\n",
       "      <td>NaN</td>\n",
       "      <td>NaN</td>\n",
       "      <td>NaN</td>\n",
       "      <td>NaN</td>\n",
       "      <td>0</td>\n",
       "      <td>0</td>\n",
       "      <td>0</td>\n",
       "      <td>0</td>\n",
       "      <td>0</td>\n",
       "      <td>0</td>\n",
       "      <td>0</td>\n",
       "      <td>0</td>\n",
       "      <td>0</td>\n",
       "      <td>0</td>\n",
       "      <td>0</td>\n",
       "      <td>0</td>\n",
       "      <td>NaN</td>\n",
       "      <td>NaN</td>\n",
       "      <td>NaN</td>\n",
       "      <td>982</td>\n",
       "      <td>0.0</td>\n",
       "      <td>0.0</td>\n",
       "      <td>0.0</td>\n",
       "      <td>0</td>\n",
       "    </tr>\n",
       "    <tr>\n",
       "      <th>4</th>\n",
       "      <td>4</td>\n",
       "      <td>109</td>\n",
       "      <td>0.0</td>\n",
       "      <td>0.0</td>\n",
       "      <td>0.0</td>\n",
       "      <td>6/30/2014</td>\n",
       "      <td>7/31/2014</td>\n",
       "      <td>8/31/2014</td>\n",
       "      <td>240.708</td>\n",
       "      <td>128.191</td>\n",
       "      <td>101.565</td>\n",
       "      <td>21.28</td>\n",
       "      <td>4.83</td>\n",
       "      <td>6.13</td>\n",
       "      <td>56.99</td>\n",
       "      <td>38.11</td>\n",
       "      <td>9.63</td>\n",
       "      <td>53.64</td>\n",
       "      <td>0.0</td>\n",
       "      <td>0.0</td>\n",
       "      <td>15.73</td>\n",
       "      <td>0.0</td>\n",
       "      <td>0.00</td>\n",
       "      <td>10.16</td>\n",
       "      <td>4.83</td>\n",
       "      <td>6.13</td>\n",
       "      <td>36.74</td>\n",
       "      <td>19.88</td>\n",
       "      <td>4.61</td>\n",
       "      <td>11.99</td>\n",
       "      <td>1.23</td>\n",
       "      <td>5.01</td>\n",
       "      <td>0.00</td>\n",
       "      <td>9.85</td>\n",
       "      <td>0.00</td>\n",
       "      <td>58.91</td>\n",
       "      <td>25.94</td>\n",
       "      <td>15.76</td>\n",
       "      <td>0.00</td>\n",
       "      <td>0.00</td>\n",
       "      <td>0.00</td>\n",
       "      <td>4.35</td>\n",
       "      <td>0.00</td>\n",
       "      <td>0.00</td>\n",
       "      <td>0.00</td>\n",
       "      <td>0.0</td>\n",
       "      <td>0.0</td>\n",
       "      <td>0.0</td>\n",
       "      <td>0.0</td>\n",
       "      <td>0.0</td>\n",
       "      <td>4.35</td>\n",
       "      <td>0.00</td>\n",
       "      <td>0.00</td>\n",
       "      <td>0.0</td>\n",
       "      <td>0.00</td>\n",
       "      <td>0.0</td>\n",
       "      <td>0.00</td>\n",
       "      <td>17.00</td>\n",
       "      <td>0.00</td>\n",
       "      <td>0.00</td>\n",
       "      <td>0.0</td>\n",
       "      <td>0.0</td>\n",
       "      <td>63.26</td>\n",
       "      <td>42.94</td>\n",
       "      <td>15.76</td>\n",
       "      <td>5.44</td>\n",
       "      <td>1.39</td>\n",
       "      <td>2.66</td>\n",
       "      <td>10.58</td>\n",
       "      <td>4.33</td>\n",
       "      <td>19.49</td>\n",
       "      <td>5.51</td>\n",
       "      <td>3.63</td>\n",
       "      <td>6.14</td>\n",
       "      <td>21.54</td>\n",
       "      <td>9.36</td>\n",
       "      <td>28.31</td>\n",
       "      <td>0.00</td>\n",
       "      <td>0.00</td>\n",
       "      <td>0.00</td>\n",
       "      <td>0.00</td>\n",
       "      <td>0.00</td>\n",
       "      <td>0.00</td>\n",
       "      <td>0.0</td>\n",
       "      <td>0.00</td>\n",
       "      <td>0.00</td>\n",
       "      <td>0.0</td>\n",
       "      <td>0.0</td>\n",
       "      <td>0.0</td>\n",
       "      <td>0.00</td>\n",
       "      <td>0.00</td>\n",
       "      <td>0.00</td>\n",
       "      <td>21.54</td>\n",
       "      <td>9.36</td>\n",
       "      <td>28.31</td>\n",
       "      <td>0.00</td>\n",
       "      <td>0.0</td>\n",
       "      <td>0.00</td>\n",
       "      <td>0.00</td>\n",
       "      <td>0.00</td>\n",
       "      <td>0.00</td>\n",
       "      <td>0.00</td>\n",
       "      <td>0.00</td>\n",
       "      <td>0.00</td>\n",
       "      <td>13</td>\n",
       "      <td>10</td>\n",
       "      <td>8</td>\n",
       "      <td>290</td>\n",
       "      <td>136</td>\n",
       "      <td>122</td>\n",
       "      <td>50</td>\n",
       "      <td>41</td>\n",
       "      <td>30</td>\n",
       "      <td>6/25/2014</td>\n",
       "      <td>7/26/2014</td>\n",
       "      <td>8/30/2014</td>\n",
       "      <td>25</td>\n",
       "      <td>10</td>\n",
       "      <td>30</td>\n",
       "      <td>6/25/2014</td>\n",
       "      <td>7/23/2014</td>\n",
       "      <td>8/20/2014</td>\n",
       "      <td>7.0</td>\n",
       "      <td>7.0</td>\n",
       "      <td>6.0</td>\n",
       "      <td>25.0</td>\n",
       "      <td>41.0</td>\n",
       "      <td>25.0</td>\n",
       "      <td>7.0</td>\n",
       "      <td>6.0</td>\n",
       "      <td>6.0</td>\n",
       "      <td>0.0</td>\n",
       "      <td>1.0</td>\n",
       "      <td>0.0</td>\n",
       "      <td>175.0</td>\n",
       "      <td>191.0</td>\n",
       "      <td>142.0</td>\n",
       "      <td>390.8</td>\n",
       "      <td>308.89</td>\n",
       "      <td>213.47</td>\n",
       "      <td>0.0</td>\n",
       "      <td>0.00</td>\n",
       "      <td>0.0</td>\n",
       "      <td>0.0</td>\n",
       "      <td>35.00</td>\n",
       "      <td>0.0</td>\n",
       "      <td>0.0</td>\n",
       "      <td>35.12</td>\n",
       "      <td>0.0</td>\n",
       "      <td>0.0</td>\n",
       "      <td>0.0</td>\n",
       "      <td>0.0</td>\n",
       "      <td>0</td>\n",
       "      <td>0</td>\n",
       "      <td>0</td>\n",
       "      <td>7</td>\n",
       "      <td>6</td>\n",
       "      <td>6</td>\n",
       "      <td>0</td>\n",
       "      <td>0</td>\n",
       "      <td>0</td>\n",
       "      <td>0</td>\n",
       "      <td>1</td>\n",
       "      <td>0</td>\n",
       "      <td>1.0</td>\n",
       "      <td>1.0</td>\n",
       "      <td>1.0</td>\n",
       "      <td>647</td>\n",
       "      <td>0.0</td>\n",
       "      <td>0.0</td>\n",
       "      <td>0.0</td>\n",
       "      <td>0</td>\n",
       "    </tr>\n",
       "    <tr>\n",
       "      <th>...</th>\n",
       "      <td>...</td>\n",
       "      <td>...</td>\n",
       "      <td>...</td>\n",
       "      <td>...</td>\n",
       "      <td>...</td>\n",
       "      <td>...</td>\n",
       "      <td>...</td>\n",
       "      <td>...</td>\n",
       "      <td>...</td>\n",
       "      <td>...</td>\n",
       "      <td>...</td>\n",
       "      <td>...</td>\n",
       "      <td>...</td>\n",
       "      <td>...</td>\n",
       "      <td>...</td>\n",
       "      <td>...</td>\n",
       "      <td>...</td>\n",
       "      <td>...</td>\n",
       "      <td>...</td>\n",
       "      <td>...</td>\n",
       "      <td>...</td>\n",
       "      <td>...</td>\n",
       "      <td>...</td>\n",
       "      <td>...</td>\n",
       "      <td>...</td>\n",
       "      <td>...</td>\n",
       "      <td>...</td>\n",
       "      <td>...</td>\n",
       "      <td>...</td>\n",
       "      <td>...</td>\n",
       "      <td>...</td>\n",
       "      <td>...</td>\n",
       "      <td>...</td>\n",
       "      <td>...</td>\n",
       "      <td>...</td>\n",
       "      <td>...</td>\n",
       "      <td>...</td>\n",
       "      <td>...</td>\n",
       "      <td>...</td>\n",
       "      <td>...</td>\n",
       "      <td>...</td>\n",
       "      <td>...</td>\n",
       "      <td>...</td>\n",
       "      <td>...</td>\n",
       "      <td>...</td>\n",
       "      <td>...</td>\n",
       "      <td>...</td>\n",
       "      <td>...</td>\n",
       "      <td>...</td>\n",
       "      <td>...</td>\n",
       "      <td>...</td>\n",
       "      <td>...</td>\n",
       "      <td>...</td>\n",
       "      <td>...</td>\n",
       "      <td>...</td>\n",
       "      <td>...</td>\n",
       "      <td>...</td>\n",
       "      <td>...</td>\n",
       "      <td>...</td>\n",
       "      <td>...</td>\n",
       "      <td>...</td>\n",
       "      <td>...</td>\n",
       "      <td>...</td>\n",
       "      <td>...</td>\n",
       "      <td>...</td>\n",
       "      <td>...</td>\n",
       "      <td>...</td>\n",
       "      <td>...</td>\n",
       "      <td>...</td>\n",
       "      <td>...</td>\n",
       "      <td>...</td>\n",
       "      <td>...</td>\n",
       "      <td>...</td>\n",
       "      <td>...</td>\n",
       "      <td>...</td>\n",
       "      <td>...</td>\n",
       "      <td>...</td>\n",
       "      <td>...</td>\n",
       "      <td>...</td>\n",
       "      <td>...</td>\n",
       "      <td>...</td>\n",
       "      <td>...</td>\n",
       "      <td>...</td>\n",
       "      <td>...</td>\n",
       "      <td>...</td>\n",
       "      <td>...</td>\n",
       "      <td>...</td>\n",
       "      <td>...</td>\n",
       "      <td>...</td>\n",
       "      <td>...</td>\n",
       "      <td>...</td>\n",
       "      <td>...</td>\n",
       "      <td>...</td>\n",
       "      <td>...</td>\n",
       "      <td>...</td>\n",
       "      <td>...</td>\n",
       "      <td>...</td>\n",
       "      <td>...</td>\n",
       "      <td>...</td>\n",
       "      <td>...</td>\n",
       "      <td>...</td>\n",
       "      <td>...</td>\n",
       "      <td>...</td>\n",
       "      <td>...</td>\n",
       "      <td>...</td>\n",
       "      <td>...</td>\n",
       "      <td>...</td>\n",
       "      <td>...</td>\n",
       "      <td>...</td>\n",
       "      <td>...</td>\n",
       "      <td>...</td>\n",
       "      <td>...</td>\n",
       "      <td>...</td>\n",
       "      <td>...</td>\n",
       "      <td>...</td>\n",
       "      <td>...</td>\n",
       "      <td>...</td>\n",
       "      <td>...</td>\n",
       "      <td>...</td>\n",
       "      <td>...</td>\n",
       "      <td>...</td>\n",
       "      <td>...</td>\n",
       "      <td>...</td>\n",
       "      <td>...</td>\n",
       "      <td>...</td>\n",
       "      <td>...</td>\n",
       "      <td>...</td>\n",
       "      <td>...</td>\n",
       "      <td>...</td>\n",
       "      <td>...</td>\n",
       "      <td>...</td>\n",
       "      <td>...</td>\n",
       "      <td>...</td>\n",
       "      <td>...</td>\n",
       "      <td>...</td>\n",
       "      <td>...</td>\n",
       "      <td>...</td>\n",
       "      <td>...</td>\n",
       "      <td>...</td>\n",
       "      <td>...</td>\n",
       "      <td>...</td>\n",
       "      <td>...</td>\n",
       "      <td>...</td>\n",
       "      <td>...</td>\n",
       "      <td>...</td>\n",
       "      <td>...</td>\n",
       "      <td>...</td>\n",
       "      <td>...</td>\n",
       "      <td>...</td>\n",
       "      <td>...</td>\n",
       "      <td>...</td>\n",
       "      <td>...</td>\n",
       "      <td>...</td>\n",
       "      <td>...</td>\n",
       "      <td>...</td>\n",
       "      <td>...</td>\n",
       "      <td>...</td>\n",
       "      <td>...</td>\n",
       "      <td>...</td>\n",
       "      <td>...</td>\n",
       "      <td>...</td>\n",
       "      <td>...</td>\n",
       "      <td>...</td>\n",
       "      <td>...</td>\n",
       "      <td>...</td>\n",
       "      <td>...</td>\n",
       "      <td>...</td>\n",
       "      <td>...</td>\n",
       "      <td>...</td>\n",
       "      <td>...</td>\n",
       "      <td>...</td>\n",
       "      <td>...</td>\n",
       "    </tr>\n",
       "    <tr>\n",
       "      <th>95</th>\n",
       "      <td>95</td>\n",
       "      <td>109</td>\n",
       "      <td>0.0</td>\n",
       "      <td>0.0</td>\n",
       "      <td>0.0</td>\n",
       "      <td>6/30/2014</td>\n",
       "      <td>7/31/2014</td>\n",
       "      <td>8/31/2014</td>\n",
       "      <td>0.000</td>\n",
       "      <td>46.770</td>\n",
       "      <td>187.134</td>\n",
       "      <td>NaN</td>\n",
       "      <td>3.36</td>\n",
       "      <td>18.26</td>\n",
       "      <td>NaN</td>\n",
       "      <td>21.03</td>\n",
       "      <td>186.86</td>\n",
       "      <td>NaN</td>\n",
       "      <td>0.0</td>\n",
       "      <td>0.0</td>\n",
       "      <td>NaN</td>\n",
       "      <td>0.0</td>\n",
       "      <td>0.00</td>\n",
       "      <td>NaN</td>\n",
       "      <td>3.36</td>\n",
       "      <td>18.26</td>\n",
       "      <td>NaN</td>\n",
       "      <td>18.96</td>\n",
       "      <td>151.41</td>\n",
       "      <td>NaN</td>\n",
       "      <td>2.06</td>\n",
       "      <td>35.44</td>\n",
       "      <td>NaN</td>\n",
       "      <td>0.00</td>\n",
       "      <td>0.00</td>\n",
       "      <td>NaN</td>\n",
       "      <td>24.39</td>\n",
       "      <td>205.13</td>\n",
       "      <td>NaN</td>\n",
       "      <td>0.00</td>\n",
       "      <td>0.00</td>\n",
       "      <td>NaN</td>\n",
       "      <td>0.00</td>\n",
       "      <td>0.00</td>\n",
       "      <td>NaN</td>\n",
       "      <td>0.0</td>\n",
       "      <td>0.0</td>\n",
       "      <td>NaN</td>\n",
       "      <td>0.0</td>\n",
       "      <td>0.0</td>\n",
       "      <td>NaN</td>\n",
       "      <td>0.00</td>\n",
       "      <td>0.00</td>\n",
       "      <td>NaN</td>\n",
       "      <td>0.00</td>\n",
       "      <td>0.0</td>\n",
       "      <td>NaN</td>\n",
       "      <td>1.85</td>\n",
       "      <td>0.00</td>\n",
       "      <td>NaN</td>\n",
       "      <td>0.0</td>\n",
       "      <td>0.0</td>\n",
       "      <td>0.00</td>\n",
       "      <td>26.24</td>\n",
       "      <td>205.13</td>\n",
       "      <td>NaN</td>\n",
       "      <td>0.00</td>\n",
       "      <td>22.96</td>\n",
       "      <td>NaN</td>\n",
       "      <td>100.31</td>\n",
       "      <td>260.69</td>\n",
       "      <td>NaN</td>\n",
       "      <td>0.00</td>\n",
       "      <td>8.61</td>\n",
       "      <td>NaN</td>\n",
       "      <td>100.31</td>\n",
       "      <td>292.28</td>\n",
       "      <td>NaN</td>\n",
       "      <td>0.00</td>\n",
       "      <td>0.00</td>\n",
       "      <td>NaN</td>\n",
       "      <td>0.00</td>\n",
       "      <td>1.25</td>\n",
       "      <td>NaN</td>\n",
       "      <td>0.00</td>\n",
       "      <td>4.56</td>\n",
       "      <td>NaN</td>\n",
       "      <td>0.0</td>\n",
       "      <td>0.0</td>\n",
       "      <td>NaN</td>\n",
       "      <td>0.00</td>\n",
       "      <td>5.81</td>\n",
       "      <td>0.00</td>\n",
       "      <td>100.31</td>\n",
       "      <td>298.09</td>\n",
       "      <td>NaN</td>\n",
       "      <td>0.0</td>\n",
       "      <td>0.00</td>\n",
       "      <td>NaN</td>\n",
       "      <td>0.00</td>\n",
       "      <td>0.00</td>\n",
       "      <td>NaN</td>\n",
       "      <td>0.00</td>\n",
       "      <td>0.00</td>\n",
       "      <td>0</td>\n",
       "      <td>1</td>\n",
       "      <td>2</td>\n",
       "      <td>0</td>\n",
       "      <td>0</td>\n",
       "      <td>250</td>\n",
       "      <td>0</td>\n",
       "      <td>0</td>\n",
       "      <td>250</td>\n",
       "      <td>NaN</td>\n",
       "      <td>7/27/2014</td>\n",
       "      <td>8/25/2014</td>\n",
       "      <td>0</td>\n",
       "      <td>0</td>\n",
       "      <td>0</td>\n",
       "      <td>NaN</td>\n",
       "      <td>NaN</td>\n",
       "      <td>NaN</td>\n",
       "      <td>NaN</td>\n",
       "      <td>NaN</td>\n",
       "      <td>NaN</td>\n",
       "      <td>NaN</td>\n",
       "      <td>NaN</td>\n",
       "      <td>NaN</td>\n",
       "      <td>NaN</td>\n",
       "      <td>NaN</td>\n",
       "      <td>NaN</td>\n",
       "      <td>NaN</td>\n",
       "      <td>NaN</td>\n",
       "      <td>NaN</td>\n",
       "      <td>NaN</td>\n",
       "      <td>NaN</td>\n",
       "      <td>NaN</td>\n",
       "      <td>0.0</td>\n",
       "      <td>0.00</td>\n",
       "      <td>0.00</td>\n",
       "      <td>0.0</td>\n",
       "      <td>0.00</td>\n",
       "      <td>0.0</td>\n",
       "      <td>NaN</td>\n",
       "      <td>NaN</td>\n",
       "      <td>NaN</td>\n",
       "      <td>NaN</td>\n",
       "      <td>NaN</td>\n",
       "      <td>NaN</td>\n",
       "      <td>NaN</td>\n",
       "      <td>NaN</td>\n",
       "      <td>NaN</td>\n",
       "      <td>0</td>\n",
       "      <td>0</td>\n",
       "      <td>0</td>\n",
       "      <td>0</td>\n",
       "      <td>0</td>\n",
       "      <td>0</td>\n",
       "      <td>0</td>\n",
       "      <td>0</td>\n",
       "      <td>0</td>\n",
       "      <td>0</td>\n",
       "      <td>0</td>\n",
       "      <td>0</td>\n",
       "      <td>NaN</td>\n",
       "      <td>NaN</td>\n",
       "      <td>NaN</td>\n",
       "      <td>3234</td>\n",
       "      <td>0.0</td>\n",
       "      <td>0.0</td>\n",
       "      <td>0.0</td>\n",
       "      <td>0</td>\n",
       "    </tr>\n",
       "    <tr>\n",
       "      <th>96</th>\n",
       "      <td>96</td>\n",
       "      <td>109</td>\n",
       "      <td>0.0</td>\n",
       "      <td>0.0</td>\n",
       "      <td>0.0</td>\n",
       "      <td>6/30/2014</td>\n",
       "      <td>7/31/2014</td>\n",
       "      <td>8/31/2014</td>\n",
       "      <td>589.222</td>\n",
       "      <td>460.000</td>\n",
       "      <td>447.251</td>\n",
       "      <td>174.76</td>\n",
       "      <td>85.28</td>\n",
       "      <td>69.83</td>\n",
       "      <td>960.78</td>\n",
       "      <td>706.88</td>\n",
       "      <td>548.19</td>\n",
       "      <td>0.00</td>\n",
       "      <td>0.0</td>\n",
       "      <td>0.0</td>\n",
       "      <td>0.00</td>\n",
       "      <td>0.0</td>\n",
       "      <td>0.00</td>\n",
       "      <td>174.76</td>\n",
       "      <td>85.28</td>\n",
       "      <td>69.83</td>\n",
       "      <td>585.46</td>\n",
       "      <td>279.44</td>\n",
       "      <td>257.39</td>\n",
       "      <td>0.00</td>\n",
       "      <td>0.00</td>\n",
       "      <td>3.05</td>\n",
       "      <td>0.00</td>\n",
       "      <td>0.00</td>\n",
       "      <td>2.40</td>\n",
       "      <td>760.23</td>\n",
       "      <td>364.73</td>\n",
       "      <td>330.28</td>\n",
       "      <td>0.00</td>\n",
       "      <td>0.00</td>\n",
       "      <td>0.00</td>\n",
       "      <td>360.33</td>\n",
       "      <td>423.29</td>\n",
       "      <td>279.48</td>\n",
       "      <td>0.00</td>\n",
       "      <td>0.0</td>\n",
       "      <td>0.0</td>\n",
       "      <td>0.0</td>\n",
       "      <td>0.0</td>\n",
       "      <td>0.0</td>\n",
       "      <td>360.33</td>\n",
       "      <td>423.29</td>\n",
       "      <td>279.48</td>\n",
       "      <td>0.0</td>\n",
       "      <td>0.00</td>\n",
       "      <td>0.0</td>\n",
       "      <td>16.11</td>\n",
       "      <td>4.66</td>\n",
       "      <td>10.66</td>\n",
       "      <td>2.11</td>\n",
       "      <td>0.0</td>\n",
       "      <td>0.0</td>\n",
       "      <td>1138.79</td>\n",
       "      <td>792.69</td>\n",
       "      <td>620.43</td>\n",
       "      <td>193.13</td>\n",
       "      <td>49.34</td>\n",
       "      <td>47.58</td>\n",
       "      <td>472.69</td>\n",
       "      <td>202.43</td>\n",
       "      <td>131.71</td>\n",
       "      <td>4.58</td>\n",
       "      <td>0.00</td>\n",
       "      <td>10.96</td>\n",
       "      <td>670.41</td>\n",
       "      <td>251.78</td>\n",
       "      <td>190.26</td>\n",
       "      <td>0.41</td>\n",
       "      <td>0.00</td>\n",
       "      <td>0.00</td>\n",
       "      <td>5.73</td>\n",
       "      <td>8.56</td>\n",
       "      <td>39.81</td>\n",
       "      <td>0.0</td>\n",
       "      <td>0.00</td>\n",
       "      <td>0.00</td>\n",
       "      <td>0.0</td>\n",
       "      <td>0.0</td>\n",
       "      <td>0.0</td>\n",
       "      <td>6.14</td>\n",
       "      <td>8.56</td>\n",
       "      <td>39.81</td>\n",
       "      <td>676.58</td>\n",
       "      <td>278.04</td>\n",
       "      <td>231.74</td>\n",
       "      <td>0.00</td>\n",
       "      <td>0.0</td>\n",
       "      <td>0.00</td>\n",
       "      <td>0.01</td>\n",
       "      <td>17.69</td>\n",
       "      <td>1.66</td>\n",
       "      <td>0.00</td>\n",
       "      <td>0.00</td>\n",
       "      <td>0.00</td>\n",
       "      <td>7</td>\n",
       "      <td>2</td>\n",
       "      <td>6</td>\n",
       "      <td>1017</td>\n",
       "      <td>0</td>\n",
       "      <td>617</td>\n",
       "      <td>550</td>\n",
       "      <td>0</td>\n",
       "      <td>550</td>\n",
       "      <td>6/28/2014</td>\n",
       "      <td>7/26/2014</td>\n",
       "      <td>8/31/2014</td>\n",
       "      <td>550</td>\n",
       "      <td>0</td>\n",
       "      <td>0</td>\n",
       "      <td>6/23/2014</td>\n",
       "      <td>NaN</td>\n",
       "      <td>8/31/2014</td>\n",
       "      <td>1.0</td>\n",
       "      <td>NaN</td>\n",
       "      <td>4.0</td>\n",
       "      <td>25.0</td>\n",
       "      <td>NaN</td>\n",
       "      <td>25.0</td>\n",
       "      <td>1.0</td>\n",
       "      <td>NaN</td>\n",
       "      <td>4.0</td>\n",
       "      <td>0.0</td>\n",
       "      <td>NaN</td>\n",
       "      <td>0.0</td>\n",
       "      <td>25.0</td>\n",
       "      <td>NaN</td>\n",
       "      <td>94.0</td>\n",
       "      <td>0.0</td>\n",
       "      <td>0.00</td>\n",
       "      <td>0.00</td>\n",
       "      <td>0.0</td>\n",
       "      <td>0.00</td>\n",
       "      <td>0.0</td>\n",
       "      <td>0.0</td>\n",
       "      <td>NaN</td>\n",
       "      <td>0.0</td>\n",
       "      <td>0.0</td>\n",
       "      <td>NaN</td>\n",
       "      <td>0.0</td>\n",
       "      <td>0.0</td>\n",
       "      <td>NaN</td>\n",
       "      <td>0.0</td>\n",
       "      <td>0</td>\n",
       "      <td>0</td>\n",
       "      <td>0</td>\n",
       "      <td>1</td>\n",
       "      <td>0</td>\n",
       "      <td>4</td>\n",
       "      <td>0</td>\n",
       "      <td>0</td>\n",
       "      <td>0</td>\n",
       "      <td>0</td>\n",
       "      <td>0</td>\n",
       "      <td>0</td>\n",
       "      <td>0.0</td>\n",
       "      <td>NaN</td>\n",
       "      <td>0.0</td>\n",
       "      <td>943</td>\n",
       "      <td>0.0</td>\n",
       "      <td>0.0</td>\n",
       "      <td>0.0</td>\n",
       "      <td>0</td>\n",
       "    </tr>\n",
       "    <tr>\n",
       "      <th>97</th>\n",
       "      <td>97</td>\n",
       "      <td>109</td>\n",
       "      <td>0.0</td>\n",
       "      <td>0.0</td>\n",
       "      <td>0.0</td>\n",
       "      <td>6/30/2014</td>\n",
       "      <td>7/31/2014</td>\n",
       "      <td>8/31/2014</td>\n",
       "      <td>364.754</td>\n",
       "      <td>274.391</td>\n",
       "      <td>121.023</td>\n",
       "      <td>404.54</td>\n",
       "      <td>221.14</td>\n",
       "      <td>54.01</td>\n",
       "      <td>175.91</td>\n",
       "      <td>102.54</td>\n",
       "      <td>62.99</td>\n",
       "      <td>0.00</td>\n",
       "      <td>0.0</td>\n",
       "      <td>0.0</td>\n",
       "      <td>0.00</td>\n",
       "      <td>0.0</td>\n",
       "      <td>0.00</td>\n",
       "      <td>404.54</td>\n",
       "      <td>211.86</td>\n",
       "      <td>54.01</td>\n",
       "      <td>142.48</td>\n",
       "      <td>75.48</td>\n",
       "      <td>57.46</td>\n",
       "      <td>0.73</td>\n",
       "      <td>1.03</td>\n",
       "      <td>0.35</td>\n",
       "      <td>0.00</td>\n",
       "      <td>6.93</td>\n",
       "      <td>3.76</td>\n",
       "      <td>547.76</td>\n",
       "      <td>288.38</td>\n",
       "      <td>111.83</td>\n",
       "      <td>0.00</td>\n",
       "      <td>9.28</td>\n",
       "      <td>0.00</td>\n",
       "      <td>32.69</td>\n",
       "      <td>12.93</td>\n",
       "      <td>0.00</td>\n",
       "      <td>0.00</td>\n",
       "      <td>0.0</td>\n",
       "      <td>0.0</td>\n",
       "      <td>0.0</td>\n",
       "      <td>0.0</td>\n",
       "      <td>0.0</td>\n",
       "      <td>32.69</td>\n",
       "      <td>22.21</td>\n",
       "      <td>0.00</td>\n",
       "      <td>0.0</td>\n",
       "      <td>0.61</td>\n",
       "      <td>0.0</td>\n",
       "      <td>0.00</td>\n",
       "      <td>18.38</td>\n",
       "      <td>5.88</td>\n",
       "      <td>0.00</td>\n",
       "      <td>0.0</td>\n",
       "      <td>0.0</td>\n",
       "      <td>580.46</td>\n",
       "      <td>329.59</td>\n",
       "      <td>117.71</td>\n",
       "      <td>122.39</td>\n",
       "      <td>69.53</td>\n",
       "      <td>55.13</td>\n",
       "      <td>57.99</td>\n",
       "      <td>87.36</td>\n",
       "      <td>52.64</td>\n",
       "      <td>0.00</td>\n",
       "      <td>0.00</td>\n",
       "      <td>0.00</td>\n",
       "      <td>180.39</td>\n",
       "      <td>156.89</td>\n",
       "      <td>107.78</td>\n",
       "      <td>0.00</td>\n",
       "      <td>12.88</td>\n",
       "      <td>0.53</td>\n",
       "      <td>52.48</td>\n",
       "      <td>45.21</td>\n",
       "      <td>43.44</td>\n",
       "      <td>0.0</td>\n",
       "      <td>3.84</td>\n",
       "      <td>0.00</td>\n",
       "      <td>0.0</td>\n",
       "      <td>0.0</td>\n",
       "      <td>0.0</td>\n",
       "      <td>52.48</td>\n",
       "      <td>61.94</td>\n",
       "      <td>43.98</td>\n",
       "      <td>247.16</td>\n",
       "      <td>218.84</td>\n",
       "      <td>152.06</td>\n",
       "      <td>0.00</td>\n",
       "      <td>0.0</td>\n",
       "      <td>0.00</td>\n",
       "      <td>14.28</td>\n",
       "      <td>0.00</td>\n",
       "      <td>0.30</td>\n",
       "      <td>0.00</td>\n",
       "      <td>0.00</td>\n",
       "      <td>0.00</td>\n",
       "      <td>6</td>\n",
       "      <td>4</td>\n",
       "      <td>4</td>\n",
       "      <td>560</td>\n",
       "      <td>237</td>\n",
       "      <td>140</td>\n",
       "      <td>120</td>\n",
       "      <td>110</td>\n",
       "      <td>50</td>\n",
       "      <td>6/29/2014</td>\n",
       "      <td>7/27/2014</td>\n",
       "      <td>8/28/2014</td>\n",
       "      <td>110</td>\n",
       "      <td>50</td>\n",
       "      <td>30</td>\n",
       "      <td>NaN</td>\n",
       "      <td>NaN</td>\n",
       "      <td>NaN</td>\n",
       "      <td>NaN</td>\n",
       "      <td>NaN</td>\n",
       "      <td>NaN</td>\n",
       "      <td>NaN</td>\n",
       "      <td>NaN</td>\n",
       "      <td>NaN</td>\n",
       "      <td>NaN</td>\n",
       "      <td>NaN</td>\n",
       "      <td>NaN</td>\n",
       "      <td>NaN</td>\n",
       "      <td>NaN</td>\n",
       "      <td>NaN</td>\n",
       "      <td>NaN</td>\n",
       "      <td>NaN</td>\n",
       "      <td>NaN</td>\n",
       "      <td>0.0</td>\n",
       "      <td>0.00</td>\n",
       "      <td>0.00</td>\n",
       "      <td>0.0</td>\n",
       "      <td>0.00</td>\n",
       "      <td>0.0</td>\n",
       "      <td>NaN</td>\n",
       "      <td>NaN</td>\n",
       "      <td>NaN</td>\n",
       "      <td>NaN</td>\n",
       "      <td>NaN</td>\n",
       "      <td>NaN</td>\n",
       "      <td>NaN</td>\n",
       "      <td>NaN</td>\n",
       "      <td>NaN</td>\n",
       "      <td>0</td>\n",
       "      <td>0</td>\n",
       "      <td>0</td>\n",
       "      <td>0</td>\n",
       "      <td>0</td>\n",
       "      <td>0</td>\n",
       "      <td>0</td>\n",
       "      <td>0</td>\n",
       "      <td>0</td>\n",
       "      <td>0</td>\n",
       "      <td>0</td>\n",
       "      <td>0</td>\n",
       "      <td>NaN</td>\n",
       "      <td>NaN</td>\n",
       "      <td>NaN</td>\n",
       "      <td>1145</td>\n",
       "      <td>0.0</td>\n",
       "      <td>0.0</td>\n",
       "      <td>0.0</td>\n",
       "      <td>0</td>\n",
       "    </tr>\n",
       "    <tr>\n",
       "      <th>98</th>\n",
       "      <td>98</td>\n",
       "      <td>109</td>\n",
       "      <td>0.0</td>\n",
       "      <td>0.0</td>\n",
       "      <td>0.0</td>\n",
       "      <td>6/30/2014</td>\n",
       "      <td>7/31/2014</td>\n",
       "      <td>8/31/2014</td>\n",
       "      <td>1000.715</td>\n",
       "      <td>201.346</td>\n",
       "      <td>173.422</td>\n",
       "      <td>97.69</td>\n",
       "      <td>66.86</td>\n",
       "      <td>29.24</td>\n",
       "      <td>1901.56</td>\n",
       "      <td>259.61</td>\n",
       "      <td>206.01</td>\n",
       "      <td>0.00</td>\n",
       "      <td>0.0</td>\n",
       "      <td>0.0</td>\n",
       "      <td>0.00</td>\n",
       "      <td>0.0</td>\n",
       "      <td>0.00</td>\n",
       "      <td>97.69</td>\n",
       "      <td>66.86</td>\n",
       "      <td>27.21</td>\n",
       "      <td>407.33</td>\n",
       "      <td>46.26</td>\n",
       "      <td>121.98</td>\n",
       "      <td>4.64</td>\n",
       "      <td>0.00</td>\n",
       "      <td>0.00</td>\n",
       "      <td>0.00</td>\n",
       "      <td>7.73</td>\n",
       "      <td>0.00</td>\n",
       "      <td>509.68</td>\n",
       "      <td>113.13</td>\n",
       "      <td>149.19</td>\n",
       "      <td>0.00</td>\n",
       "      <td>0.00</td>\n",
       "      <td>2.03</td>\n",
       "      <td>1489.58</td>\n",
       "      <td>192.46</td>\n",
       "      <td>77.81</td>\n",
       "      <td>0.00</td>\n",
       "      <td>0.0</td>\n",
       "      <td>0.0</td>\n",
       "      <td>0.0</td>\n",
       "      <td>0.0</td>\n",
       "      <td>0.0</td>\n",
       "      <td>1489.58</td>\n",
       "      <td>192.46</td>\n",
       "      <td>79.84</td>\n",
       "      <td>0.0</td>\n",
       "      <td>0.00</td>\n",
       "      <td>0.0</td>\n",
       "      <td>0.00</td>\n",
       "      <td>20.88</td>\n",
       "      <td>6.21</td>\n",
       "      <td>0.00</td>\n",
       "      <td>0.0</td>\n",
       "      <td>0.0</td>\n",
       "      <td>1999.26</td>\n",
       "      <td>326.48</td>\n",
       "      <td>235.26</td>\n",
       "      <td>18.79</td>\n",
       "      <td>14.04</td>\n",
       "      <td>15.43</td>\n",
       "      <td>170.28</td>\n",
       "      <td>76.43</td>\n",
       "      <td>66.71</td>\n",
       "      <td>8.06</td>\n",
       "      <td>4.60</td>\n",
       "      <td>4.81</td>\n",
       "      <td>197.14</td>\n",
       "      <td>95.08</td>\n",
       "      <td>86.96</td>\n",
       "      <td>0.00</td>\n",
       "      <td>0.00</td>\n",
       "      <td>0.00</td>\n",
       "      <td>13.54</td>\n",
       "      <td>6.36</td>\n",
       "      <td>0.63</td>\n",
       "      <td>0.3</td>\n",
       "      <td>0.00</td>\n",
       "      <td>0.10</td>\n",
       "      <td>0.0</td>\n",
       "      <td>0.0</td>\n",
       "      <td>0.0</td>\n",
       "      <td>13.84</td>\n",
       "      <td>6.36</td>\n",
       "      <td>0.73</td>\n",
       "      <td>211.33</td>\n",
       "      <td>101.61</td>\n",
       "      <td>88.53</td>\n",
       "      <td>0.33</td>\n",
       "      <td>0.0</td>\n",
       "      <td>0.30</td>\n",
       "      <td>0.00</td>\n",
       "      <td>0.00</td>\n",
       "      <td>0.00</td>\n",
       "      <td>0.00</td>\n",
       "      <td>0.16</td>\n",
       "      <td>0.53</td>\n",
       "      <td>14</td>\n",
       "      <td>3</td>\n",
       "      <td>4</td>\n",
       "      <td>1212</td>\n",
       "      <td>145</td>\n",
       "      <td>260</td>\n",
       "      <td>128</td>\n",
       "      <td>128</td>\n",
       "      <td>130</td>\n",
       "      <td>6/30/2014</td>\n",
       "      <td>7/12/2014</td>\n",
       "      <td>8/29/2014</td>\n",
       "      <td>128</td>\n",
       "      <td>17</td>\n",
       "      <td>130</td>\n",
       "      <td>NaN</td>\n",
       "      <td>7/12/2014</td>\n",
       "      <td>NaN</td>\n",
       "      <td>NaN</td>\n",
       "      <td>1.0</td>\n",
       "      <td>NaN</td>\n",
       "      <td>NaN</td>\n",
       "      <td>17.0</td>\n",
       "      <td>NaN</td>\n",
       "      <td>NaN</td>\n",
       "      <td>1.0</td>\n",
       "      <td>NaN</td>\n",
       "      <td>NaN</td>\n",
       "      <td>0.0</td>\n",
       "      <td>NaN</td>\n",
       "      <td>NaN</td>\n",
       "      <td>17.0</td>\n",
       "      <td>NaN</td>\n",
       "      <td>0.0</td>\n",
       "      <td>0.01</td>\n",
       "      <td>0.00</td>\n",
       "      <td>0.0</td>\n",
       "      <td>0.00</td>\n",
       "      <td>0.0</td>\n",
       "      <td>NaN</td>\n",
       "      <td>0.00</td>\n",
       "      <td>NaN</td>\n",
       "      <td>NaN</td>\n",
       "      <td>0.04</td>\n",
       "      <td>NaN</td>\n",
       "      <td>NaN</td>\n",
       "      <td>0.0</td>\n",
       "      <td>NaN</td>\n",
       "      <td>0</td>\n",
       "      <td>0</td>\n",
       "      <td>0</td>\n",
       "      <td>0</td>\n",
       "      <td>1</td>\n",
       "      <td>0</td>\n",
       "      <td>0</td>\n",
       "      <td>0</td>\n",
       "      <td>0</td>\n",
       "      <td>0</td>\n",
       "      <td>0</td>\n",
       "      <td>0</td>\n",
       "      <td>NaN</td>\n",
       "      <td>1.0</td>\n",
       "      <td>NaN</td>\n",
       "      <td>382</td>\n",
       "      <td>0.0</td>\n",
       "      <td>0.0</td>\n",
       "      <td>0.0</td>\n",
       "      <td>0</td>\n",
       "    </tr>\n",
       "    <tr>\n",
       "      <th>99</th>\n",
       "      <td>99</td>\n",
       "      <td>109</td>\n",
       "      <td>0.0</td>\n",
       "      <td>0.0</td>\n",
       "      <td>0.0</td>\n",
       "      <td>6/30/2014</td>\n",
       "      <td>7/31/2014</td>\n",
       "      <td>8/31/2014</td>\n",
       "      <td>206.568</td>\n",
       "      <td>75.258</td>\n",
       "      <td>84.197</td>\n",
       "      <td>347.54</td>\n",
       "      <td>2.46</td>\n",
       "      <td>17.63</td>\n",
       "      <td>59.21</td>\n",
       "      <td>94.36</td>\n",
       "      <td>130.99</td>\n",
       "      <td>0.00</td>\n",
       "      <td>0.0</td>\n",
       "      <td>0.0</td>\n",
       "      <td>0.00</td>\n",
       "      <td>0.0</td>\n",
       "      <td>0.00</td>\n",
       "      <td>347.54</td>\n",
       "      <td>2.46</td>\n",
       "      <td>17.63</td>\n",
       "      <td>52.94</td>\n",
       "      <td>94.36</td>\n",
       "      <td>127.49</td>\n",
       "      <td>0.00</td>\n",
       "      <td>0.00</td>\n",
       "      <td>0.00</td>\n",
       "      <td>0.00</td>\n",
       "      <td>0.00</td>\n",
       "      <td>0.70</td>\n",
       "      <td>400.49</td>\n",
       "      <td>96.83</td>\n",
       "      <td>145.13</td>\n",
       "      <td>0.00</td>\n",
       "      <td>0.00</td>\n",
       "      <td>0.00</td>\n",
       "      <td>0.00</td>\n",
       "      <td>0.00</td>\n",
       "      <td>0.20</td>\n",
       "      <td>0.00</td>\n",
       "      <td>0.0</td>\n",
       "      <td>0.0</td>\n",
       "      <td>0.0</td>\n",
       "      <td>0.0</td>\n",
       "      <td>0.0</td>\n",
       "      <td>0.00</td>\n",
       "      <td>0.00</td>\n",
       "      <td>0.20</td>\n",
       "      <td>0.0</td>\n",
       "      <td>0.00</td>\n",
       "      <td>0.0</td>\n",
       "      <td>6.26</td>\n",
       "      <td>0.00</td>\n",
       "      <td>3.30</td>\n",
       "      <td>0.00</td>\n",
       "      <td>0.0</td>\n",
       "      <td>0.0</td>\n",
       "      <td>406.76</td>\n",
       "      <td>96.83</td>\n",
       "      <td>148.63</td>\n",
       "      <td>56.06</td>\n",
       "      <td>28.14</td>\n",
       "      <td>28.08</td>\n",
       "      <td>43.41</td>\n",
       "      <td>22.79</td>\n",
       "      <td>126.81</td>\n",
       "      <td>0.00</td>\n",
       "      <td>0.00</td>\n",
       "      <td>0.08</td>\n",
       "      <td>99.48</td>\n",
       "      <td>50.94</td>\n",
       "      <td>154.98</td>\n",
       "      <td>0.00</td>\n",
       "      <td>0.00</td>\n",
       "      <td>0.00</td>\n",
       "      <td>0.88</td>\n",
       "      <td>0.00</td>\n",
       "      <td>235.76</td>\n",
       "      <td>0.0</td>\n",
       "      <td>0.00</td>\n",
       "      <td>0.00</td>\n",
       "      <td>0.0</td>\n",
       "      <td>0.0</td>\n",
       "      <td>0.0</td>\n",
       "      <td>0.88</td>\n",
       "      <td>0.00</td>\n",
       "      <td>235.76</td>\n",
       "      <td>100.36</td>\n",
       "      <td>50.94</td>\n",
       "      <td>390.74</td>\n",
       "      <td>0.00</td>\n",
       "      <td>0.0</td>\n",
       "      <td>0.00</td>\n",
       "      <td>0.00</td>\n",
       "      <td>0.00</td>\n",
       "      <td>0.00</td>\n",
       "      <td>0.00</td>\n",
       "      <td>0.00</td>\n",
       "      <td>0.00</td>\n",
       "      <td>3</td>\n",
       "      <td>2</td>\n",
       "      <td>5</td>\n",
       "      <td>161</td>\n",
       "      <td>133</td>\n",
       "      <td>100</td>\n",
       "      <td>128</td>\n",
       "      <td>100</td>\n",
       "      <td>50</td>\n",
       "      <td>6/17/2014</td>\n",
       "      <td>7/29/2014</td>\n",
       "      <td>8/30/2014</td>\n",
       "      <td>128</td>\n",
       "      <td>100</td>\n",
       "      <td>50</td>\n",
       "      <td>NaN</td>\n",
       "      <td>NaN</td>\n",
       "      <td>NaN</td>\n",
       "      <td>NaN</td>\n",
       "      <td>NaN</td>\n",
       "      <td>NaN</td>\n",
       "      <td>NaN</td>\n",
       "      <td>NaN</td>\n",
       "      <td>NaN</td>\n",
       "      <td>NaN</td>\n",
       "      <td>NaN</td>\n",
       "      <td>NaN</td>\n",
       "      <td>NaN</td>\n",
       "      <td>NaN</td>\n",
       "      <td>NaN</td>\n",
       "      <td>NaN</td>\n",
       "      <td>NaN</td>\n",
       "      <td>NaN</td>\n",
       "      <td>0.0</td>\n",
       "      <td>0.00</td>\n",
       "      <td>0.00</td>\n",
       "      <td>0.0</td>\n",
       "      <td>0.00</td>\n",
       "      <td>0.0</td>\n",
       "      <td>NaN</td>\n",
       "      <td>NaN</td>\n",
       "      <td>NaN</td>\n",
       "      <td>NaN</td>\n",
       "      <td>NaN</td>\n",
       "      <td>NaN</td>\n",
       "      <td>NaN</td>\n",
       "      <td>NaN</td>\n",
       "      <td>NaN</td>\n",
       "      <td>0</td>\n",
       "      <td>0</td>\n",
       "      <td>0</td>\n",
       "      <td>0</td>\n",
       "      <td>0</td>\n",
       "      <td>0</td>\n",
       "      <td>0</td>\n",
       "      <td>0</td>\n",
       "      <td>0</td>\n",
       "      <td>0</td>\n",
       "      <td>0</td>\n",
       "      <td>0</td>\n",
       "      <td>NaN</td>\n",
       "      <td>NaN</td>\n",
       "      <td>NaN</td>\n",
       "      <td>2372</td>\n",
       "      <td>0.0</td>\n",
       "      <td>0.0</td>\n",
       "      <td>0.0</td>\n",
       "      <td>0</td>\n",
       "    </tr>\n",
       "  </tbody>\n",
       "</table>\n",
       "<p>100 rows × 172 columns</p>\n",
       "</div>"
      ],
      "text/plain": [
       "    id  circle_id  loc_og_t2o_mou  std_og_t2o_mou  loc_ic_t2o_mou  \\\n",
       "0    0        109             0.0             0.0             0.0   \n",
       "1    1        109             0.0             0.0             0.0   \n",
       "2    2        109             0.0             0.0             0.0   \n",
       "3    3        109             0.0             0.0             0.0   \n",
       "4    4        109             0.0             0.0             0.0   \n",
       "..  ..        ...             ...             ...             ...   \n",
       "95  95        109             0.0             0.0             0.0   \n",
       "96  96        109             0.0             0.0             0.0   \n",
       "97  97        109             0.0             0.0             0.0   \n",
       "98  98        109             0.0             0.0             0.0   \n",
       "99  99        109             0.0             0.0             0.0   \n",
       "\n",
       "   last_date_of_month_6 last_date_of_month_7 last_date_of_month_8    arpu_6  \\\n",
       "0             6/30/2014            7/31/2014            8/31/2014    31.277   \n",
       "1             6/30/2014            7/31/2014            8/31/2014     0.000   \n",
       "2             6/30/2014            7/31/2014            8/31/2014    60.806   \n",
       "3             6/30/2014            7/31/2014            8/31/2014   156.362   \n",
       "4             6/30/2014            7/31/2014            8/31/2014   240.708   \n",
       "..                  ...                  ...                  ...       ...   \n",
       "95            6/30/2014            7/31/2014            8/31/2014     0.000   \n",
       "96            6/30/2014            7/31/2014            8/31/2014   589.222   \n",
       "97            6/30/2014            7/31/2014            8/31/2014   364.754   \n",
       "98            6/30/2014            7/31/2014            8/31/2014  1000.715   \n",
       "99            6/30/2014            7/31/2014            8/31/2014   206.568   \n",
       "\n",
       "     arpu_7   arpu_8  onnet_mou_6  onnet_mou_7  onnet_mou_8  offnet_mou_6  \\\n",
       "0    87.009    7.527        48.58       124.38         1.29         32.24   \n",
       "1   122.787   42.953         0.00         0.00         0.00          0.00   \n",
       "2   103.176    0.000         0.53        15.93         0.00         53.99   \n",
       "3   205.260  111.095         7.26        16.01         0.00         68.76   \n",
       "4   128.191  101.565        21.28         4.83         6.13         56.99   \n",
       "..      ...      ...          ...          ...          ...           ...   \n",
       "95   46.770  187.134          NaN         3.36        18.26           NaN   \n",
       "96  460.000  447.251       174.76        85.28        69.83        960.78   \n",
       "97  274.391  121.023       404.54       221.14        54.01        175.91   \n",
       "98  201.346  173.422        97.69        66.86        29.24       1901.56   \n",
       "99   75.258   84.197       347.54         2.46        17.63         59.21   \n",
       "\n",
       "    offnet_mou_7  offnet_mou_8  roam_ic_mou_6  roam_ic_mou_7  roam_ic_mou_8  \\\n",
       "0          96.68          2.33           0.00            0.0            0.0   \n",
       "1          25.99         30.89           0.00            0.0            0.0   \n",
       "2          82.05          0.00           0.00            0.0            0.0   \n",
       "3          78.48         50.23           0.00            0.0            0.0   \n",
       "4          38.11          9.63          53.64            0.0            0.0   \n",
       "..           ...           ...            ...            ...            ...   \n",
       "95         21.03        186.86            NaN            0.0            0.0   \n",
       "96        706.88        548.19           0.00            0.0            0.0   \n",
       "97        102.54         62.99           0.00            0.0            0.0   \n",
       "98        259.61        206.01           0.00            0.0            0.0   \n",
       "99         94.36        130.99           0.00            0.0            0.0   \n",
       "\n",
       "    roam_og_mou_6  roam_og_mou_7  roam_og_mou_8  loc_og_t2t_mou_6  \\\n",
       "0            0.00            0.0           0.00              2.23   \n",
       "1            0.00            0.0           0.00              0.00   \n",
       "2            0.00            0.0           0.00              0.53   \n",
       "3            0.00            0.0           1.63              6.99   \n",
       "4           15.73            0.0           0.00             10.16   \n",
       "..            ...            ...            ...               ...   \n",
       "95            NaN            0.0           0.00               NaN   \n",
       "96           0.00            0.0           0.00            174.76   \n",
       "97           0.00            0.0           0.00            404.54   \n",
       "98           0.00            0.0           0.00             97.69   \n",
       "99           0.00            0.0           0.00            347.54   \n",
       "\n",
       "    loc_og_t2t_mou_7  loc_og_t2t_mou_8  loc_og_t2m_mou_6  loc_og_t2m_mou_7  \\\n",
       "0               0.00              0.28              5.29             16.04   \n",
       "1               0.00              0.00              0.00              0.00   \n",
       "2              12.98              0.00             24.11              0.00   \n",
       "3               3.94              0.00             37.91             44.89   \n",
       "4               4.83              6.13             36.74             19.88   \n",
       "..               ...               ...               ...               ...   \n",
       "95              3.36             18.26               NaN             18.96   \n",
       "96             85.28             69.83            585.46            279.44   \n",
       "97            211.86             54.01            142.48             75.48   \n",
       "98             66.86             27.21            407.33             46.26   \n",
       "99              2.46             17.63             52.94             94.36   \n",
       "\n",
       "    loc_og_t2m_mou_8  loc_og_t2f_mou_6  loc_og_t2f_mou_7  loc_og_t2f_mou_8  \\\n",
       "0               2.33              0.00              0.00              0.00   \n",
       "1               0.00              0.00              0.00              0.00   \n",
       "2               0.00              0.00              0.00              0.00   \n",
       "3              23.63              0.00              0.00              0.00   \n",
       "4               4.61             11.99              1.23              5.01   \n",
       "..               ...               ...               ...               ...   \n",
       "95            151.41               NaN              2.06             35.44   \n",
       "96            257.39              0.00              0.00              3.05   \n",
       "97             57.46              0.73              1.03              0.35   \n",
       "98            121.98              4.64              0.00              0.00   \n",
       "99            127.49              0.00              0.00              0.00   \n",
       "\n",
       "    loc_og_t2c_mou_6  loc_og_t2c_mou_7  loc_og_t2c_mou_8  loc_og_mou_6  \\\n",
       "0               0.00              0.00              0.00          7.53   \n",
       "1               0.00             22.01             29.79          0.00   \n",
       "2               2.14              0.00              0.00         24.64   \n",
       "3               0.00              0.00              8.03         44.91   \n",
       "4               0.00              9.85              0.00         58.91   \n",
       "..               ...               ...               ...           ...   \n",
       "95               NaN              0.00              0.00           NaN   \n",
       "96              0.00              0.00              2.40        760.23   \n",
       "97              0.00              6.93              3.76        547.76   \n",
       "98              0.00              7.73              0.00        509.68   \n",
       "99              0.00              0.00              0.70        400.49   \n",
       "\n",
       "    loc_og_mou_7  loc_og_mou_8  std_og_t2t_mou_6  std_og_t2t_mou_7  \\\n",
       "0          16.04          2.61             46.34            124.38   \n",
       "1           0.00          0.00              0.00              0.00   \n",
       "2          12.98          0.00              0.00              2.94   \n",
       "3          48.84         23.63              0.26             12.06   \n",
       "4          25.94         15.76              0.00              0.00   \n",
       "..           ...           ...               ...               ...   \n",
       "95         24.39        205.13               NaN              0.00   \n",
       "96        364.73        330.28              0.00              0.00   \n",
       "97        288.38        111.83              0.00              9.28   \n",
       "98        113.13        149.19              0.00              0.00   \n",
       "99         96.83        145.13              0.00              0.00   \n",
       "\n",
       "    std_og_t2t_mou_8  std_og_t2m_mou_6  std_og_t2m_mou_7  std_og_t2m_mou_8  \\\n",
       "0               1.01             18.75             80.61              0.00   \n",
       "1               0.00              0.00              0.00              0.00   \n",
       "2               0.00             28.94             82.05              0.00   \n",
       "3               0.00             15.33             25.93              4.60   \n",
       "4               0.00              4.35              0.00              0.00   \n",
       "..               ...               ...               ...               ...   \n",
       "95              0.00               NaN              0.00              0.00   \n",
       "96              0.00            360.33            423.29            279.48   \n",
       "97              0.00             32.69             12.93              0.00   \n",
       "98              2.03           1489.58            192.46             77.81   \n",
       "99              0.00              0.00              0.00              0.20   \n",
       "\n",
       "    std_og_t2f_mou_6  std_og_t2f_mou_7  std_og_t2f_mou_8  std_og_t2c_mou_6  \\\n",
       "0               0.00               0.0               0.0               0.0   \n",
       "1               0.00               0.0               0.0               0.0   \n",
       "2               0.00               0.0               0.0               0.0   \n",
       "3               0.56               0.0               0.0               0.0   \n",
       "4               0.00               0.0               0.0               0.0   \n",
       "..               ...               ...               ...               ...   \n",
       "95               NaN               0.0               0.0               NaN   \n",
       "96              0.00               0.0               0.0               0.0   \n",
       "97              0.00               0.0               0.0               0.0   \n",
       "98              0.00               0.0               0.0               0.0   \n",
       "99              0.00               0.0               0.0               0.0   \n",
       "\n",
       "    std_og_t2c_mou_7  std_og_t2c_mou_8  std_og_mou_6  std_og_mou_7  \\\n",
       "0                0.0               0.0         65.09        204.99   \n",
       "1                0.0               0.0          0.00          0.00   \n",
       "2                0.0               0.0         28.94         84.99   \n",
       "3                0.0               0.0         16.16         37.99   \n",
       "4                0.0               0.0          4.35          0.00   \n",
       "..               ...               ...           ...           ...   \n",
       "95               0.0               0.0           NaN          0.00   \n",
       "96               0.0               0.0        360.33        423.29   \n",
       "97               0.0               0.0         32.69         22.21   \n",
       "98               0.0               0.0       1489.58        192.46   \n",
       "99               0.0               0.0          0.00          0.00   \n",
       "\n",
       "    std_og_mou_8  isd_og_mou_6  isd_og_mou_7  isd_og_mou_8  spl_og_mou_6  \\\n",
       "0           1.01           0.0          0.00           0.0          8.20   \n",
       "1           0.00           0.0          0.00           0.0          0.00   \n",
       "2           0.00           0.0          0.00           0.0          2.89   \n",
       "3           4.60           0.0          0.00           0.0         14.95   \n",
       "4           0.00           0.0          0.00           0.0          0.00   \n",
       "..           ...           ...           ...           ...           ...   \n",
       "95          0.00           NaN          0.00           0.0           NaN   \n",
       "96        279.48           0.0          0.00           0.0         16.11   \n",
       "97          0.00           0.0          0.61           0.0          0.00   \n",
       "98         79.84           0.0          0.00           0.0          0.00   \n",
       "99          0.20           0.0          0.00           0.0          6.26   \n",
       "\n",
       "    spl_og_mou_7  spl_og_mou_8  og_others_6  og_others_7  og_others_8  \\\n",
       "0           0.63          0.00         0.38          0.0          0.0   \n",
       "1          30.73         31.66         0.00          0.0          0.0   \n",
       "2           1.38          0.00         0.00          0.0          0.0   \n",
       "3           9.13         25.61         0.00          0.0          0.0   \n",
       "4          17.00          0.00         0.00          0.0          0.0   \n",
       "..           ...           ...          ...          ...          ...   \n",
       "95          1.85          0.00          NaN          0.0          0.0   \n",
       "96          4.66         10.66         2.11          0.0          0.0   \n",
       "97         18.38          5.88         0.00          0.0          0.0   \n",
       "98         20.88          6.21         0.00          0.0          0.0   \n",
       "99          0.00          3.30         0.00          0.0          0.0   \n",
       "\n",
       "    total_og_mou_6  total_og_mou_7  total_og_mou_8  loc_ic_t2t_mou_6  \\\n",
       "0            81.21          221.68            3.63              2.43   \n",
       "1             0.00           30.73           31.66              1.68   \n",
       "2            56.49           99.36            0.00              4.51   \n",
       "3            76.03           95.98           53.84             24.98   \n",
       "4            63.26           42.94           15.76              5.44   \n",
       "..             ...             ...             ...               ...   \n",
       "95            0.00           26.24          205.13               NaN   \n",
       "96         1138.79          792.69          620.43            193.13   \n",
       "97          580.46          329.59          117.71            122.39   \n",
       "98         1999.26          326.48          235.26             18.79   \n",
       "99          406.76           96.83          148.63             56.06   \n",
       "\n",
       "    loc_ic_t2t_mou_7  loc_ic_t2t_mou_8  loc_ic_t2m_mou_6  loc_ic_t2m_mou_7  \\\n",
       "0               3.68              7.79              0.83             21.08   \n",
       "1              19.09             10.53              1.41             18.68   \n",
       "2               6.16              6.49             89.86             25.18   \n",
       "3               4.84             23.88             53.99             44.23   \n",
       "4               1.39              2.66             10.58              4.33   \n",
       "..               ...               ...               ...               ...   \n",
       "95              0.00             22.96               NaN            100.31   \n",
       "96             49.34             47.58            472.69            202.43   \n",
       "97             69.53             55.13             57.99             87.36   \n",
       "98             14.04             15.43            170.28             76.43   \n",
       "99             28.14             28.08             43.41             22.79   \n",
       "\n",
       "    loc_ic_t2m_mou_8  loc_ic_t2f_mou_6  loc_ic_t2f_mou_7  loc_ic_t2f_mou_8  \\\n",
       "0              16.91              0.00              0.00              0.00   \n",
       "1              11.09              0.35              1.66              3.40   \n",
       "2              23.51              0.00              0.00              0.00   \n",
       "3              57.14              7.23              0.81              0.00   \n",
       "4              19.49              5.51              3.63              6.14   \n",
       "..               ...               ...               ...               ...   \n",
       "95            260.69               NaN              0.00              8.61   \n",
       "96            131.71              4.58              0.00             10.96   \n",
       "97             52.64              0.00              0.00              0.00   \n",
       "98             66.71              8.06              4.60              4.81   \n",
       "99            126.81              0.00              0.00              0.08   \n",
       "\n",
       "    loc_ic_mou_6  loc_ic_mou_7  loc_ic_mou_8  std_ic_t2t_mou_6  \\\n",
       "0           3.26         24.76         24.71              0.00   \n",
       "1           3.44         39.44         25.03              0.00   \n",
       "2          94.38         31.34         30.01             11.69   \n",
       "3          86.21         49.89         81.03              0.00   \n",
       "4          21.54          9.36         28.31              0.00   \n",
       "..           ...           ...           ...               ...   \n",
       "95           NaN        100.31        292.28               NaN   \n",
       "96        670.41        251.78        190.26              0.41   \n",
       "97        180.39        156.89        107.78              0.00   \n",
       "98        197.14         95.08         86.96              0.00   \n",
       "99         99.48         50.94        154.98              0.00   \n",
       "\n",
       "    std_ic_t2t_mou_7  std_ic_t2t_mou_8  std_ic_t2m_mou_6  std_ic_t2m_mou_7  \\\n",
       "0               7.61              0.21              7.46             19.96   \n",
       "1               0.00              0.00              0.00              0.00   \n",
       "2               0.00              0.00             18.21              2.48   \n",
       "3               0.00              0.00              8.89              0.28   \n",
       "4               0.00              0.00              0.00              0.00   \n",
       "..               ...               ...               ...               ...   \n",
       "95              0.00              0.00               NaN              0.00   \n",
       "96              0.00              0.00              5.73              8.56   \n",
       "97             12.88              0.53             52.48             45.21   \n",
       "98              0.00              0.00             13.54              6.36   \n",
       "99              0.00              0.00              0.88              0.00   \n",
       "\n",
       "    std_ic_t2m_mou_8  std_ic_t2f_mou_6  std_ic_t2f_mou_7  std_ic_t2f_mou_8  \\\n",
       "0              14.96               0.0              0.00              0.00   \n",
       "1               0.00               0.0              0.00              0.00   \n",
       "2               6.38               0.0              0.00              0.00   \n",
       "3               2.81               0.0              0.00              0.00   \n",
       "4               0.00               0.0              0.00              0.00   \n",
       "..               ...               ...               ...               ...   \n",
       "95              1.25               NaN              0.00              4.56   \n",
       "96             39.81               0.0              0.00              0.00   \n",
       "97             43.44               0.0              3.84              0.00   \n",
       "98              0.63               0.3              0.00              0.10   \n",
       "99            235.76               0.0              0.00              0.00   \n",
       "\n",
       "    std_ic_t2o_mou_6  std_ic_t2o_mou_7  std_ic_t2o_mou_8  std_ic_mou_6  \\\n",
       "0                0.0               0.0               0.0          7.46   \n",
       "1                0.0               0.0               0.0          0.00   \n",
       "2                0.0               0.0               0.0         29.91   \n",
       "3                0.0               0.0               0.0          8.89   \n",
       "4                0.0               0.0               0.0          0.00   \n",
       "..               ...               ...               ...           ...   \n",
       "95               NaN               0.0               0.0           NaN   \n",
       "96               0.0               0.0               0.0          6.14   \n",
       "97               0.0               0.0               0.0         52.48   \n",
       "98               0.0               0.0               0.0         13.84   \n",
       "99               0.0               0.0               0.0          0.88   \n",
       "\n",
       "    std_ic_mou_7  std_ic_mou_8  total_ic_mou_6  total_ic_mou_7  \\\n",
       "0          27.58         15.18           11.84           53.04   \n",
       "1           0.00          0.00            3.44           39.44   \n",
       "2           2.48          6.38          124.29           33.83   \n",
       "3           0.28          2.81           95.11           50.18   \n",
       "4           0.00          0.00           21.54            9.36   \n",
       "..           ...           ...             ...             ...   \n",
       "95          0.00          5.81            0.00          100.31   \n",
       "96          8.56         39.81          676.58          278.04   \n",
       "97         61.94         43.98          247.16          218.84   \n",
       "98          6.36          0.73          211.33          101.61   \n",
       "99          0.00        235.76          100.36           50.94   \n",
       "\n",
       "    total_ic_mou_8  spl_ic_mou_6  spl_ic_mou_7  spl_ic_mou_8  isd_ic_mou_6  \\\n",
       "0            40.56          0.00           0.0          0.66          0.00   \n",
       "1            25.04          0.00           0.0          0.01          0.00   \n",
       "2            36.64          0.00           0.0          0.00          0.00   \n",
       "3            83.84          0.00           0.0          0.00          0.00   \n",
       "4            28.31          0.00           0.0          0.00          0.00   \n",
       "..             ...           ...           ...           ...           ...   \n",
       "95          298.09           NaN           0.0          0.00           NaN   \n",
       "96          231.74          0.00           0.0          0.00          0.01   \n",
       "97          152.06          0.00           0.0          0.00         14.28   \n",
       "98           88.53          0.33           0.0          0.30          0.00   \n",
       "99          390.74          0.00           0.0          0.00          0.00   \n",
       "\n",
       "    isd_ic_mou_7  isd_ic_mou_8  ic_others_6  ic_others_7  ic_others_8  \\\n",
       "0           0.00          0.00         1.11         0.69         0.00   \n",
       "1           0.00          0.00         0.00         0.00         0.00   \n",
       "2           0.00          0.00         0.00         0.00         0.25   \n",
       "3           0.00          0.00         0.00         0.00         0.00   \n",
       "4           0.00          0.00         0.00         0.00         0.00   \n",
       "..           ...           ...          ...          ...          ...   \n",
       "95          0.00          0.00          NaN         0.00         0.00   \n",
       "96         17.69          1.66         0.00         0.00         0.00   \n",
       "97          0.00          0.30         0.00         0.00         0.00   \n",
       "98          0.00          0.00         0.00         0.16         0.53   \n",
       "99          0.00          0.00         0.00         0.00         0.00   \n",
       "\n",
       "    total_rech_num_6  total_rech_num_7  total_rech_num_8  total_rech_amt_6  \\\n",
       "0                  3                 2                 2                77   \n",
       "1                  3                 4                 5                 0   \n",
       "2                  2                 4                 2                70   \n",
       "3                  2                 4                 3               160   \n",
       "4                 13                10                 8               290   \n",
       "..               ...               ...               ...               ...   \n",
       "95                 0                 1                 2                 0   \n",
       "96                 7                 2                 6              1017   \n",
       "97                 6                 4                 4               560   \n",
       "98                14                 3                 4              1212   \n",
       "99                 3                 2                 5               161   \n",
       "\n",
       "    total_rech_amt_7  total_rech_amt_8  max_rech_amt_6  max_rech_amt_7  \\\n",
       "0                 65                10              65              65   \n",
       "1                145                50               0             145   \n",
       "2                120                 0              70              70   \n",
       "3                240               130             110             110   \n",
       "4                136               122              50              41   \n",
       "..               ...               ...             ...             ...   \n",
       "95                 0               250               0               0   \n",
       "96                 0               617             550               0   \n",
       "97               237               140             120             110   \n",
       "98               145               260             128             128   \n",
       "99               133               100             128             100   \n",
       "\n",
       "    max_rech_amt_8 date_of_last_rech_6 date_of_last_rech_7  \\\n",
       "0               10           6/22/2014           7/10/2014   \n",
       "1               50           6/12/2014           7/10/2014   \n",
       "2                0           6/11/2014           7/22/2014   \n",
       "3               50           6/15/2014           7/21/2014   \n",
       "4               30           6/25/2014           7/26/2014   \n",
       "..             ...                 ...                 ...   \n",
       "95             250                 NaN           7/27/2014   \n",
       "96             550           6/28/2014           7/26/2014   \n",
       "97              50           6/29/2014           7/27/2014   \n",
       "98             130           6/30/2014           7/12/2014   \n",
       "99              50           6/17/2014           7/29/2014   \n",
       "\n",
       "   date_of_last_rech_8  last_day_rch_amt_6  last_day_rch_amt_7  \\\n",
       "0            8/24/2014                  65                  65   \n",
       "1            8/26/2014                   0                   0   \n",
       "2            8/24/2014                  70                  50   \n",
       "3            8/25/2014                 110                 110   \n",
       "4            8/30/2014                  25                  10   \n",
       "..                 ...                 ...                 ...   \n",
       "95           8/25/2014                   0                   0   \n",
       "96           8/31/2014                 550                   0   \n",
       "97           8/28/2014                 110                  50   \n",
       "98           8/29/2014                 128                  17   \n",
       "99           8/30/2014                 128                 100   \n",
       "\n",
       "    last_day_rch_amt_8 date_of_last_rech_data_6 date_of_last_rech_data_7  \\\n",
       "0                    0                      NaN                      NaN   \n",
       "1                    0                      NaN                 7/8/2014   \n",
       "2                    0                      NaN                      NaN   \n",
       "3                   50                      NaN                      NaN   \n",
       "4                   30                6/25/2014                7/23/2014   \n",
       "..                 ...                      ...                      ...   \n",
       "95                   0                      NaN                      NaN   \n",
       "96                   0                6/23/2014                      NaN   \n",
       "97                  30                      NaN                      NaN   \n",
       "98                 130                      NaN                7/12/2014   \n",
       "99                  50                      NaN                      NaN   \n",
       "\n",
       "   date_of_last_rech_data_8  total_rech_data_6  total_rech_data_7  \\\n",
       "0                       NaN                NaN                NaN   \n",
       "1                       NaN                NaN                1.0   \n",
       "2                       NaN                NaN                NaN   \n",
       "3                       NaN                NaN                NaN   \n",
       "4                 8/20/2014                7.0                7.0   \n",
       "..                      ...                ...                ...   \n",
       "95                      NaN                NaN                NaN   \n",
       "96                8/31/2014                1.0                NaN   \n",
       "97                      NaN                NaN                NaN   \n",
       "98                      NaN                NaN                1.0   \n",
       "99                      NaN                NaN                NaN   \n",
       "\n",
       "    total_rech_data_8  max_rech_data_6  max_rech_data_7  max_rech_data_8  \\\n",
       "0                 NaN              NaN              NaN              NaN   \n",
       "1                 NaN              NaN            145.0              NaN   \n",
       "2                 NaN              NaN              NaN              NaN   \n",
       "3                 NaN              NaN              NaN              NaN   \n",
       "4                 6.0             25.0             41.0             25.0   \n",
       "..                ...              ...              ...              ...   \n",
       "95                NaN              NaN              NaN              NaN   \n",
       "96                4.0             25.0              NaN             25.0   \n",
       "97                NaN              NaN              NaN              NaN   \n",
       "98                NaN              NaN             17.0              NaN   \n",
       "99                NaN              NaN              NaN              NaN   \n",
       "\n",
       "    count_rech_2g_6  count_rech_2g_7  count_rech_2g_8  count_rech_3g_6  \\\n",
       "0               NaN              NaN              NaN              NaN   \n",
       "1               NaN              0.0              NaN              NaN   \n",
       "2               NaN              NaN              NaN              NaN   \n",
       "3               NaN              NaN              NaN              NaN   \n",
       "4               7.0              6.0              6.0              0.0   \n",
       "..              ...              ...              ...              ...   \n",
       "95              NaN              NaN              NaN              NaN   \n",
       "96              1.0              NaN              4.0              0.0   \n",
       "97              NaN              NaN              NaN              NaN   \n",
       "98              NaN              1.0              NaN              NaN   \n",
       "99              NaN              NaN              NaN              NaN   \n",
       "\n",
       "    count_rech_3g_7  count_rech_3g_8  av_rech_amt_data_6  av_rech_amt_data_7  \\\n",
       "0               NaN              NaN                 NaN                 NaN   \n",
       "1               1.0              NaN                 NaN               145.0   \n",
       "2               NaN              NaN                 NaN                 NaN   \n",
       "3               NaN              NaN                 NaN                 NaN   \n",
       "4               1.0              0.0               175.0               191.0   \n",
       "..              ...              ...                 ...                 ...   \n",
       "95              NaN              NaN                 NaN                 NaN   \n",
       "96              NaN              0.0                25.0                 NaN   \n",
       "97              NaN              NaN                 NaN                 NaN   \n",
       "98              0.0              NaN                 NaN                17.0   \n",
       "99              NaN              NaN                 NaN                 NaN   \n",
       "\n",
       "    av_rech_amt_data_8  vol_2g_mb_6  vol_2g_mb_7  vol_2g_mb_8  vol_3g_mb_6  \\\n",
       "0                  NaN          0.0         0.00         0.00          0.0   \n",
       "1                  NaN          0.0       352.91         0.00          0.0   \n",
       "2                  NaN          0.0         0.00         0.00          0.0   \n",
       "3                  NaN          0.0         0.00         0.00          0.0   \n",
       "4                142.0        390.8       308.89       213.47          0.0   \n",
       "..                 ...          ...          ...          ...          ...   \n",
       "95                 NaN          0.0         0.00         0.00          0.0   \n",
       "96                94.0          0.0         0.00         0.00          0.0   \n",
       "97                 NaN          0.0         0.00         0.00          0.0   \n",
       "98                 NaN          0.0         0.01         0.00          0.0   \n",
       "99                 NaN          0.0         0.00         0.00          0.0   \n",
       "\n",
       "    vol_3g_mb_7  vol_3g_mb_8  arpu_3g_6  arpu_3g_7  arpu_3g_8  arpu_2g_6  \\\n",
       "0          0.00          0.0        NaN        NaN        NaN        NaN   \n",
       "1          3.96          0.0        NaN     122.07        NaN        NaN   \n",
       "2          0.00          0.0        NaN        NaN        NaN        NaN   \n",
       "3          0.00          0.0        NaN        NaN        NaN        NaN   \n",
       "4          0.00          0.0        0.0      35.00        0.0        0.0   \n",
       "..          ...          ...        ...        ...        ...        ...   \n",
       "95         0.00          0.0        NaN        NaN        NaN        NaN   \n",
       "96         0.00          0.0        0.0        NaN        0.0        0.0   \n",
       "97         0.00          0.0        NaN        NaN        NaN        NaN   \n",
       "98         0.00          0.0        NaN       0.00        NaN        NaN   \n",
       "99         0.00          0.0        NaN        NaN        NaN        NaN   \n",
       "\n",
       "    arpu_2g_7  arpu_2g_8  night_pck_user_6  night_pck_user_7  \\\n",
       "0         NaN        NaN               NaN               NaN   \n",
       "1      122.08        NaN               NaN               0.0   \n",
       "2         NaN        NaN               NaN               NaN   \n",
       "3         NaN        NaN               NaN               NaN   \n",
       "4       35.12        0.0               0.0               0.0   \n",
       "..        ...        ...               ...               ...   \n",
       "95        NaN        NaN               NaN               NaN   \n",
       "96        NaN        0.0               0.0               NaN   \n",
       "97        NaN        NaN               NaN               NaN   \n",
       "98       0.04        NaN               NaN               0.0   \n",
       "99        NaN        NaN               NaN               NaN   \n",
       "\n",
       "    night_pck_user_8  monthly_2g_6  monthly_2g_7  monthly_2g_8  sachet_2g_6  \\\n",
       "0                NaN             0             0             0            0   \n",
       "1                NaN             0             0             0            0   \n",
       "2                NaN             0             0             0            0   \n",
       "3                NaN             0             0             0            0   \n",
       "4                0.0             0             0             0            7   \n",
       "..               ...           ...           ...           ...          ...   \n",
       "95               NaN             0             0             0            0   \n",
       "96               0.0             0             0             0            1   \n",
       "97               NaN             0             0             0            0   \n",
       "98               NaN             0             0             0            0   \n",
       "99               NaN             0             0             0            0   \n",
       "\n",
       "    sachet_2g_7  sachet_2g_8  monthly_3g_6  monthly_3g_7  monthly_3g_8  \\\n",
       "0             0            0             0             0             0   \n",
       "1             0            0             0             1             0   \n",
       "2             0            0             0             0             0   \n",
       "3             0            0             0             0             0   \n",
       "4             6            6             0             0             0   \n",
       "..          ...          ...           ...           ...           ...   \n",
       "95            0            0             0             0             0   \n",
       "96            0            4             0             0             0   \n",
       "97            0            0             0             0             0   \n",
       "98            1            0             0             0             0   \n",
       "99            0            0             0             0             0   \n",
       "\n",
       "    sachet_3g_6  sachet_3g_7  sachet_3g_8  fb_user_6  fb_user_7  fb_user_8  \\\n",
       "0             0            0            0        NaN        NaN        NaN   \n",
       "1             0            0            0        NaN        1.0        NaN   \n",
       "2             0            0            0        NaN        NaN        NaN   \n",
       "3             0            0            0        NaN        NaN        NaN   \n",
       "4             0            1            0        1.0        1.0        1.0   \n",
       "..          ...          ...          ...        ...        ...        ...   \n",
       "95            0            0            0        NaN        NaN        NaN   \n",
       "96            0            0            0        0.0        NaN        0.0   \n",
       "97            0            0            0        NaN        NaN        NaN   \n",
       "98            0            0            0        NaN        1.0        NaN   \n",
       "99            0            0            0        NaN        NaN        NaN   \n",
       "\n",
       "     aon  aug_vbc_3g  jul_vbc_3g  jun_vbc_3g  churn_probability  \n",
       "0   1958         0.0         0.0         0.0                  0  \n",
       "1    710         0.0         0.0         0.0                  0  \n",
       "2    882         0.0         0.0         0.0                  0  \n",
       "3    982         0.0         0.0         0.0                  0  \n",
       "4    647         0.0         0.0         0.0                  0  \n",
       "..   ...         ...         ...         ...                ...  \n",
       "95  3234         0.0         0.0         0.0                  0  \n",
       "96   943         0.0         0.0         0.0                  0  \n",
       "97  1145         0.0         0.0         0.0                  0  \n",
       "98   382         0.0         0.0         0.0                  0  \n",
       "99  2372         0.0         0.0         0.0                  0  \n",
       "\n",
       "[100 rows x 172 columns]"
      ]
     },
     "execution_count": 4,
     "metadata": {},
     "output_type": "execute_result"
    }
   ],
   "source": [
    "## checking sample of data\n",
    "df.head(100)"
   ]
  },
  {
   "cell_type": "code",
   "execution_count": 5,
   "id": "d6682394",
   "metadata": {},
   "outputs": [
    {
     "data": {
      "text/plain": [
       "4        7.0\n",
       "7        1.0\n",
       "10       1.0\n",
       "15       1.0\n",
       "16       1.0\n",
       "        ... \n",
       "69984    3.0\n",
       "69989    2.0\n",
       "69993    9.0\n",
       "69997    1.0\n",
       "69998    1.0\n",
       "Name: total_rech_data_6, Length: 17568, dtype: float64"
      ]
     },
     "execution_count": 5,
     "metadata": {},
     "output_type": "execute_result"
    }
   ],
   "source": [
    "df[df.total_rech_data_6 > 0][\"total_rech_data_6\"]"
   ]
  },
  {
   "cell_type": "code",
   "execution_count": 6,
   "id": "3dd3299a",
   "metadata": {},
   "outputs": [
    {
     "name": "stdout",
     "output_type": "stream",
     "text": [
      "<class 'pandas.core.frame.DataFrame'>\n",
      "RangeIndex: 69999 entries, 0 to 69998\n",
      "Data columns (total 172 columns):\n",
      " #    Column                    Non-Null Count  Dtype  \n",
      "---   ------                    --------------  -----  \n",
      " 0    id                        69999 non-null  int64  \n",
      " 1    circle_id                 69999 non-null  int64  \n",
      " 2    loc_og_t2o_mou            69297 non-null  float64\n",
      " 3    std_og_t2o_mou            69297 non-null  float64\n",
      " 4    loc_ic_t2o_mou            69297 non-null  float64\n",
      " 5    last_date_of_month_6      69999 non-null  object \n",
      " 6    last_date_of_month_7      69600 non-null  object \n",
      " 7    last_date_of_month_8      69266 non-null  object \n",
      " 8    arpu_6                    69999 non-null  float64\n",
      " 9    arpu_7                    69999 non-null  float64\n",
      " 10   arpu_8                    69999 non-null  float64\n",
      " 11   onnet_mou_6               67231 non-null  float64\n",
      " 12   onnet_mou_7               67312 non-null  float64\n",
      " 13   onnet_mou_8               66296 non-null  float64\n",
      " 14   offnet_mou_6              67231 non-null  float64\n",
      " 15   offnet_mou_7              67312 non-null  float64\n",
      " 16   offnet_mou_8              66296 non-null  float64\n",
      " 17   roam_ic_mou_6             67231 non-null  float64\n",
      " 18   roam_ic_mou_7             67312 non-null  float64\n",
      " 19   roam_ic_mou_8             66296 non-null  float64\n",
      " 20   roam_og_mou_6             67231 non-null  float64\n",
      " 21   roam_og_mou_7             67312 non-null  float64\n",
      " 22   roam_og_mou_8             66296 non-null  float64\n",
      " 23   loc_og_t2t_mou_6          67231 non-null  float64\n",
      " 24   loc_og_t2t_mou_7          67312 non-null  float64\n",
      " 25   loc_og_t2t_mou_8          66296 non-null  float64\n",
      " 26   loc_og_t2m_mou_6          67231 non-null  float64\n",
      " 27   loc_og_t2m_mou_7          67312 non-null  float64\n",
      " 28   loc_og_t2m_mou_8          66296 non-null  float64\n",
      " 29   loc_og_t2f_mou_6          67231 non-null  float64\n",
      " 30   loc_og_t2f_mou_7          67312 non-null  float64\n",
      " 31   loc_og_t2f_mou_8          66296 non-null  float64\n",
      " 32   loc_og_t2c_mou_6          67231 non-null  float64\n",
      " 33   loc_og_t2c_mou_7          67312 non-null  float64\n",
      " 34   loc_og_t2c_mou_8          66296 non-null  float64\n",
      " 35   loc_og_mou_6              67231 non-null  float64\n",
      " 36   loc_og_mou_7              67312 non-null  float64\n",
      " 37   loc_og_mou_8              66296 non-null  float64\n",
      " 38   std_og_t2t_mou_6          67231 non-null  float64\n",
      " 39   std_og_t2t_mou_7          67312 non-null  float64\n",
      " 40   std_og_t2t_mou_8          66296 non-null  float64\n",
      " 41   std_og_t2m_mou_6          67231 non-null  float64\n",
      " 42   std_og_t2m_mou_7          67312 non-null  float64\n",
      " 43   std_og_t2m_mou_8          66296 non-null  float64\n",
      " 44   std_og_t2f_mou_6          67231 non-null  float64\n",
      " 45   std_og_t2f_mou_7          67312 non-null  float64\n",
      " 46   std_og_t2f_mou_8          66296 non-null  float64\n",
      " 47   std_og_t2c_mou_6          67231 non-null  float64\n",
      " 48   std_og_t2c_mou_7          67312 non-null  float64\n",
      " 49   std_og_t2c_mou_8          66296 non-null  float64\n",
      " 50   std_og_mou_6              67231 non-null  float64\n",
      " 51   std_og_mou_7              67312 non-null  float64\n",
      " 52   std_og_mou_8              66296 non-null  float64\n",
      " 53   isd_og_mou_6              67231 non-null  float64\n",
      " 54   isd_og_mou_7              67312 non-null  float64\n",
      " 55   isd_og_mou_8              66296 non-null  float64\n",
      " 56   spl_og_mou_6              67231 non-null  float64\n",
      " 57   spl_og_mou_7              67312 non-null  float64\n",
      " 58   spl_og_mou_8              66296 non-null  float64\n",
      " 59   og_others_6               67231 non-null  float64\n",
      " 60   og_others_7               67312 non-null  float64\n",
      " 61   og_others_8               66296 non-null  float64\n",
      " 62   total_og_mou_6            69999 non-null  float64\n",
      " 63   total_og_mou_7            69999 non-null  float64\n",
      " 64   total_og_mou_8            69999 non-null  float64\n",
      " 65   loc_ic_t2t_mou_6          67231 non-null  float64\n",
      " 66   loc_ic_t2t_mou_7          67312 non-null  float64\n",
      " 67   loc_ic_t2t_mou_8          66296 non-null  float64\n",
      " 68   loc_ic_t2m_mou_6          67231 non-null  float64\n",
      " 69   loc_ic_t2m_mou_7          67312 non-null  float64\n",
      " 70   loc_ic_t2m_mou_8          66296 non-null  float64\n",
      " 71   loc_ic_t2f_mou_6          67231 non-null  float64\n",
      " 72   loc_ic_t2f_mou_7          67312 non-null  float64\n",
      " 73   loc_ic_t2f_mou_8          66296 non-null  float64\n",
      " 74   loc_ic_mou_6              67231 non-null  float64\n",
      " 75   loc_ic_mou_7              67312 non-null  float64\n",
      " 76   loc_ic_mou_8              66296 non-null  float64\n",
      " 77   std_ic_t2t_mou_6          67231 non-null  float64\n",
      " 78   std_ic_t2t_mou_7          67312 non-null  float64\n",
      " 79   std_ic_t2t_mou_8          66296 non-null  float64\n",
      " 80   std_ic_t2m_mou_6          67231 non-null  float64\n",
      " 81   std_ic_t2m_mou_7          67312 non-null  float64\n",
      " 82   std_ic_t2m_mou_8          66296 non-null  float64\n",
      " 83   std_ic_t2f_mou_6          67231 non-null  float64\n",
      " 84   std_ic_t2f_mou_7          67312 non-null  float64\n",
      " 85   std_ic_t2f_mou_8          66296 non-null  float64\n",
      " 86   std_ic_t2o_mou_6          67231 non-null  float64\n",
      " 87   std_ic_t2o_mou_7          67312 non-null  float64\n",
      " 88   std_ic_t2o_mou_8          66296 non-null  float64\n",
      " 89   std_ic_mou_6              67231 non-null  float64\n",
      " 90   std_ic_mou_7              67312 non-null  float64\n",
      " 91   std_ic_mou_8              66296 non-null  float64\n",
      " 92   total_ic_mou_6            69999 non-null  float64\n",
      " 93   total_ic_mou_7            69999 non-null  float64\n",
      " 94   total_ic_mou_8            69999 non-null  float64\n",
      " 95   spl_ic_mou_6              67231 non-null  float64\n",
      " 96   spl_ic_mou_7              67312 non-null  float64\n",
      " 97   spl_ic_mou_8              66296 non-null  float64\n",
      " 98   isd_ic_mou_6              67231 non-null  float64\n",
      " 99   isd_ic_mou_7              67312 non-null  float64\n",
      " 100  isd_ic_mou_8              66296 non-null  float64\n",
      " 101  ic_others_6               67231 non-null  float64\n",
      " 102  ic_others_7               67312 non-null  float64\n",
      " 103  ic_others_8               66296 non-null  float64\n",
      " 104  total_rech_num_6          69999 non-null  int64  \n",
      " 105  total_rech_num_7          69999 non-null  int64  \n",
      " 106  total_rech_num_8          69999 non-null  int64  \n",
      " 107  total_rech_amt_6          69999 non-null  int64  \n",
      " 108  total_rech_amt_7          69999 non-null  int64  \n",
      " 109  total_rech_amt_8          69999 non-null  int64  \n",
      " 110  max_rech_amt_6            69999 non-null  int64  \n",
      " 111  max_rech_amt_7            69999 non-null  int64  \n",
      " 112  max_rech_amt_8            69999 non-null  int64  \n",
      " 113  date_of_last_rech_6       68898 non-null  object \n",
      " 114  date_of_last_rech_7       68765 non-null  object \n",
      " 115  date_of_last_rech_8       67538 non-null  object \n",
      " 116  last_day_rch_amt_6        69999 non-null  int64  \n",
      " 117  last_day_rch_amt_7        69999 non-null  int64  \n",
      " 118  last_day_rch_amt_8        69999 non-null  int64  \n",
      " 119  date_of_last_rech_data_6  17568 non-null  object \n",
      " 120  date_of_last_rech_data_7  17865 non-null  object \n",
      " 121  date_of_last_rech_data_8  18417 non-null  object \n",
      " 122  total_rech_data_6         17568 non-null  float64\n",
      " 123  total_rech_data_7         17865 non-null  float64\n",
      " 124  total_rech_data_8         18417 non-null  float64\n",
      " 125  max_rech_data_6           17568 non-null  float64\n",
      " 126  max_rech_data_7           17865 non-null  float64\n",
      " 127  max_rech_data_8           18417 non-null  float64\n",
      " 128  count_rech_2g_6           17568 non-null  float64\n",
      " 129  count_rech_2g_7           17865 non-null  float64\n",
      " 130  count_rech_2g_8           18417 non-null  float64\n",
      " 131  count_rech_3g_6           17568 non-null  float64\n",
      " 132  count_rech_3g_7           17865 non-null  float64\n",
      " 133  count_rech_3g_8           18417 non-null  float64\n",
      " 134  av_rech_amt_data_6        17568 non-null  float64\n",
      " 135  av_rech_amt_data_7        17865 non-null  float64\n",
      " 136  av_rech_amt_data_8        18417 non-null  float64\n",
      " 137  vol_2g_mb_6               69999 non-null  float64\n",
      " 138  vol_2g_mb_7               69999 non-null  float64\n",
      " 139  vol_2g_mb_8               69999 non-null  float64\n",
      " 140  vol_3g_mb_6               69999 non-null  float64\n",
      " 141  vol_3g_mb_7               69999 non-null  float64\n",
      " 142  vol_3g_mb_8               69999 non-null  float64\n",
      " 143  arpu_3g_6                 17568 non-null  float64\n",
      " 144  arpu_3g_7                 17865 non-null  float64\n",
      " 145  arpu_3g_8                 18417 non-null  float64\n",
      " 146  arpu_2g_6                 17568 non-null  float64\n",
      " 147  arpu_2g_7                 17865 non-null  float64\n",
      " 148  arpu_2g_8                 18417 non-null  float64\n",
      " 149  night_pck_user_6          17568 non-null  float64\n",
      " 150  night_pck_user_7          17865 non-null  float64\n",
      " 151  night_pck_user_8          18417 non-null  float64\n",
      " 152  monthly_2g_6              69999 non-null  int64  \n",
      " 153  monthly_2g_7              69999 non-null  int64  \n",
      " 154  monthly_2g_8              69999 non-null  int64  \n",
      " 155  sachet_2g_6               69999 non-null  int64  \n",
      " 156  sachet_2g_7               69999 non-null  int64  \n",
      " 157  sachet_2g_8               69999 non-null  int64  \n",
      " 158  monthly_3g_6              69999 non-null  int64  \n",
      " 159  monthly_3g_7              69999 non-null  int64  \n",
      " 160  monthly_3g_8              69999 non-null  int64  \n",
      " 161  sachet_3g_6               69999 non-null  int64  \n",
      " 162  sachet_3g_7               69999 non-null  int64  \n",
      " 163  sachet_3g_8               69999 non-null  int64  \n",
      " 164  fb_user_6                 17568 non-null  float64\n",
      " 165  fb_user_7                 17865 non-null  float64\n",
      " 166  fb_user_8                 18417 non-null  float64\n",
      " 167  aon                       69999 non-null  int64  \n",
      " 168  aug_vbc_3g                69999 non-null  float64\n",
      " 169  jul_vbc_3g                69999 non-null  float64\n",
      " 170  jun_vbc_3g                69999 non-null  float64\n",
      " 171  churn_probability         69999 non-null  int64  \n",
      "dtypes: float64(135), int64(28), object(9)\n",
      "memory usage: 91.9+ MB\n"
     ]
    }
   ],
   "source": [
    "#checking null values and data types in columns\n",
    "df.info(verbose=True,show_counts=True)"
   ]
  },
  {
   "cell_type": "markdown",
   "id": "fb295f12",
   "metadata": {},
   "source": [
    "##### Calculating the Total Amount Spent By customers on Recharge "
   ]
  },
  {
   "cell_type": "code",
   "execution_count": 7,
   "id": "0b067daa",
   "metadata": {},
   "outputs": [],
   "source": [
    "## Total Amount Spent will be - total_rech_num_x *  total_rech_amt_x  "
   ]
  },
  {
   "cell_type": "code",
   "execution_count": 8,
   "id": "9a943ed0",
   "metadata": {},
   "outputs": [],
   "source": [
    "#  First setting null values with 0\n",
    "amt_cols = ['av_rech_amt_data_6','av_rech_amt_data_7','av_rech_amt_data_8','total_rech_data_6',\n",
    "                'total_rech_data_7','total_rech_data_8']\n",
    "for col in amt_cols:\n",
    "    df[col].fillna(value=0,inplace=True)"
   ]
  },
  {
   "cell_type": "code",
   "execution_count": 9,
   "id": "79c3589d",
   "metadata": {},
   "outputs": [],
   "source": [
    "df[\"total_rech_data_amt_6\"] = df.av_rech_amt_data_6 * df.total_rech_data_6\n",
    "df[\"total_rech_data_amt_7\"] = df.av_rech_amt_data_7 * df.total_rech_data_7\n",
    "df[\"total_rech_data_amt_8\"] = df.av_rech_amt_data_7 * df.total_rech_data_8\n",
    "## Now we can drop the individual amount and number columns\n",
    "df.drop(['av_rech_amt_data_6','av_rech_amt_data_7','av_rech_amt_data_8','total_rech_data_6',\n",
    "              'total_rech_data_7','total_rech_data_8'],axis = 1,inplace = True)"
   ]
  },
  {
   "cell_type": "markdown",
   "id": "623884b2",
   "metadata": {},
   "source": [
    "##### The dataset has 135 float columns, 28 integer and 9 string type columns.\n",
    "##### Out of 70k records, many columns have less than 20k values in them. They have only 25% of values. So we can drop them."
   ]
  },
  {
   "cell_type": "code",
   "execution_count": 10,
   "id": "4335b0cd",
   "metadata": {},
   "outputs": [
    {
     "name": "stdout",
     "output_type": "stream",
     "text": [
      "24 ['date_of_last_rech_data_6', 'date_of_last_rech_data_7', 'date_of_last_rech_data_8', 'max_rech_data_6', 'max_rech_data_7', 'max_rech_data_8', 'count_rech_2g_6', 'count_rech_2g_7', 'count_rech_2g_8', 'count_rech_3g_6', 'count_rech_3g_7', 'count_rech_3g_8', 'arpu_3g_6', 'arpu_3g_7', 'arpu_3g_8', 'arpu_2g_6', 'arpu_2g_7', 'arpu_2g_8', 'night_pck_user_6', 'night_pck_user_7', 'night_pck_user_8', 'fb_user_6', 'fb_user_7', 'fb_user_8']\n"
     ]
    }
   ],
   "source": [
    "lst=[]\n",
    "for i in df.columns:\n",
    "    if int((df[i].isna().sum()/df.shape[0])*100)>70:\n",
    "        lst.append(i)\n",
    "print(len(lst),lst)"
   ]
  },
  {
   "cell_type": "markdown",
   "id": "d572704f",
   "metadata": {},
   "source": [
    "##### Above 24 columns would be dropped as they dont have sufficient data"
   ]
  },
  {
   "cell_type": "code",
   "execution_count": 11,
   "id": "c4b6fa62",
   "metadata": {},
   "outputs": [],
   "source": [
    "df.drop(columns=lst,axis=0,inplace=True)"
   ]
  },
  {
   "cell_type": "code",
   "execution_count": 12,
   "id": "ed0111be",
   "metadata": {},
   "outputs": [
    {
     "data": {
      "text/plain": [
       "(69999, 145)"
      ]
     },
     "execution_count": 12,
     "metadata": {},
     "output_type": "execute_result"
    }
   ],
   "source": [
    "#checking new shape\n",
    "df.shape"
   ]
  },
  {
   "cell_type": "code",
   "execution_count": 13,
   "id": "be195d95",
   "metadata": {},
   "outputs": [],
   "source": [
    "#dropping rows having all null values\n",
    "df=df.dropna(axis=0,how='all')"
   ]
  },
  {
   "cell_type": "code",
   "execution_count": 14,
   "id": "5a237bdc",
   "metadata": {},
   "outputs": [
    {
     "data": {
      "text/plain": [
       "(69999, 145)"
      ]
     },
     "execution_count": 14,
     "metadata": {},
     "output_type": "execute_result"
    }
   ],
   "source": [
    "#checking new shape\n",
    "df.shape"
   ]
  },
  {
   "cell_type": "markdown",
   "id": "4deedcb1",
   "metadata": {},
   "source": [
    "##### There is not change in rows of original dataset after dropping rows with all null values. This means no row has all null values in dataset."
   ]
  },
  {
   "cell_type": "markdown",
   "id": "48e88ab9",
   "metadata": {},
   "source": [
    "##### Checking if in a columns all values are unique or contains a single not null value in all rows because these columns do not add much information to model"
   ]
  },
  {
   "cell_type": "code",
   "execution_count": 15,
   "id": "05b574d7",
   "metadata": {},
   "outputs": [
    {
     "data": {
      "text/plain": [
       "Index(['id', 'circle_id', 'loc_og_t2o_mou', 'std_og_t2o_mou', 'loc_ic_t2o_mou',\n",
       "       'last_date_of_month_6', 'last_date_of_month_7', 'last_date_of_month_8',\n",
       "       'std_og_t2c_mou_6', 'std_og_t2c_mou_7', 'std_og_t2c_mou_8',\n",
       "       'std_ic_t2o_mou_6', 'std_ic_t2o_mou_7', 'std_ic_t2o_mou_8'],\n",
       "      dtype='object')"
      ]
     },
     "execution_count": 15,
     "metadata": {},
     "output_type": "execute_result"
    }
   ],
   "source": [
    "# calculating unique values of each column and checking on that\n",
    "k=df.nunique()\n",
    "j=k[(k.values ==1) | (k.values==69999)]\n",
    "j.index"
   ]
  },
  {
   "cell_type": "code",
   "execution_count": 16,
   "id": "bd10afcc",
   "metadata": {},
   "outputs": [],
   "source": [
    "#dropping the columns \n",
    "df.drop(j.index,axis=1,inplace=True)"
   ]
  },
  {
   "cell_type": "code",
   "execution_count": 17,
   "id": "c36ef3c4",
   "metadata": {},
   "outputs": [
    {
     "data": {
      "text/plain": [
       "(69999, 131)"
      ]
     },
     "execution_count": 17,
     "metadata": {},
     "output_type": "execute_result"
    }
   ],
   "source": [
    "#checking new shape\n",
    "df.shape"
   ]
  },
  {
   "cell_type": "code",
   "execution_count": 18,
   "id": "afbe67c7",
   "metadata": {},
   "outputs": [
    {
     "data": {
      "text/plain": [
       "0    62867\n",
       "1     7132\n",
       "Name: churn_probability, dtype: int64"
      ]
     },
     "execution_count": 18,
     "metadata": {},
     "output_type": "execute_result"
    }
   ],
   "source": [
    "df['churn_probability'].value_counts()"
   ]
  },
  {
   "cell_type": "markdown",
   "id": "1dca28f8",
   "metadata": {},
   "source": [
    "##### we can see that we have around 62K data for loyal customers and around 7k data for churned customer"
   ]
  },
  {
   "cell_type": "code",
   "execution_count": 19,
   "id": "3f4d8f09",
   "metadata": {
    "scrolled": false
   },
   "outputs": [
    {
     "name": "stdout",
     "output_type": "stream",
     "text": [
      "<class 'pandas.core.frame.DataFrame'>\n",
      "RangeIndex: 69999 entries, 0 to 69998\n",
      "Data columns (total 131 columns):\n",
      " #    Column                 Non-Null Count  Dtype  \n",
      "---   ------                 --------------  -----  \n",
      " 0    arpu_6                 69999 non-null  float64\n",
      " 1    arpu_7                 69999 non-null  float64\n",
      " 2    arpu_8                 69999 non-null  float64\n",
      " 3    onnet_mou_6            67231 non-null  float64\n",
      " 4    onnet_mou_7            67312 non-null  float64\n",
      " 5    onnet_mou_8            66296 non-null  float64\n",
      " 6    offnet_mou_6           67231 non-null  float64\n",
      " 7    offnet_mou_7           67312 non-null  float64\n",
      " 8    offnet_mou_8           66296 non-null  float64\n",
      " 9    roam_ic_mou_6          67231 non-null  float64\n",
      " 10   roam_ic_mou_7          67312 non-null  float64\n",
      " 11   roam_ic_mou_8          66296 non-null  float64\n",
      " 12   roam_og_mou_6          67231 non-null  float64\n",
      " 13   roam_og_mou_7          67312 non-null  float64\n",
      " 14   roam_og_mou_8          66296 non-null  float64\n",
      " 15   loc_og_t2t_mou_6       67231 non-null  float64\n",
      " 16   loc_og_t2t_mou_7       67312 non-null  float64\n",
      " 17   loc_og_t2t_mou_8       66296 non-null  float64\n",
      " 18   loc_og_t2m_mou_6       67231 non-null  float64\n",
      " 19   loc_og_t2m_mou_7       67312 non-null  float64\n",
      " 20   loc_og_t2m_mou_8       66296 non-null  float64\n",
      " 21   loc_og_t2f_mou_6       67231 non-null  float64\n",
      " 22   loc_og_t2f_mou_7       67312 non-null  float64\n",
      " 23   loc_og_t2f_mou_8       66296 non-null  float64\n",
      " 24   loc_og_t2c_mou_6       67231 non-null  float64\n",
      " 25   loc_og_t2c_mou_7       67312 non-null  float64\n",
      " 26   loc_og_t2c_mou_8       66296 non-null  float64\n",
      " 27   loc_og_mou_6           67231 non-null  float64\n",
      " 28   loc_og_mou_7           67312 non-null  float64\n",
      " 29   loc_og_mou_8           66296 non-null  float64\n",
      " 30   std_og_t2t_mou_6       67231 non-null  float64\n",
      " 31   std_og_t2t_mou_7       67312 non-null  float64\n",
      " 32   std_og_t2t_mou_8       66296 non-null  float64\n",
      " 33   std_og_t2m_mou_6       67231 non-null  float64\n",
      " 34   std_og_t2m_mou_7       67312 non-null  float64\n",
      " 35   std_og_t2m_mou_8       66296 non-null  float64\n",
      " 36   std_og_t2f_mou_6       67231 non-null  float64\n",
      " 37   std_og_t2f_mou_7       67312 non-null  float64\n",
      " 38   std_og_t2f_mou_8       66296 non-null  float64\n",
      " 39   std_og_mou_6           67231 non-null  float64\n",
      " 40   std_og_mou_7           67312 non-null  float64\n",
      " 41   std_og_mou_8           66296 non-null  float64\n",
      " 42   isd_og_mou_6           67231 non-null  float64\n",
      " 43   isd_og_mou_7           67312 non-null  float64\n",
      " 44   isd_og_mou_8           66296 non-null  float64\n",
      " 45   spl_og_mou_6           67231 non-null  float64\n",
      " 46   spl_og_mou_7           67312 non-null  float64\n",
      " 47   spl_og_mou_8           66296 non-null  float64\n",
      " 48   og_others_6            67231 non-null  float64\n",
      " 49   og_others_7            67312 non-null  float64\n",
      " 50   og_others_8            66296 non-null  float64\n",
      " 51   total_og_mou_6         69999 non-null  float64\n",
      " 52   total_og_mou_7         69999 non-null  float64\n",
      " 53   total_og_mou_8         69999 non-null  float64\n",
      " 54   loc_ic_t2t_mou_6       67231 non-null  float64\n",
      " 55   loc_ic_t2t_mou_7       67312 non-null  float64\n",
      " 56   loc_ic_t2t_mou_8       66296 non-null  float64\n",
      " 57   loc_ic_t2m_mou_6       67231 non-null  float64\n",
      " 58   loc_ic_t2m_mou_7       67312 non-null  float64\n",
      " 59   loc_ic_t2m_mou_8       66296 non-null  float64\n",
      " 60   loc_ic_t2f_mou_6       67231 non-null  float64\n",
      " 61   loc_ic_t2f_mou_7       67312 non-null  float64\n",
      " 62   loc_ic_t2f_mou_8       66296 non-null  float64\n",
      " 63   loc_ic_mou_6           67231 non-null  float64\n",
      " 64   loc_ic_mou_7           67312 non-null  float64\n",
      " 65   loc_ic_mou_8           66296 non-null  float64\n",
      " 66   std_ic_t2t_mou_6       67231 non-null  float64\n",
      " 67   std_ic_t2t_mou_7       67312 non-null  float64\n",
      " 68   std_ic_t2t_mou_8       66296 non-null  float64\n",
      " 69   std_ic_t2m_mou_6       67231 non-null  float64\n",
      " 70   std_ic_t2m_mou_7       67312 non-null  float64\n",
      " 71   std_ic_t2m_mou_8       66296 non-null  float64\n",
      " 72   std_ic_t2f_mou_6       67231 non-null  float64\n",
      " 73   std_ic_t2f_mou_7       67312 non-null  float64\n",
      " 74   std_ic_t2f_mou_8       66296 non-null  float64\n",
      " 75   std_ic_mou_6           67231 non-null  float64\n",
      " 76   std_ic_mou_7           67312 non-null  float64\n",
      " 77   std_ic_mou_8           66296 non-null  float64\n",
      " 78   total_ic_mou_6         69999 non-null  float64\n",
      " 79   total_ic_mou_7         69999 non-null  float64\n",
      " 80   total_ic_mou_8         69999 non-null  float64\n",
      " 81   spl_ic_mou_6           67231 non-null  float64\n",
      " 82   spl_ic_mou_7           67312 non-null  float64\n",
      " 83   spl_ic_mou_8           66296 non-null  float64\n",
      " 84   isd_ic_mou_6           67231 non-null  float64\n",
      " 85   isd_ic_mou_7           67312 non-null  float64\n",
      " 86   isd_ic_mou_8           66296 non-null  float64\n",
      " 87   ic_others_6            67231 non-null  float64\n",
      " 88   ic_others_7            67312 non-null  float64\n",
      " 89   ic_others_8            66296 non-null  float64\n",
      " 90   total_rech_num_6       69999 non-null  int64  \n",
      " 91   total_rech_num_7       69999 non-null  int64  \n",
      " 92   total_rech_num_8       69999 non-null  int64  \n",
      " 93   total_rech_amt_6       69999 non-null  int64  \n",
      " 94   total_rech_amt_7       69999 non-null  int64  \n",
      " 95   total_rech_amt_8       69999 non-null  int64  \n",
      " 96   max_rech_amt_6         69999 non-null  int64  \n",
      " 97   max_rech_amt_7         69999 non-null  int64  \n",
      " 98   max_rech_amt_8         69999 non-null  int64  \n",
      " 99   date_of_last_rech_6    68898 non-null  object \n",
      " 100  date_of_last_rech_7    68765 non-null  object \n",
      " 101  date_of_last_rech_8    67538 non-null  object \n",
      " 102  last_day_rch_amt_6     69999 non-null  int64  \n",
      " 103  last_day_rch_amt_7     69999 non-null  int64  \n",
      " 104  last_day_rch_amt_8     69999 non-null  int64  \n",
      " 105  vol_2g_mb_6            69999 non-null  float64\n",
      " 106  vol_2g_mb_7            69999 non-null  float64\n",
      " 107  vol_2g_mb_8            69999 non-null  float64\n",
      " 108  vol_3g_mb_6            69999 non-null  float64\n",
      " 109  vol_3g_mb_7            69999 non-null  float64\n",
      " 110  vol_3g_mb_8            69999 non-null  float64\n",
      " 111  monthly_2g_6           69999 non-null  int64  \n",
      " 112  monthly_2g_7           69999 non-null  int64  \n",
      " 113  monthly_2g_8           69999 non-null  int64  \n",
      " 114  sachet_2g_6            69999 non-null  int64  \n",
      " 115  sachet_2g_7            69999 non-null  int64  \n",
      " 116  sachet_2g_8            69999 non-null  int64  \n",
      " 117  monthly_3g_6           69999 non-null  int64  \n",
      " 118  monthly_3g_7           69999 non-null  int64  \n",
      " 119  monthly_3g_8           69999 non-null  int64  \n",
      " 120  sachet_3g_6            69999 non-null  int64  \n",
      " 121  sachet_3g_7            69999 non-null  int64  \n",
      " 122  sachet_3g_8            69999 non-null  int64  \n",
      " 123  aon                    69999 non-null  int64  \n",
      " 124  aug_vbc_3g             69999 non-null  float64\n",
      " 125  jul_vbc_3g             69999 non-null  float64\n",
      " 126  jun_vbc_3g             69999 non-null  float64\n",
      " 127  churn_probability      69999 non-null  int64  \n",
      " 128  total_rech_data_amt_6  69999 non-null  float64\n",
      " 129  total_rech_data_amt_7  69999 non-null  float64\n",
      " 130  total_rech_data_amt_8  69999 non-null  float64\n",
      "dtypes: float64(102), int64(26), object(3)\n",
      "memory usage: 70.0+ MB\n"
     ]
    }
   ],
   "source": [
    "df.info(verbose=True,show_counts=True)"
   ]
  },
  {
   "cell_type": "code",
   "execution_count": 20,
   "id": "f50b1de6",
   "metadata": {},
   "outputs": [
    {
     "data": {
      "text/html": [
       "<div>\n",
       "<style scoped>\n",
       "    .dataframe tbody tr th:only-of-type {\n",
       "        vertical-align: middle;\n",
       "    }\n",
       "\n",
       "    .dataframe tbody tr th {\n",
       "        vertical-align: top;\n",
       "    }\n",
       "\n",
       "    .dataframe thead th {\n",
       "        text-align: right;\n",
       "    }\n",
       "</style>\n",
       "<table border=\"1\" class=\"dataframe\">\n",
       "  <thead>\n",
       "    <tr style=\"text-align: right;\">\n",
       "      <th></th>\n",
       "      <th>date_of_last_rech_6</th>\n",
       "      <th>date_of_last_rech_7</th>\n",
       "      <th>date_of_last_rech_8</th>\n",
       "    </tr>\n",
       "  </thead>\n",
       "  <tbody>\n",
       "    <tr>\n",
       "      <th>0</th>\n",
       "      <td>6/22/2014</td>\n",
       "      <td>7/10/2014</td>\n",
       "      <td>8/24/2014</td>\n",
       "    </tr>\n",
       "    <tr>\n",
       "      <th>1</th>\n",
       "      <td>6/12/2014</td>\n",
       "      <td>7/10/2014</td>\n",
       "      <td>8/26/2014</td>\n",
       "    </tr>\n",
       "    <tr>\n",
       "      <th>2</th>\n",
       "      <td>6/11/2014</td>\n",
       "      <td>7/22/2014</td>\n",
       "      <td>8/24/2014</td>\n",
       "    </tr>\n",
       "    <tr>\n",
       "      <th>3</th>\n",
       "      <td>6/15/2014</td>\n",
       "      <td>7/21/2014</td>\n",
       "      <td>8/25/2014</td>\n",
       "    </tr>\n",
       "    <tr>\n",
       "      <th>4</th>\n",
       "      <td>6/25/2014</td>\n",
       "      <td>7/26/2014</td>\n",
       "      <td>8/30/2014</td>\n",
       "    </tr>\n",
       "  </tbody>\n",
       "</table>\n",
       "</div>"
      ],
      "text/plain": [
       "  date_of_last_rech_6 date_of_last_rech_7 date_of_last_rech_8\n",
       "0           6/22/2014           7/10/2014           8/24/2014\n",
       "1           6/12/2014           7/10/2014           8/26/2014\n",
       "2           6/11/2014           7/22/2014           8/24/2014\n",
       "3           6/15/2014           7/21/2014           8/25/2014\n",
       "4           6/25/2014           7/26/2014           8/30/2014"
      ]
     },
     "execution_count": 20,
     "metadata": {},
     "output_type": "execute_result"
    }
   ],
   "source": [
    "#checking on object data types\n",
    "df[['date_of_last_rech_6','date_of_last_rech_7','date_of_last_rech_8']].head()"
   ]
  },
  {
   "cell_type": "code",
   "execution_count": 21,
   "id": "a5689b7d",
   "metadata": {},
   "outputs": [],
   "source": [
    "##### converting string to dates\n",
    "df['date_of_last_rech_6']=pd.to_datetime(df['date_of_last_rech_6'])\n",
    "df['date_of_last_rech_7']=pd.to_datetime(df['date_of_last_rech_7'])\n",
    "df['date_of_last_rech_8']=pd.to_datetime(df['date_of_last_rech_8'])"
   ]
  },
  {
   "cell_type": "code",
   "execution_count": 22,
   "id": "1ef7f8ee",
   "metadata": {},
   "outputs": [
    {
     "data": {
      "text/plain": [
       "1234"
      ]
     },
     "execution_count": 22,
     "metadata": {},
     "output_type": "execute_result"
    }
   ],
   "source": [
    "df['date_of_last_rech_7'].isna().sum()"
   ]
  },
  {
   "cell_type": "markdown",
   "id": "44413c26",
   "metadata": {},
   "source": [
    "##### Filling null values in date columns with mode"
   ]
  },
  {
   "cell_type": "code",
   "execution_count": 23,
   "id": "af8b78e1",
   "metadata": {},
   "outputs": [],
   "source": [
    "df['date_of_last_rech_6'].fillna(value=df['date_of_last_rech_6'].mode(),inplace=True)\n",
    "df['date_of_last_rech_7'].fillna(value=df['date_of_last_rech_7'].mode(),inplace=True)\n",
    "df['date_of_last_rech_8'].fillna(value=df['date_of_last_rech_8'].mode(),inplace=True)"
   ]
  },
  {
   "cell_type": "markdown",
   "id": "149b6953",
   "metadata": {},
   "source": [
    "##### Filling all null values in data with mean of columns"
   ]
  },
  {
   "cell_type": "code",
   "execution_count": 24,
   "id": "ac8a3182",
   "metadata": {},
   "outputs": [],
   "source": [
    "for i in df.columns[df.isnull().sum()!=0]:\n",
    "    df[i].fillna(value=df[i].mean(),inplace=True)"
   ]
  },
  {
   "cell_type": "code",
   "execution_count": 25,
   "id": "0b352612",
   "metadata": {},
   "outputs": [
    {
     "data": {
      "text/plain": [
       "Index([], dtype='object')"
      ]
     },
     "execution_count": 25,
     "metadata": {},
     "output_type": "execute_result"
    }
   ],
   "source": [
    "df.columns[df.isnull().sum()!=0]"
   ]
  },
  {
   "cell_type": "markdown",
   "id": "f3585108",
   "metadata": {},
   "source": []
  },
  {
   "cell_type": "markdown",
   "id": "2ba9a63a",
   "metadata": {},
   "source": [
    "##### All null values were filled."
   ]
  },
  {
   "cell_type": "markdown",
   "id": "fb22df91",
   "metadata": {},
   "source": [
    "### Exploratory Data Analysis"
   ]
  },
  {
   "cell_type": "markdown",
   "id": "22f35ba5",
   "metadata": {},
   "source": [
    "#### Importing EDA Libraries"
   ]
  },
  {
   "cell_type": "code",
   "execution_count": 26,
   "id": "7a43ce84",
   "metadata": {},
   "outputs": [],
   "source": [
    "import matplotlib.pyplot as plt\n",
    "import seaborn as sns"
   ]
  },
  {
   "cell_type": "markdown",
   "id": "6f23c457",
   "metadata": {},
   "source": [
    "#### Univariate Analysis on numeric columns"
   ]
  },
  {
   "cell_type": "code",
   "execution_count": null,
   "id": "1765f3d1",
   "metadata": {},
   "outputs": [
    {
     "name": "stderr",
     "output_type": "stream",
     "text": [
      "/var/folders/mh/2rbnzn3n7d95nv54sf0nmhxm0000gn/T/ipykernel_64005/2184416410.py:3: RuntimeWarning: More than 20 figures have been opened. Figures created through the pyplot interface (`matplotlib.pyplot.figure`) are retained until explicitly closed and may consume too much memory. (To control this warning, see the rcParam `figure.max_open_warning`).\n",
      "  plt.figure(i)\n"
     ]
    },
    {
     "data": {
      "image/png": "[encoded data removed]",
      "text/plain": [
       "<Figure size 432x288 with 1 Axes>"
      ]
     },
     "metadata": {
      "needs_background": "light"
     },
     "output_type": "display_data"
    },
    {
     "data": {
      "image/png": "[encoded data removed]",
      "text/plain": [
       "<Figure size 432x288 with 1 Axes>"
      ]
     },
     "metadata": {
      "needs_background": "light"
     },
     "output_type": "display_data"
    },
    {
     "data": {
      "image/png": "[encoded data removed]",
      "text/plain": [
       "<Figure size 432x288 with 1 Axes>"
      ]
     },
     "metadata": {
      "needs_background": "light"
     },
     "output_type": "display_data"
    },
    {
     "data": {
      "image/png": "[encoded data removed]",
      "text/plain": [
       "<Figure size 432x288 with 1 Axes>"
      ]
     },
     "metadata": {
      "needs_background": "light"
     },
     "output_type": "display_data"
    },
    {
     "data": {
      "image/png": "[encoded data removed]",
      "text/plain": [
       "<Figure size 432x288 with 1 Axes>"
      ]
     },
     "metadata": {
      "needs_background": "light"
     },
     "output_type": "display_data"
    },
    {
     "data": {
      "image/png": "[encoded data removed]",
      "text/plain": [
       "<Figure size 432x288 with 1 Axes>"
      ]
     },
     "metadata": {
      "needs_background": "light"
     },
     "output_type": "display_data"
    },
    {
     "data": {
      "image/png": "[encoded data removed]",
      "text/plain": [
       "<Figure size 432x288 with 1 Axes>"
      ]
     },
     "metadata": {
      "needs_background": "light"
     },
     "output_type": "display_data"
    },
    {
     "data": {
      "image/png": "[encoded data removed]",
      "text/plain": [
       "<Figure size 432x288 with 1 Axes>"
      ]
     },
     "metadata": {
      "needs_background": "light"
     },
     "output_type": "display_data"
    },
    {
     "data": {
      "image/png": "[encoded data removed]",
      "text/plain": [
       "<Figure size 432x288 with 1 Axes>"
      ]
     },
     "metadata": {
      "needs_background": "light"
     },
     "output_type": "display_data"
    },
    {
     "data": {
      "image/png": "[encoded data removed]",
      "text/plain": [
       "<Figure size 432x288 with 1 Axes>"
      ]
     },
     "metadata": {
      "needs_background": "light"
     },
     "output_type": "display_data"
    },
    {
     "data": {
      "image/png": "[encoded data removed]",
      "text/plain": [
       "<Figure size 432x288 with 1 Axes>"
      ]
     },
     "metadata": {
      "needs_background": "light"
     },
     "output_type": "display_data"
    },
    {
     "data": {
      "image/png": "[encoded data removed]",
      "text/plain": [
       "<Figure size 432x288 with 1 Axes>"
      ]
     },
     "metadata": {
      "needs_background": "light"
     },
     "output_type": "display_data"
    },
    {
     "data": {
      "image/png": "[encoded data removed]",
      "text/plain": [
       "<Figure size 432x288 with 1 Axes>"
      ]
     },
     "metadata": {
      "needs_background": "light"
     },
     "output_type": "display_data"
    },
    {
     "data": {
      "image/png": "[encoded data removed]",
      "text/plain": [
       "<Figure size 432x288 with 1 Axes>"
      ]
     },
     "metadata": {
      "needs_background": "light"
     },
     "output_type": "display_data"
    },
    {
     "data": {
      "image/png": "[encoded data removed]",
      "text/plain": [
       "<Figure size 432x288 with 1 Axes>"
      ]
     },
     "metadata": {
      "needs_background": "light"
     },
     "output_type": "display_data"
    },
    {
     "data": {
      "image/png": "[encoded data removed]",
      "text/plain": [
       "<Figure size 432x288 with 1 Axes>"
      ]
     },
     "metadata": {
      "needs_background": "light"
     },
     "output_type": "display_data"
    },
    {
     "data": {
      "image/png": "[encoded data removed]",
      "text/plain": [
       "<Figure size 432x288 with 1 Axes>"
      ]
     },
     "metadata": {
      "needs_background": "light"
     },
     "output_type": "display_data"
    },
    {
     "data": {
      "image/png": "[encoded data removed]",
      "text/plain": [
       "<Figure size 432x288 with 1 Axes>"
      ]
     },
     "metadata": {
      "needs_background": "light"
     },
     "output_type": "display_data"
    },
    {
     "data": {
      "image/png": "[encoded data removed]",
      "text/plain": [
       "<Figure size 432x288 with 1 Axes>"
      ]
     },
     "metadata": {
      "needs_background": "light"
     },
     "output_type": "display_data"
    },
    {
     "data": {
      "image/png": "[encoded data removed]",
      "text/plain": [
       "<Figure size 432x288 with 1 Axes>"
      ]
     },
     "metadata": {
      "needs_background": "light"
     },
     "output_type": "display_data"
    },
    {
     "data": {
      "image/png": "[encoded data removed]",
      "text/plain": [
       "<Figure size 432x288 with 1 Axes>"
      ]
     },
     "metadata": {
      "needs_background": "light"
     },
     "output_type": "display_data"
    },
    {
     "data": {
      "image/png": "[encoded data removed]",
      "text/plain": [
       "<Figure size 432x288 with 1 Axes>"
      ]
     },
     "metadata": {
      "needs_background": "light"
     },
     "output_type": "display_data"
    },
    {
     "data": {
      "image/png": "[encoded data removed]",
      "text/plain": [
       "<Figure size 432x288 with 1 Axes>"
      ]
     },
     "metadata": {
      "needs_background": "light"
     },
     "output_type": "display_data"
    },
    {
     "data": {
      "image/png": "[encoded data removed]",
      "text/plain": [
       "<Figure size 432x288 with 1 Axes>"
      ]
     },
     "metadata": {
      "needs_background": "light"
     },
     "output_type": "display_data"
    },
    {
     "data": {
      "image/png": "[encoded data removed]",
      "text/plain": [
       "<Figure size 432x288 with 1 Axes>"
      ]
     },
     "metadata": {
      "needs_background": "light"
     },
     "output_type": "display_data"
    },
    {
     "data": {
      "image/png": "[encoded data removed]",
      "text/plain": [
       "<Figure size 432x288 with 1 Axes>"
      ]
     },
     "metadata": {
      "needs_background": "light"
     },
     "output_type": "display_data"
    },
    {
     "data": {
      "image/png": "[encoded data removed]",
      "text/plain": [
       "<Figure size 432x288 with 1 Axes>"
      ]
     },
     "metadata": {
      "needs_background": "light"
     },
     "output_type": "display_data"
    },
    {
     "data": {
      "image/png": "[encoded data removed]",
      "text/plain": [
       "<Figure size 432x288 with 1 Axes>"
      ]
     },
     "metadata": {
      "needs_background": "light"
     },
     "output_type": "display_data"
    },
    {
     "data": {
      "image/png": "[encoded data removed]",
      "text/plain": [
       "<Figure size 432x288 with 1 Axes>"
      ]
     },
     "metadata": {
      "needs_background": "light"
     },
     "output_type": "display_data"
    },
    {
     "data": {
      "image/png": "[encoded data removed]",
      "text/plain": [
       "<Figure size 432x288 with 1 Axes>"
      ]
     },
     "metadata": {
      "needs_background": "light"
     },
     "output_type": "display_data"
    },
    {
     "data": {
      "image/png": "[encoded data removed]",
      "text/plain": [
       "<Figure size 432x288 with 1 Axes>"
      ]
     },
     "metadata": {
      "needs_background": "light"
     },
     "output_type": "display_data"
    },
    {
     "data": {
      "image/png": "[encoded data removed]",
      "text/plain": [
       "<Figure size 432x288 with 1 Axes>"
      ]
     },
     "metadata": {
      "needs_background": "light"
     },
     "output_type": "display_data"
    },
    {
     "data": {
      "image/png": "[encoded data removed]",
      "text/plain": [
       "<Figure size 432x288 with 1 Axes>"
      ]
     },
     "metadata": {
      "needs_background": "light"
     },
     "output_type": "display_data"
    },
    {
     "data": {
      "image/png": "[encoded data removed]",
      "text/plain": [
       "<Figure size 432x288 with 1 Axes>"
      ]
     },
     "metadata": {
      "needs_background": "light"
     },
     "output_type": "display_data"
    },
    {
     "data": {
      "image/png": "[encoded data removed]",
      "text/plain": [
       "<Figure size 432x288 with 1 Axes>"
      ]
     },
     "metadata": {
      "needs_background": "light"
     },
     "output_type": "display_data"
    },
    {
     "data": {
      "image/png": "[encoded data removed]",
      "text/plain": [
       "<Figure size 432x288 with 1 Axes>"
      ]
     },
     "metadata": {
      "needs_background": "light"
     },
     "output_type": "display_data"
    },
    {
     "data": {
      "image/png": "[encoded data removed]",
      "text/plain": [
       "<Figure size 432x288 with 1 Axes>"
      ]
     },
     "metadata": {
      "needs_background": "light"
     },
     "output_type": "display_data"
    },
    {
     "data": {
      "image/png": "[encoded data removed]",
      "text/plain": [
       "<Figure size 432x288 with 1 Axes>"
      ]
     },
     "metadata": {
      "needs_background": "light"
     },
     "output_type": "display_data"
    },
    {
     "data": {
      "image/png": "[encoded data removed]",
      "text/plain": [
       "<Figure size 432x288 with 1 Axes>"
      ]
     },
     "metadata": {
      "needs_background": "light"
     },
     "output_type": "display_data"
    },
    {
     "data": {
      "image/png": "[encoded data removed]",
      "text/plain": [
       "<Figure size 432x288 with 1 Axes>"
      ]
     },
     "metadata": {
      "needs_background": "light"
     },
     "output_type": "display_data"
    },
    {
     "data": {
      "image/png": "[encoded data removed]",
      "text/plain": [
       "<Figure size 432x288 with 1 Axes>"
      ]
     },
     "metadata": {
      "needs_background": "light"
     },
     "output_type": "display_data"
    },
    {
     "data": {
      "image/png": "[encoded data removed]",
      "text/plain": [
       "<Figure size 432x288 with 1 Axes>"
      ]
     },
     "metadata": {
      "needs_background": "light"
     },
     "output_type": "display_data"
    },
    {
     "data": {
      "image/png": "[encoded data removed]",
      "text/plain": [
       "<Figure size 432x288 with 1 Axes>"
      ]
     },
     "metadata": {
      "needs_background": "light"
     },
     "output_type": "display_data"
    },
    {
     "data": {
      "image/png": "[encoded data removed]",
      "text/plain": [
       "<Figure size 432x288 with 1 Axes>"
      ]
     },
     "metadata": {
      "needs_background": "light"
     },
     "output_type": "display_data"
    },
    {
     "data": {
      "image/png": "[encoded data removed]",
      "text/plain": [
       "<Figure size 432x288 with 1 Axes>"
      ]
     },
     "metadata": {
      "needs_background": "light"
     },
     "output_type": "display_data"
    },
    {
     "data": {
      "image/png": "[encoded data removed]",
      "text/plain": [
       "<Figure size 432x288 with 1 Axes>"
      ]
     },
     "metadata": {
      "needs_background": "light"
     },
     "output_type": "display_data"
    },
    {
     "data": {
      "image/png": "[encoded data removed]",
      "text/plain": [
       "<Figure size 432x288 with 1 Axes>"
      ]
     },
     "metadata": {
      "needs_background": "light"
     },
     "output_type": "display_data"
    },
    {
     "data": {
      "image/png": "[encoded data removed]",
      "text/plain": [
       "<Figure size 432x288 with 1 Axes>"
      ]
     },
     "metadata": {
      "needs_background": "light"
     },
     "output_type": "display_data"
    },
    {
     "data": {
      "image/png": "[encoded data removed]",
      "text/plain": [
       "<Figure size 432x288 with 1 Axes>"
      ]
     },
     "metadata": {
      "needs_background": "light"
     },
     "output_type": "display_data"
    },
    {
     "data": {
      "image/png": "[encoded data removed]",
      "text/plain": [
       "<Figure size 432x288 with 1 Axes>"
      ]
     },
     "metadata": {
      "needs_background": "light"
     },
     "output_type": "display_data"
    },
    {
     "data": {
      "image/png": "[encoded data removed]",
      "text/plain": [
       "<Figure size 432x288 with 1 Axes>"
      ]
     },
     "metadata": {
      "needs_background": "light"
     },
     "output_type": "display_data"
    },
    {
     "data": {
      "image/png": "[encoded data removed]",
      "text/plain": [
       "<Figure size 432x288 with 1 Axes>"
      ]
     },
     "metadata": {
      "needs_background": "light"
     },
     "output_type": "display_data"
    },
    {
     "data": {
      "image/png": "[encoded data removed]",
      "text/plain": [
       "<Figure size 432x288 with 1 Axes>"
      ]
     },
     "metadata": {
      "needs_background": "light"
     },
     "output_type": "display_data"
    },
    {
     "data": {
      "image/png": "[encoded data removed]",
      "text/plain": [
       "<Figure size 432x288 with 1 Axes>"
      ]
     },
     "metadata": {
      "needs_background": "light"
     },
     "output_type": "display_data"
    },
    {
     "data": {
      "image/png": "[encoded data removed]",
      "text/plain": [
       "<Figure size 432x288 with 1 Axes>"
      ]
     },
     "metadata": {
      "needs_background": "light"
     },
     "output_type": "display_data"
    },
    {
     "data": {
      "image/png": "[encoded data removed]",
      "text/plain": [
       "<Figure size 432x288 with 1 Axes>"
      ]
     },
     "metadata": {
      "needs_background": "light"
     },
     "output_type": "display_data"
    },
    {
     "data": {
      "image/png": "[encoded data removed]",
      "text/plain": [
       "<Figure size 432x288 with 1 Axes>"
      ]
     },
     "metadata": {
      "needs_background": "light"
     },
     "output_type": "display_data"
    },
    {
     "data": {
      "image/png": "[encoded data removed]",
      "text/plain": [
       "<Figure size 432x288 with 1 Axes>"
      ]
     },
     "metadata": {
      "needs_background": "light"
     },
     "output_type": "display_data"
    },
    {
     "data": {
      "image/png": "[encoded data removed]",
      "text/plain": [
       "<Figure size 432x288 with 1 Axes>"
      ]
     },
     "metadata": {
      "needs_background": "light"
     },
     "output_type": "display_data"
    },
    {
     "data": {
      "image/png": "[encoded data removed]",
      "text/plain": [
       "<Figure size 432x288 with 1 Axes>"
      ]
     },
     "metadata": {
      "needs_background": "light"
     },
     "output_type": "display_data"
    },
    {
     "data": {
      "image/png": "[encoded data removed]",
      "text/plain": [
       "<Figure size 432x288 with 1 Axes>"
      ]
     },
     "metadata": {
      "needs_background": "light"
     },
     "output_type": "display_data"
    },
    {
     "data": {
      "image/png": "[encoded data removed]",
      "text/plain": [
       "<Figure size 432x288 with 1 Axes>"
      ]
     },
     "metadata": {
      "needs_background": "light"
     },
     "output_type": "display_data"
    },
    {
     "data": {
      "image/png": "[encoded data removed]",
      "text/plain": [
       "<Figure size 432x288 with 1 Axes>"
      ]
     },
     "metadata": {
      "needs_background": "light"
     },
     "output_type": "display_data"
    },
    {
     "data": {
      "image/png": "[encoded data removed]",
      "text/plain": [
       "<Figure size 432x288 with 1 Axes>"
      ]
     },
     "metadata": {
      "needs_background": "light"
     },
     "output_type": "display_data"
    },
    {
     "data": {
      "image/png": "[encoded data removed]",
      "text/plain": [
       "<Figure size 432x288 with 1 Axes>"
      ]
     },
     "metadata": {
      "needs_background": "light"
     },
     "output_type": "display_data"
    },
    {
     "data": {
      "image/png": "[encoded data removed]",
      "text/plain": [
       "<Figure size 432x288 with 1 Axes>"
      ]
     },
     "metadata": {
      "needs_background": "light"
     },
     "output_type": "display_data"
    },
    {
     "data": {
      "image/png": "[encoded data removed]",
      "text/plain": [
       "<Figure size 432x288 with 1 Axes>"
      ]
     },
     "metadata": {
      "needs_background": "light"
     },
     "output_type": "display_data"
    },
    {
     "data": {
      "image/png": "[encoded data removed]",
      "text/plain": [
       "<Figure size 432x288 with 1 Axes>"
      ]
     },
     "metadata": {
      "needs_background": "light"
     },
     "output_type": "display_data"
    },
    {
     "data": {
      "image/png": "[encoded data removed]",
      "text/plain": [
       "<Figure size 432x288 with 1 Axes>"
      ]
     },
     "metadata": {
      "needs_background": "light"
     },
     "output_type": "display_data"
    },
    {
     "data": {
      "image/png": "[encoded data removed]",
      "text/plain": [
       "<Figure size 432x288 with 1 Axes>"
      ]
     },
     "metadata": {
      "needs_background": "light"
     },
     "output_type": "display_data"
    },
    {
     "data": {
      "image/png": "[encoded data removed]",
      "text/plain": [
       "<Figure size 432x288 with 1 Axes>"
      ]
     },
     "metadata": {
      "needs_background": "light"
     },
     "output_type": "display_data"
    },
    {
     "data": {
      "image/png": "[encoded data removed]",
      "text/plain": [
       "<Figure size 432x288 with 1 Axes>"
      ]
     },
     "metadata": {
      "needs_background": "light"
     },
     "output_type": "display_data"
    },
    {
     "data": {
      "image/png": "[encoded data removed]",
      "text/plain": [
       "<Figure size 432x288 with 1 Axes>"
      ]
     },
     "metadata": {
      "needs_background": "light"
     },
     "output_type": "display_data"
    },
    {
     "data": {
      "image/png": "[encoded data removed]",
      "text/plain": [
       "<Figure size 432x288 with 1 Axes>"
      ]
     },
     "metadata": {
      "needs_background": "light"
     },
     "output_type": "display_data"
    },
    {
     "data": {
      "image/png": "[encoded data removed]",
      "text/plain": [
       "<Figure size 432x288 with 1 Axes>"
      ]
     },
     "metadata": {
      "needs_background": "light"
     },
     "output_type": "display_data"
    },
    {
     "data": {
      "image/png": "[encoded data removed]",
      "text/plain": [
       "<Figure size 432x288 with 1 Axes>"
      ]
     },
     "metadata": {
      "needs_background": "light"
     },
     "output_type": "display_data"
    },
    {
     "data": {
      "image/png": "[encoded data removed]",
      "text/plain": [
       "<Figure size 432x288 with 1 Axes>"
      ]
     },
     "metadata": {
      "needs_background": "light"
     },
     "output_type": "display_data"
    },
    {
     "data": {
      "image/png": "[encoded data removed]",
      "text/plain": [
       "<Figure size 432x288 with 1 Axes>"
      ]
     },
     "metadata": {
      "needs_background": "light"
     },
     "output_type": "display_data"
    },
    {
     "data": {
      "image/png": "[encoded data removed]",
      "text/plain": [
       "<Figure size 432x288 with 1 Axes>"
      ]
     },
     "metadata": {
      "needs_background": "light"
     },
     "output_type": "display_data"
    },
    {
     "data": {
      "image/png": "[encoded data removed]",
      "text/plain": [
       "<Figure size 432x288 with 1 Axes>"
      ]
     },
     "metadata": {
      "needs_background": "light"
     },
     "output_type": "display_data"
    },
    {
     "data": {
      "image/png": "[encoded data removed]",
      "text/plain": [
       "<Figure size 432x288 with 1 Axes>"
      ]
     },
     "metadata": {
      "needs_background": "light"
     },
     "output_type": "display_data"
    },
    {
     "data": {
      "image/png": "[encoded data removed]",
      "text/plain": [
       "<Figure size 432x288 with 1 Axes>"
      ]
     },
     "metadata": {
      "needs_background": "light"
     },
     "output_type": "display_data"
    },
    {
     "data": {
      "image/png": "[encoded data removed]",
      "text/plain": [
       "<Figure size 432x288 with 1 Axes>"
      ]
     },
     "metadata": {
      "needs_background": "light"
     },
     "output_type": "display_data"
    },
    {
     "data": {
      "image/png": "[encoded data removed]",
      "text/plain": [
       "<Figure size 432x288 with 1 Axes>"
      ]
     },
     "metadata": {
      "needs_background": "light"
     },
     "output_type": "display_data"
    },
    {
     "data": {
      "image/png": "[encoded data removed]",
      "text/plain": [
       "<Figure size 432x288 with 1 Axes>"
      ]
     },
     "metadata": {
      "needs_background": "light"
     },
     "output_type": "display_data"
    },
    {
     "data": {
      "image/png": "[encoded data removed]",
      "text/plain": [
       "<Figure size 432x288 with 1 Axes>"
      ]
     },
     "metadata": {
      "needs_background": "light"
     },
     "output_type": "display_data"
    },
    {
     "data": {
      "image/png": "[encoded data removed]",
      "text/plain": [
       "<Figure size 432x288 with 1 Axes>"
      ]
     },
     "metadata": {
      "needs_background": "light"
     },
     "output_type": "display_data"
    },
    {
     "data": {
      "image/png": "[encoded data removed]",
      "text/plain": [
       "<Figure size 432x288 with 1 Axes>"
      ]
     },
     "metadata": {
      "needs_background": "light"
     },
     "output_type": "display_data"
    },
    {
     "data": {
      "image/png": "[encoded data removed]",
      "text/plain": [
       "<Figure size 432x288 with 1 Axes>"
      ]
     },
     "metadata": {
      "needs_background": "light"
     },
     "output_type": "display_data"
    },
    {
     "data": {
      "image/png": "[encoded data removed]",
      "text/plain": [
       "<Figure size 432x288 with 1 Axes>"
      ]
     },
     "metadata": {
      "needs_background": "light"
     },
     "output_type": "display_data"
    },
    {
     "data": {
      "image/png": "[encoded data removed]",
      "text/plain": [
       "<Figure size 432x288 with 1 Axes>"
      ]
     },
     "metadata": {
      "needs_background": "light"
     },
     "output_type": "display_data"
    },
    {
     "data": {
      "image/png": "[encoded data removed]",
      "text/plain": [
       "<Figure size 432x288 with 1 Axes>"
      ]
     },
     "metadata": {
      "needs_background": "light"
     },
     "output_type": "display_data"
    }
   ],
   "source": [
    "#starting with numerical columns\n",
    "for i,col in enumerate(df.describe().columns):\n",
    "    plt.figure(i)\n",
    "    sns.boxplot(data=df,x=col)"
   ]
  },
  {
   "cell_type": "code",
   "execution_count": null,
   "id": "46835925",
   "metadata": {},
   "outputs": [],
   "source": [
    "df.shape"
   ]
  },
  {
   "cell_type": "markdown",
   "id": "dcd29034",
   "metadata": {},
   "source": [
    "### Checking the correlation between the features"
   ]
  },
  {
   "cell_type": "code",
   "execution_count": null,
   "id": "ba09a07f",
   "metadata": {},
   "outputs": [],
   "source": [
    "cor_matrix = df.corr().abs()\n",
    "# print(cor_matrix)\n",
    "\n",
    "#getting upper triangle in the corr matrix \n",
    "upper_tri = cor_matrix.where(np.triu(np.ones(cor_matrix.shape),k=1).astype(np.bool_))\n",
    "# print(upper_tri)\n",
    "to_drop = [column for column in upper_tri.columns if any(upper_tri[column] > 0.70  )]\n",
    "print(to_drop)\n"
   ]
  },
  {
   "cell_type": "code",
   "execution_count": null,
   "id": "52ab5ddf",
   "metadata": {},
   "outputs": [],
   "source": [
    "df.drop(columns=to_drop, inplace=True)\n",
    "df.shape"
   ]
  },
  {
   "cell_type": "code",
   "execution_count": null,
   "id": "8f88a45f",
   "metadata": {},
   "outputs": [],
   "source": [
    "\n",
    "plt.figure(figsize=(75, 28))\n",
    "sns.heatmap(df.corr(),annot=True,cmap='RdYlGn')\n",
    "plt.show()"
   ]
  },
  {
   "cell_type": "code",
   "execution_count": null,
   "id": "ec234e4a",
   "metadata": {},
   "outputs": [],
   "source": [
    "## Coverting AON(age of network) to months to see better insights"
   ]
  },
  {
   "cell_type": "code",
   "execution_count": null,
   "id": "7f0d9d10",
   "metadata": {},
   "outputs": [],
   "source": [
    "# lets now conevrt AON in months\n",
    "df['aon_mon'] = df['aon']/30\n",
    "df.drop('aon', axis=1, inplace=True)\n",
    "df['aon_mon'].head()"
   ]
  },
  {
   "cell_type": "code",
   "execution_count": null,
   "id": "861459a2",
   "metadata": {},
   "outputs": [],
   "source": [
    "aon = sns.distplot(df['aon_mon'], hist=True, kde=False, \n",
    "             bins=int(180/5), color = 'purple', \n",
    "             hist_kws={'edgecolor':'black'},\n",
    "             kde_kws={'linewidth': 10})\n",
    "aon.set_ylabel('No of Customers')\n",
    "aon.set_xlabel('Tenure in months')\n",
    "aon.set_title('Tenure Graph')"
   ]
  },
  {
   "cell_type": "code",
   "execution_count": null,
   "id": "f0aa7dcd",
   "metadata": {},
   "outputs": [],
   "source": [
    "tn_range = [0.0, 6.0, 12.0, 24.0, 60.0, 140.0]\n",
    "tn_label = [ '0-6 Months', '6-12 Months', '1-2 Yrs', '2-5 Yrs', '5 Yrs and above']\n",
    "df['tenure_range'] = pd.cut(df['aon_mon'], tn_range,labels= tn_label)\n",
    "df['tenure_range'].head()"
   ]
  },
  {
   "cell_type": "code",
   "execution_count": null,
   "id": "62ef45cc",
   "metadata": {},
   "outputs": [],
   "source": [
    "df['tenure_range'].value_counts().plot(kind='bar')"
   ]
  },
  {
   "cell_type": "markdown",
   "id": "0944e4ee",
   "metadata": {},
   "source": [
    "#### Churn Vs Tenure Range"
   ]
  },
  {
   "cell_type": "code",
   "execution_count": null,
   "id": "e9aad903",
   "metadata": {},
   "outputs": [],
   "source": [
    "sns.boxplot(x = df.churn_probability, y = df.aon_mon)"
   ]
  },
  {
   "cell_type": "markdown",
   "id": "0185887f",
   "metadata": {},
   "source": [
    "#### Churn Rate"
   ]
  },
  {
   "cell_type": "code",
   "execution_count": null,
   "id": "0e5d27e9",
   "metadata": {},
   "outputs": [],
   "source": [
    "# Lets look at the churn rate \n",
    "sns.countplot(data=df,x='churn_probability')"
   ]
  },
  {
   "cell_type": "code",
   "execution_count": null,
   "id": "24fb7ee0",
   "metadata": {},
   "outputs": [],
   "source": [
    "churn_rate = (len(df[df.churn_probability==1])/len(df)) * 100\n"
   ]
  },
  {
   "cell_type": "code",
   "execution_count": null,
   "id": "21cfaa5b",
   "metadata": {},
   "outputs": [],
   "source": [
    "churn_rate"
   ]
  },
  {
   "cell_type": "code",
   "execution_count": null,
   "id": "26e01a01",
   "metadata": {},
   "outputs": [],
   "source": []
  },
  {
   "cell_type": "markdown",
   "id": "0d3d148e",
   "metadata": {},
   "source": [
    "## We can see above the churn rate is ~10%"
   ]
  },
  {
   "cell_type": "markdown",
   "id": "3f60a326",
   "metadata": {},
   "source": [
    "##### checking numerical & catetorical features"
   ]
  },
  {
   "cell_type": "code",
   "execution_count": null,
   "id": "71105f8b",
   "metadata": {},
   "outputs": [],
   "source": [
    "# checking numerical columns\n",
    "num_columns = [col for col in df.columns if df[col].dtype in [\"int64\", \"float64\"]  ]\n",
    "num_columns\n",
    "# as churn_probability is target variable we can remove that from the list\n",
    "num_columns.remove(\"churn_probability\")"
   ]
  },
  {
   "cell_type": "code",
   "execution_count": null,
   "id": "62162e64",
   "metadata": {},
   "outputs": [],
   "source": [
    "categorical_features=[col for col in df.columns if df[col].dtype not in [\"int64\", \"float64\"]]\n",
    "categorical_features"
   ]
  },
  {
   "cell_type": "code",
   "execution_count": null,
   "id": "ddda2b09",
   "metadata": {},
   "outputs": [],
   "source": [
    "#  we can remove all of these "
   ]
  },
  {
   "cell_type": "code",
   "execution_count": null,
   "id": "cde90017",
   "metadata": {},
   "outputs": [],
   "source": [
    "df.drop(categorical_features, axis =1 , inplace=True)"
   ]
  },
  {
   "cell_type": "markdown",
   "id": "ff69d571",
   "metadata": {},
   "source": [
    "### Implementing the scaling and PCA "
   ]
  },
  {
   "cell_type": "code",
   "execution_count": null,
   "id": "94491c3e",
   "metadata": {},
   "outputs": [],
   "source": [
    "X = df.copy()\n",
    "X = X.drop(['churn_probability'], axis = 1)\n",
    "y = df[\"churn_probability\"]"
   ]
  },
  {
   "cell_type": "code",
   "execution_count": null,
   "id": "bfb4aad9",
   "metadata": {},
   "outputs": [],
   "source": [
    "X.columns"
   ]
  },
  {
   "cell_type": "code",
   "execution_count": null,
   "id": "d81b577f",
   "metadata": {},
   "outputs": [],
   "source": []
  },
  {
   "cell_type": "code",
   "execution_count": null,
   "id": "5b6d1ff7",
   "metadata": {},
   "outputs": [],
   "source": [
    "## Doing the scaling on Numerical features\n",
    "from sklearn.preprocessing import StandardScaler\n"
   ]
  },
  {
   "cell_type": "code",
   "execution_count": null,
   "id": "5e413eb4",
   "metadata": {},
   "outputs": [],
   "source": [
    "scaler = StandardScaler()\n",
    "X[num_columns] = scaler.fit_transform(X[num_columns])\n"
   ]
  },
  {
   "cell_type": "code",
   "execution_count": null,
   "id": "2630da5f",
   "metadata": {},
   "outputs": [],
   "source": []
  },
  {
   "cell_type": "code",
   "execution_count": null,
   "id": "c1edd218",
   "metadata": {},
   "outputs": [],
   "source": [
    "from sklearn.model_selection import train_test_split"
   ]
  },
  {
   "cell_type": "code",
   "execution_count": null,
   "id": "a1ae29a5",
   "metadata": {},
   "outputs": [],
   "source": [
    "X_train, X_test, y_train, y_test = train_test_split(X, y, test_size=0.3, train_size=0.7, random_state=1)"
   ]
  },
  {
   "cell_type": "code",
   "execution_count": null,
   "id": "58c57d56",
   "metadata": {},
   "outputs": [],
   "source": [
    "X_train.shape"
   ]
  },
  {
   "cell_type": "code",
   "execution_count": null,
   "id": "db87d609",
   "metadata": {},
   "outputs": [],
   "source": [
    "from sklearn.decomposition import PCA\n",
    "pca = PCA(random_state=100)\n",
    "# apply PCA on train data\n",
    "pca.fit(X_train)"
   ]
  },
  {
   "cell_type": "code",
   "execution_count": null,
   "id": "22ca164b",
   "metadata": {},
   "outputs": [],
   "source": [
    "pca.components_"
   ]
  },
  {
   "cell_type": "code",
   "execution_count": null,
   "id": "af47209d",
   "metadata": {},
   "outputs": [],
   "source": [
    "pca.explained_variance_ratio_"
   ]
  },
  {
   "cell_type": "code",
   "execution_count": null,
   "id": "1fa018cd",
   "metadata": {},
   "outputs": [],
   "source": [
    "#Making the screeplot - plotting the cumulative variance against the number of components\n",
    "%matplotlib inline\n",
    "fig = plt.figure(figsize = (12,8))\n",
    "plt.plot(np.cumsum(pca.explained_variance_ratio_))\n",
    "plt.xlabel('number of components')\n",
    "plt.ylabel('cumulative explained variance')\n",
    "plt.show()"
   ]
  },
  {
   "cell_type": "code",
   "execution_count": null,
   "id": "60b088eb",
   "metadata": {},
   "outputs": [],
   "source": [
    "variance_cum = np.cumsum(pca.explained_variance_ratio_)\n",
    "variance_cum[54] "
   ]
  },
  {
   "cell_type": "code",
   "execution_count": null,
   "id": "9bdee78c",
   "metadata": {},
   "outputs": [],
   "source": [
    "## 55 components gives 95% of overall varaince"
   ]
  },
  {
   "cell_type": "code",
   "execution_count": null,
   "id": "7fec56f6",
   "metadata": {},
   "outputs": [],
   "source": [
    "pca2 = PCA(n_components=55,random_state=100)\n",
    "X_train_pca = pca2.fit_transform(X_train)\n",
    "X_test_pca = pca2.transform(X_test)\n"
   ]
  },
  {
   "cell_type": "code",
   "execution_count": null,
   "id": "9ae3aec1",
   "metadata": {},
   "outputs": [],
   "source": [
    "print(X_train_pca.shape)\n",
    "print(X_test_pca.shape)"
   ]
  },
  {
   "cell_type": "code",
   "execution_count": null,
   "id": "77c41a82",
   "metadata": {},
   "outputs": [],
   "source": [
    "X_train_pca.shape[1]"
   ]
  },
  {
   "cell_type": "code",
   "execution_count": null,
   "id": "ab38d5b3",
   "metadata": {},
   "outputs": [],
   "source": [
    "component_name = []\n",
    "for i in range(1, X_train_pca.shape[1]+1):\n",
    "    component_name.append(\"PC\"+str(i))\n",
    "    "
   ]
  },
  {
   "cell_type": "code",
   "execution_count": null,
   "id": "1ab7474a",
   "metadata": {},
   "outputs": [],
   "source": [
    "df1 = pd.DataFrame(X_train_pca,columns = component_name)\n",
    "df1.head()"
   ]
  },
  {
   "cell_type": "code",
   "execution_count": null,
   "id": "cccd2d75",
   "metadata": {},
   "outputs": [],
   "source": []
  },
  {
   "cell_type": "markdown",
   "id": "d97397eb",
   "metadata": {},
   "source": [
    "### Implementing Random Forest"
   ]
  },
  {
   "cell_type": "markdown",
   "id": "bdc698ee",
   "metadata": {},
   "source": []
  },
  {
   "cell_type": "code",
   "execution_count": null,
   "id": "86564295",
   "metadata": {},
   "outputs": [],
   "source": [
    "from sklearn.ensemble import RandomForestClassifier\n",
    "from sklearn import metrics\n",
    "from sklearn.metrics import classification_report, confusion_matrix, accuracy_score"
   ]
  },
  {
   "cell_type": "code",
   "execution_count": null,
   "id": "d94a7e9f",
   "metadata": {},
   "outputs": [],
   "source": [
    "model_rf = RandomForestClassifier()"
   ]
  },
  {
   "cell_type": "code",
   "execution_count": null,
   "id": "3bac41d9",
   "metadata": {},
   "outputs": [],
   "source": [
    "model_rf.fit(X_train_pca,y_train)"
   ]
  },
  {
   "cell_type": "code",
   "execution_count": null,
   "id": "d45cab69",
   "metadata": {},
   "outputs": [],
   "source": [
    "rf_test = model_rf.predict(X_test_pca)"
   ]
  },
  {
   "cell_type": "code",
   "execution_count": null,
   "id": "d873b948",
   "metadata": {},
   "outputs": [],
   "source": [
    "metrics.accuracy_score(y_test,rf_test)"
   ]
  },
  {
   "cell_type": "code",
   "execution_count": null,
   "id": "c26eca1d",
   "metadata": {},
   "outputs": [],
   "source": []
  }
 ],
 "metadata": {
  "kernelspec": {
   "display_name": "Python 3 (ipykernel)",
   "language": "python",
   "name": "python3"
  },
  "language_info": {
   "codemirror_mode": {
    "name": "ipython",
    "version": 3
   },
   "file_extension": ".py",
   "mimetype": "text/x-python",
   "name": "python",
   "nbconvert_exporter": "python",
   "pygments_lexer": "ipython3",
   "version": "3.9.12"
  }
 },
 "nbformat": 4,
 "nbformat_minor": 5
}
