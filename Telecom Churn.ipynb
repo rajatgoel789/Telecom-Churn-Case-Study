{
 "cells": [
  {
   "cell_type": "markdown",
   "id": "08081bf3",
   "metadata": {},
   "source": [
    "## Problem Statement\n",
    "In the telecom industry, customers are able to choose from multiple service providers and actively switch from one operator to another. In this highly competitive market, the telecommunications industry experiences an average of 15-25% annual churn rate. Given the fact that it costs 5-10 times more to acquire a new customer than to retain an existing one, customer retention has now become even more important than customer acquisition.\n",
    "\n",
    "For many incumbent operators, retaining high profitable customers is the number one business\n",
    "goal. To reduce customer churn, telecom companies need to predict which customers are at high risk of churn. In this project, you will analyze customer-level data of a leading telecom firm, build predictive models to identify customers at high risk of churn.\n",
    "\n",
    "In this competition, your goal is to build a machine learning model that is able to predict churning customers based on the features provided for their usage.\n",
    "\n"
   ]
  },
  {
   "cell_type": "markdown",
   "id": "c57b42e2",
   "metadata": {},
   "source": [
    "## The notebook consist of below 4 parts\n",
    "\n",
    "* Data Understanding, Preparation, and Pre-Processing\n",
    "* Exploratory Data Analysis \n",
    "* Feature Engineering and Variable Transformation\n",
    "* Model Selection, Model Building, and  Prediction"
   ]
  },
  {
   "cell_type": "markdown",
   "id": "6d0ed7db",
   "metadata": {},
   "source": [
    "### Data Understanding, Preparation, and Pre-Processing"
   ]
  },
  {
   "cell_type": "markdown",
   "id": "5b042e4d",
   "metadata": {},
   "source": [
    "#### Importing Libraries"
   ]
  },
  {
   "cell_type": "code",
   "execution_count": 1,
   "id": "a1b12d8c",
   "metadata": {},
   "outputs": [],
   "source": [
    "import pandas as pd"
   ]
  },
  {
   "cell_type": "code",
   "execution_count": 2,
   "id": "b9699c9e",
   "metadata": {},
   "outputs": [],
   "source": [
    "#reading data\n",
    "df=pd.read_csv(\"train (1).csv\")"
   ]
  },
  {
   "cell_type": "code",
   "execution_count": 3,
   "id": "c37676ad",
   "metadata": {},
   "outputs": [
    {
     "data": {
      "text/plain": [
       "(69999, 172)"
      ]
     },
     "execution_count": 3,
     "metadata": {},
     "output_type": "execute_result"
    }
   ],
   "source": [
    "#checking shape of data\n",
    "df.shape"
   ]
  },
  {
   "cell_type": "code",
   "execution_count": 4,
   "id": "59c11688",
   "metadata": {},
   "outputs": [
    {
     "data": {
      "text/html": [
       "<div>\n",
       "<style scoped>\n",
       "    .dataframe tbody tr th:only-of-type {\n",
       "        vertical-align: middle;\n",
       "    }\n",
       "\n",
       "    .dataframe tbody tr th {\n",
       "        vertical-align: top;\n",
       "    }\n",
       "\n",
       "    .dataframe thead th {\n",
       "        text-align: right;\n",
       "    }\n",
       "</style>\n",
       "<table border=\"1\" class=\"dataframe\">\n",
       "  <thead>\n",
       "    <tr style=\"text-align: right;\">\n",
       "      <th></th>\n",
       "      <th>id</th>\n",
       "      <th>circle_id</th>\n",
       "      <th>loc_og_t2o_mou</th>\n",
       "      <th>std_og_t2o_mou</th>\n",
       "      <th>loc_ic_t2o_mou</th>\n",
       "      <th>last_date_of_month_6</th>\n",
       "      <th>last_date_of_month_7</th>\n",
       "      <th>last_date_of_month_8</th>\n",
       "      <th>arpu_6</th>\n",
       "      <th>arpu_7</th>\n",
       "      <th>...</th>\n",
       "      <th>sachet_3g_7</th>\n",
       "      <th>sachet_3g_8</th>\n",
       "      <th>fb_user_6</th>\n",
       "      <th>fb_user_7</th>\n",
       "      <th>fb_user_8</th>\n",
       "      <th>aon</th>\n",
       "      <th>aug_vbc_3g</th>\n",
       "      <th>jul_vbc_3g</th>\n",
       "      <th>jun_vbc_3g</th>\n",
       "      <th>churn_probability</th>\n",
       "    </tr>\n",
       "  </thead>\n",
       "  <tbody>\n",
       "    <tr>\n",
       "      <th>0</th>\n",
       "      <td>0</td>\n",
       "      <td>109</td>\n",
       "      <td>0.0</td>\n",
       "      <td>0.0</td>\n",
       "      <td>0.0</td>\n",
       "      <td>6/30/2014</td>\n",
       "      <td>7/31/2014</td>\n",
       "      <td>8/31/2014</td>\n",
       "      <td>31.277</td>\n",
       "      <td>87.009</td>\n",
       "      <td>...</td>\n",
       "      <td>0</td>\n",
       "      <td>0</td>\n",
       "      <td>NaN</td>\n",
       "      <td>NaN</td>\n",
       "      <td>NaN</td>\n",
       "      <td>1958</td>\n",
       "      <td>0.0</td>\n",
       "      <td>0.0</td>\n",
       "      <td>0.0</td>\n",
       "      <td>0</td>\n",
       "    </tr>\n",
       "    <tr>\n",
       "      <th>1</th>\n",
       "      <td>1</td>\n",
       "      <td>109</td>\n",
       "      <td>0.0</td>\n",
       "      <td>0.0</td>\n",
       "      <td>0.0</td>\n",
       "      <td>6/30/2014</td>\n",
       "      <td>7/31/2014</td>\n",
       "      <td>8/31/2014</td>\n",
       "      <td>0.000</td>\n",
       "      <td>122.787</td>\n",
       "      <td>...</td>\n",
       "      <td>0</td>\n",
       "      <td>0</td>\n",
       "      <td>NaN</td>\n",
       "      <td>1.0</td>\n",
       "      <td>NaN</td>\n",
       "      <td>710</td>\n",
       "      <td>0.0</td>\n",
       "      <td>0.0</td>\n",
       "      <td>0.0</td>\n",
       "      <td>0</td>\n",
       "    </tr>\n",
       "    <tr>\n",
       "      <th>2</th>\n",
       "      <td>2</td>\n",
       "      <td>109</td>\n",
       "      <td>0.0</td>\n",
       "      <td>0.0</td>\n",
       "      <td>0.0</td>\n",
       "      <td>6/30/2014</td>\n",
       "      <td>7/31/2014</td>\n",
       "      <td>8/31/2014</td>\n",
       "      <td>60.806</td>\n",
       "      <td>103.176</td>\n",
       "      <td>...</td>\n",
       "      <td>0</td>\n",
       "      <td>0</td>\n",
       "      <td>NaN</td>\n",
       "      <td>NaN</td>\n",
       "      <td>NaN</td>\n",
       "      <td>882</td>\n",
       "      <td>0.0</td>\n",
       "      <td>0.0</td>\n",
       "      <td>0.0</td>\n",
       "      <td>0</td>\n",
       "    </tr>\n",
       "    <tr>\n",
       "      <th>3</th>\n",
       "      <td>3</td>\n",
       "      <td>109</td>\n",
       "      <td>0.0</td>\n",
       "      <td>0.0</td>\n",
       "      <td>0.0</td>\n",
       "      <td>6/30/2014</td>\n",
       "      <td>7/31/2014</td>\n",
       "      <td>8/31/2014</td>\n",
       "      <td>156.362</td>\n",
       "      <td>205.260</td>\n",
       "      <td>...</td>\n",
       "      <td>0</td>\n",
       "      <td>0</td>\n",
       "      <td>NaN</td>\n",
       "      <td>NaN</td>\n",
       "      <td>NaN</td>\n",
       "      <td>982</td>\n",
       "      <td>0.0</td>\n",
       "      <td>0.0</td>\n",
       "      <td>0.0</td>\n",
       "      <td>0</td>\n",
       "    </tr>\n",
       "    <tr>\n",
       "      <th>4</th>\n",
       "      <td>4</td>\n",
       "      <td>109</td>\n",
       "      <td>0.0</td>\n",
       "      <td>0.0</td>\n",
       "      <td>0.0</td>\n",
       "      <td>6/30/2014</td>\n",
       "      <td>7/31/2014</td>\n",
       "      <td>8/31/2014</td>\n",
       "      <td>240.708</td>\n",
       "      <td>128.191</td>\n",
       "      <td>...</td>\n",
       "      <td>1</td>\n",
       "      <td>0</td>\n",
       "      <td>1.0</td>\n",
       "      <td>1.0</td>\n",
       "      <td>1.0</td>\n",
       "      <td>647</td>\n",
       "      <td>0.0</td>\n",
       "      <td>0.0</td>\n",
       "      <td>0.0</td>\n",
       "      <td>0</td>\n",
       "    </tr>\n",
       "  </tbody>\n",
       "</table>\n",
       "<p>5 rows × 172 columns</p>\n",
       "</div>"
      ],
      "text/plain": [
       "   id  circle_id  loc_og_t2o_mou  std_og_t2o_mou  loc_ic_t2o_mou  \\\n",
       "0   0        109             0.0             0.0             0.0   \n",
       "1   1        109             0.0             0.0             0.0   \n",
       "2   2        109             0.0             0.0             0.0   \n",
       "3   3        109             0.0             0.0             0.0   \n",
       "4   4        109             0.0             0.0             0.0   \n",
       "\n",
       "  last_date_of_month_6 last_date_of_month_7 last_date_of_month_8   arpu_6  \\\n",
       "0            6/30/2014            7/31/2014            8/31/2014   31.277   \n",
       "1            6/30/2014            7/31/2014            8/31/2014    0.000   \n",
       "2            6/30/2014            7/31/2014            8/31/2014   60.806   \n",
       "3            6/30/2014            7/31/2014            8/31/2014  156.362   \n",
       "4            6/30/2014            7/31/2014            8/31/2014  240.708   \n",
       "\n",
       "    arpu_7  ...  sachet_3g_7  sachet_3g_8  fb_user_6  fb_user_7  fb_user_8  \\\n",
       "0   87.009  ...            0            0        NaN        NaN        NaN   \n",
       "1  122.787  ...            0            0        NaN        1.0        NaN   \n",
       "2  103.176  ...            0            0        NaN        NaN        NaN   \n",
       "3  205.260  ...            0            0        NaN        NaN        NaN   \n",
       "4  128.191  ...            1            0        1.0        1.0        1.0   \n",
       "\n",
       "    aon  aug_vbc_3g  jul_vbc_3g  jun_vbc_3g  churn_probability  \n",
       "0  1958         0.0         0.0         0.0                  0  \n",
       "1   710         0.0         0.0         0.0                  0  \n",
       "2   882         0.0         0.0         0.0                  0  \n",
       "3   982         0.0         0.0         0.0                  0  \n",
       "4   647         0.0         0.0         0.0                  0  \n",
       "\n",
       "[5 rows x 172 columns]"
      ]
     },
     "execution_count": 4,
     "metadata": {},
     "output_type": "execute_result"
    }
   ],
   "source": [
    "## checking sample of data\n",
    "df.head()"
   ]
  },
  {
   "cell_type": "code",
   "execution_count": 5,
   "id": "3dd3299a",
   "metadata": {},
   "outputs": [
    {
     "name": "stdout",
     "output_type": "stream",
     "text": [
      "<class 'pandas.core.frame.DataFrame'>\n",
      "RangeIndex: 69999 entries, 0 to 69998\n",
      "Data columns (total 172 columns):\n",
      " #    Column                    Non-Null Count  Dtype  \n",
      "---   ------                    --------------  -----  \n",
      " 0    id                        69999 non-null  int64  \n",
      " 1    circle_id                 69999 non-null  int64  \n",
      " 2    loc_og_t2o_mou            69297 non-null  float64\n",
      " 3    std_og_t2o_mou            69297 non-null  float64\n",
      " 4    loc_ic_t2o_mou            69297 non-null  float64\n",
      " 5    last_date_of_month_6      69999 non-null  object \n",
      " 6    last_date_of_month_7      69600 non-null  object \n",
      " 7    last_date_of_month_8      69266 non-null  object \n",
      " 8    arpu_6                    69999 non-null  float64\n",
      " 9    arpu_7                    69999 non-null  float64\n",
      " 10   arpu_8                    69999 non-null  float64\n",
      " 11   onnet_mou_6               67231 non-null  float64\n",
      " 12   onnet_mou_7               67312 non-null  float64\n",
      " 13   onnet_mou_8               66296 non-null  float64\n",
      " 14   offnet_mou_6              67231 non-null  float64\n",
      " 15   offnet_mou_7              67312 non-null  float64\n",
      " 16   offnet_mou_8              66296 non-null  float64\n",
      " 17   roam_ic_mou_6             67231 non-null  float64\n",
      " 18   roam_ic_mou_7             67312 non-null  float64\n",
      " 19   roam_ic_mou_8             66296 non-null  float64\n",
      " 20   roam_og_mou_6             67231 non-null  float64\n",
      " 21   roam_og_mou_7             67312 non-null  float64\n",
      " 22   roam_og_mou_8             66296 non-null  float64\n",
      " 23   loc_og_t2t_mou_6          67231 non-null  float64\n",
      " 24   loc_og_t2t_mou_7          67312 non-null  float64\n",
      " 25   loc_og_t2t_mou_8          66296 non-null  float64\n",
      " 26   loc_og_t2m_mou_6          67231 non-null  float64\n",
      " 27   loc_og_t2m_mou_7          67312 non-null  float64\n",
      " 28   loc_og_t2m_mou_8          66296 non-null  float64\n",
      " 29   loc_og_t2f_mou_6          67231 non-null  float64\n",
      " 30   loc_og_t2f_mou_7          67312 non-null  float64\n",
      " 31   loc_og_t2f_mou_8          66296 non-null  float64\n",
      " 32   loc_og_t2c_mou_6          67231 non-null  float64\n",
      " 33   loc_og_t2c_mou_7          67312 non-null  float64\n",
      " 34   loc_og_t2c_mou_8          66296 non-null  float64\n",
      " 35   loc_og_mou_6              67231 non-null  float64\n",
      " 36   loc_og_mou_7              67312 non-null  float64\n",
      " 37   loc_og_mou_8              66296 non-null  float64\n",
      " 38   std_og_t2t_mou_6          67231 non-null  float64\n",
      " 39   std_og_t2t_mou_7          67312 non-null  float64\n",
      " 40   std_og_t2t_mou_8          66296 non-null  float64\n",
      " 41   std_og_t2m_mou_6          67231 non-null  float64\n",
      " 42   std_og_t2m_mou_7          67312 non-null  float64\n",
      " 43   std_og_t2m_mou_8          66296 non-null  float64\n",
      " 44   std_og_t2f_mou_6          67231 non-null  float64\n",
      " 45   std_og_t2f_mou_7          67312 non-null  float64\n",
      " 46   std_og_t2f_mou_8          66296 non-null  float64\n",
      " 47   std_og_t2c_mou_6          67231 non-null  float64\n",
      " 48   std_og_t2c_mou_7          67312 non-null  float64\n",
      " 49   std_og_t2c_mou_8          66296 non-null  float64\n",
      " 50   std_og_mou_6              67231 non-null  float64\n",
      " 51   std_og_mou_7              67312 non-null  float64\n",
      " 52   std_og_mou_8              66296 non-null  float64\n",
      " 53   isd_og_mou_6              67231 non-null  float64\n",
      " 54   isd_og_mou_7              67312 non-null  float64\n",
      " 55   isd_og_mou_8              66296 non-null  float64\n",
      " 56   spl_og_mou_6              67231 non-null  float64\n",
      " 57   spl_og_mou_7              67312 non-null  float64\n",
      " 58   spl_og_mou_8              66296 non-null  float64\n",
      " 59   og_others_6               67231 non-null  float64\n",
      " 60   og_others_7               67312 non-null  float64\n",
      " 61   og_others_8               66296 non-null  float64\n",
      " 62   total_og_mou_6            69999 non-null  float64\n",
      " 63   total_og_mou_7            69999 non-null  float64\n",
      " 64   total_og_mou_8            69999 non-null  float64\n",
      " 65   loc_ic_t2t_mou_6          67231 non-null  float64\n",
      " 66   loc_ic_t2t_mou_7          67312 non-null  float64\n",
      " 67   loc_ic_t2t_mou_8          66296 non-null  float64\n",
      " 68   loc_ic_t2m_mou_6          67231 non-null  float64\n",
      " 69   loc_ic_t2m_mou_7          67312 non-null  float64\n",
      " 70   loc_ic_t2m_mou_8          66296 non-null  float64\n",
      " 71   loc_ic_t2f_mou_6          67231 non-null  float64\n",
      " 72   loc_ic_t2f_mou_7          67312 non-null  float64\n",
      " 73   loc_ic_t2f_mou_8          66296 non-null  float64\n",
      " 74   loc_ic_mou_6              67231 non-null  float64\n",
      " 75   loc_ic_mou_7              67312 non-null  float64\n",
      " 76   loc_ic_mou_8              66296 non-null  float64\n",
      " 77   std_ic_t2t_mou_6          67231 non-null  float64\n",
      " 78   std_ic_t2t_mou_7          67312 non-null  float64\n",
      " 79   std_ic_t2t_mou_8          66296 non-null  float64\n",
      " 80   std_ic_t2m_mou_6          67231 non-null  float64\n",
      " 81   std_ic_t2m_mou_7          67312 non-null  float64\n",
      " 82   std_ic_t2m_mou_8          66296 non-null  float64\n",
      " 83   std_ic_t2f_mou_6          67231 non-null  float64\n",
      " 84   std_ic_t2f_mou_7          67312 non-null  float64\n",
      " 85   std_ic_t2f_mou_8          66296 non-null  float64\n",
      " 86   std_ic_t2o_mou_6          67231 non-null  float64\n",
      " 87   std_ic_t2o_mou_7          67312 non-null  float64\n",
      " 88   std_ic_t2o_mou_8          66296 non-null  float64\n",
      " 89   std_ic_mou_6              67231 non-null  float64\n",
      " 90   std_ic_mou_7              67312 non-null  float64\n",
      " 91   std_ic_mou_8              66296 non-null  float64\n",
      " 92   total_ic_mou_6            69999 non-null  float64\n",
      " 93   total_ic_mou_7            69999 non-null  float64\n",
      " 94   total_ic_mou_8            69999 non-null  float64\n",
      " 95   spl_ic_mou_6              67231 non-null  float64\n",
      " 96   spl_ic_mou_7              67312 non-null  float64\n",
      " 97   spl_ic_mou_8              66296 non-null  float64\n",
      " 98   isd_ic_mou_6              67231 non-null  float64\n",
      " 99   isd_ic_mou_7              67312 non-null  float64\n",
      " 100  isd_ic_mou_8              66296 non-null  float64\n",
      " 101  ic_others_6               67231 non-null  float64\n",
      " 102  ic_others_7               67312 non-null  float64\n",
      " 103  ic_others_8               66296 non-null  float64\n",
      " 104  total_rech_num_6          69999 non-null  int64  \n",
      " 105  total_rech_num_7          69999 non-null  int64  \n",
      " 106  total_rech_num_8          69999 non-null  int64  \n",
      " 107  total_rech_amt_6          69999 non-null  int64  \n",
      " 108  total_rech_amt_7          69999 non-null  int64  \n",
      " 109  total_rech_amt_8          69999 non-null  int64  \n",
      " 110  max_rech_amt_6            69999 non-null  int64  \n",
      " 111  max_rech_amt_7            69999 non-null  int64  \n",
      " 112  max_rech_amt_8            69999 non-null  int64  \n",
      " 113  date_of_last_rech_6       68898 non-null  object \n",
      " 114  date_of_last_rech_7       68765 non-null  object \n",
      " 115  date_of_last_rech_8       67538 non-null  object \n",
      " 116  last_day_rch_amt_6        69999 non-null  int64  \n",
      " 117  last_day_rch_amt_7        69999 non-null  int64  \n",
      " 118  last_day_rch_amt_8        69999 non-null  int64  \n",
      " 119  date_of_last_rech_data_6  17568 non-null  object \n",
      " 120  date_of_last_rech_data_7  17865 non-null  object \n",
      " 121  date_of_last_rech_data_8  18417 non-null  object \n",
      " 122  total_rech_data_6         17568 non-null  float64\n",
      " 123  total_rech_data_7         17865 non-null  float64\n",
      " 124  total_rech_data_8         18417 non-null  float64\n",
      " 125  max_rech_data_6           17568 non-null  float64\n",
      " 126  max_rech_data_7           17865 non-null  float64\n",
      " 127  max_rech_data_8           18417 non-null  float64\n",
      " 128  count_rech_2g_6           17568 non-null  float64\n",
      " 129  count_rech_2g_7           17865 non-null  float64\n",
      " 130  count_rech_2g_8           18417 non-null  float64\n",
      " 131  count_rech_3g_6           17568 non-null  float64\n",
      " 132  count_rech_3g_7           17865 non-null  float64\n",
      " 133  count_rech_3g_8           18417 non-null  float64\n",
      " 134  av_rech_amt_data_6        17568 non-null  float64\n",
      " 135  av_rech_amt_data_7        17865 non-null  float64\n",
      " 136  av_rech_amt_data_8        18417 non-null  float64\n",
      " 137  vol_2g_mb_6               69999 non-null  float64\n",
      " 138  vol_2g_mb_7               69999 non-null  float64\n",
      " 139  vol_2g_mb_8               69999 non-null  float64\n",
      " 140  vol_3g_mb_6               69999 non-null  float64\n",
      " 141  vol_3g_mb_7               69999 non-null  float64\n",
      " 142  vol_3g_mb_8               69999 non-null  float64\n",
      " 143  arpu_3g_6                 17568 non-null  float64\n",
      " 144  arpu_3g_7                 17865 non-null  float64\n",
      " 145  arpu_3g_8                 18417 non-null  float64\n",
      " 146  arpu_2g_6                 17568 non-null  float64\n",
      " 147  arpu_2g_7                 17865 non-null  float64\n",
      " 148  arpu_2g_8                 18417 non-null  float64\n",
      " 149  night_pck_user_6          17568 non-null  float64\n",
      " 150  night_pck_user_7          17865 non-null  float64\n",
      " 151  night_pck_user_8          18417 non-null  float64\n",
      " 152  monthly_2g_6              69999 non-null  int64  \n",
      " 153  monthly_2g_7              69999 non-null  int64  \n",
      " 154  monthly_2g_8              69999 non-null  int64  \n",
      " 155  sachet_2g_6               69999 non-null  int64  \n",
      " 156  sachet_2g_7               69999 non-null  int64  \n",
      " 157  sachet_2g_8               69999 non-null  int64  \n",
      " 158  monthly_3g_6              69999 non-null  int64  \n",
      " 159  monthly_3g_7              69999 non-null  int64  \n",
      " 160  monthly_3g_8              69999 non-null  int64  \n",
      " 161  sachet_3g_6               69999 non-null  int64  \n",
      " 162  sachet_3g_7               69999 non-null  int64  \n",
      " 163  sachet_3g_8               69999 non-null  int64  \n",
      " 164  fb_user_6                 17568 non-null  float64\n",
      " 165  fb_user_7                 17865 non-null  float64\n",
      " 166  fb_user_8                 18417 non-null  float64\n",
      " 167  aon                       69999 non-null  int64  \n",
      " 168  aug_vbc_3g                69999 non-null  float64\n",
      " 169  jul_vbc_3g                69999 non-null  float64\n",
      " 170  jun_vbc_3g                69999 non-null  float64\n",
      " 171  churn_probability         69999 non-null  int64  \n",
      "dtypes: float64(135), int64(28), object(9)\n",
      "memory usage: 91.9+ MB\n"
     ]
    }
   ],
   "source": [
    "#checking null values and data types in columns\n",
    "df.info(verbose=True,show_counts=True)"
   ]
  },
  {
   "cell_type": "markdown",
   "id": "623884b2",
   "metadata": {},
   "source": [
    "##### The dataset has 135 float columns, 28 integer and 9 string type columns.\n",
    "##### Out of 70k records, many columns have less than 20k values in them. They have only 25% of values. So we can drop them."
   ]
  },
  {
   "cell_type": "code",
   "execution_count": 6,
   "id": "4335b0cd",
   "metadata": {},
   "outputs": [
    {
     "name": "stdout",
     "output_type": "stream",
     "text": [
      "30 ['date_of_last_rech_data_6', 'date_of_last_rech_data_7', 'date_of_last_rech_data_8', 'total_rech_data_6', 'total_rech_data_7', 'total_rech_data_8', 'max_rech_data_6', 'max_rech_data_7', 'max_rech_data_8', 'count_rech_2g_6', 'count_rech_2g_7', 'count_rech_2g_8', 'count_rech_3g_6', 'count_rech_3g_7', 'count_rech_3g_8', 'av_rech_amt_data_6', 'av_rech_amt_data_7', 'av_rech_amt_data_8', 'arpu_3g_6', 'arpu_3g_7', 'arpu_3g_8', 'arpu_2g_6', 'arpu_2g_7', 'arpu_2g_8', 'night_pck_user_6', 'night_pck_user_7', 'night_pck_user_8', 'fb_user_6', 'fb_user_7', 'fb_user_8']\n"
     ]
    }
   ],
   "source": [
    "lst=[]\n",
    "for i in df.columns:\n",
    "    if int((df[i].isna().sum()/df.shape[0])*100)>70:\n",
    "        lst.append(i)\n",
    "print(len(lst),lst)"
   ]
  },
  {
   "cell_type": "markdown",
   "id": "d572704f",
   "metadata": {},
   "source": [
    "##### Above 30 columns would be dropped as they dont have sufficient data"
   ]
  },
  {
   "cell_type": "code",
   "execution_count": 7,
   "id": "c4b6fa62",
   "metadata": {},
   "outputs": [],
   "source": [
    "df.drop(columns=lst,axis=0,inplace=True)"
   ]
  },
  {
   "cell_type": "code",
   "execution_count": 8,
   "id": "ed0111be",
   "metadata": {},
   "outputs": [
    {
     "data": {
      "text/plain": [
       "(69999, 142)"
      ]
     },
     "execution_count": 8,
     "metadata": {},
     "output_type": "execute_result"
    }
   ],
   "source": [
    "#checking new shape\n",
    "df.shape"
   ]
  },
  {
   "cell_type": "code",
   "execution_count": 9,
   "id": "be195d95",
   "metadata": {},
   "outputs": [],
   "source": [
    "#dropping rows having all null values\n",
    "df=df.dropna(axis=0,how='all')"
   ]
  },
  {
   "cell_type": "code",
   "execution_count": 10,
   "id": "5a237bdc",
   "metadata": {},
   "outputs": [
    {
     "data": {
      "text/plain": [
       "(69999, 142)"
      ]
     },
     "execution_count": 10,
     "metadata": {},
     "output_type": "execute_result"
    }
   ],
   "source": [
    "#checking new shape\n",
    "df.shape"
   ]
  },
  {
   "cell_type": "markdown",
   "id": "4deedcb1",
   "metadata": {},
   "source": [
    "##### There is not change in rows of original dataset after dropping rows with all null values. This means no row has all null values in dataset."
   ]
  },
  {
   "cell_type": "markdown",
   "id": "48e88ab9",
   "metadata": {},
   "source": [
    "##### Checking if in a columns all values are unique or contains a single not null value in all rows because these columns do not add much information to model"
   ]
  },
  {
   "cell_type": "code",
   "execution_count": 11,
   "id": "05b574d7",
   "metadata": {},
   "outputs": [
    {
     "data": {
      "text/plain": [
       "Index(['id', 'circle_id', 'loc_og_t2o_mou', 'std_og_t2o_mou', 'loc_ic_t2o_mou',\n",
       "       'last_date_of_month_6', 'last_date_of_month_7', 'last_date_of_month_8',\n",
       "       'std_og_t2c_mou_6', 'std_og_t2c_mou_7', 'std_og_t2c_mou_8',\n",
       "       'std_ic_t2o_mou_6', 'std_ic_t2o_mou_7', 'std_ic_t2o_mou_8'],\n",
       "      dtype='object')"
      ]
     },
     "execution_count": 11,
     "metadata": {},
     "output_type": "execute_result"
    }
   ],
   "source": [
    "# calculating unique values of each column and checking on that\n",
    "k=df.nunique()\n",
    "j=k[(k.values ==1) | (k.values==69999)]\n",
    "j.index"
   ]
  },
  {
   "cell_type": "code",
   "execution_count": 12,
   "id": "bd10afcc",
   "metadata": {},
   "outputs": [],
   "source": [
    "#dropping the columns \n",
    "df.drop(j.index,axis=1,inplace=True)"
   ]
  },
  {
   "cell_type": "code",
   "execution_count": 13,
   "id": "c36ef3c4",
   "metadata": {},
   "outputs": [
    {
     "data": {
      "text/plain": [
       "(69999, 128)"
      ]
     },
     "execution_count": 13,
     "metadata": {},
     "output_type": "execute_result"
    }
   ],
   "source": [
    "#checking new shape\n",
    "df.shape"
   ]
  },
  {
   "cell_type": "code",
   "execution_count": 14,
   "id": "afbe67c7",
   "metadata": {},
   "outputs": [
    {
     "data": {
      "text/plain": [
       "0    62867\n",
       "1     7132\n",
       "Name: churn_probability, dtype: int64"
      ]
     },
     "execution_count": 14,
     "metadata": {},
     "output_type": "execute_result"
    }
   ],
   "source": [
    "df['churn_probability'].value_counts()"
   ]
  },
  {
   "cell_type": "markdown",
   "id": "1dca28f8",
   "metadata": {},
   "source": [
    "##### we can see that we have around 62K data for loyal customers and around 7k data for churned customer"
   ]
  },
  {
   "cell_type": "code",
   "execution_count": 15,
   "id": "3f4d8f09",
   "metadata": {
    "scrolled": false
   },
   "outputs": [
    {
     "name": "stdout",
     "output_type": "stream",
     "text": [
      "<class 'pandas.core.frame.DataFrame'>\n",
      "RangeIndex: 69999 entries, 0 to 69998\n",
      "Data columns (total 128 columns):\n",
      " #    Column               Non-Null Count  Dtype  \n",
      "---   ------               --------------  -----  \n",
      " 0    arpu_6               69999 non-null  float64\n",
      " 1    arpu_7               69999 non-null  float64\n",
      " 2    arpu_8               69999 non-null  float64\n",
      " 3    onnet_mou_6          67231 non-null  float64\n",
      " 4    onnet_mou_7          67312 non-null  float64\n",
      " 5    onnet_mou_8          66296 non-null  float64\n",
      " 6    offnet_mou_6         67231 non-null  float64\n",
      " 7    offnet_mou_7         67312 non-null  float64\n",
      " 8    offnet_mou_8         66296 non-null  float64\n",
      " 9    roam_ic_mou_6        67231 non-null  float64\n",
      " 10   roam_ic_mou_7        67312 non-null  float64\n",
      " 11   roam_ic_mou_8        66296 non-null  float64\n",
      " 12   roam_og_mou_6        67231 non-null  float64\n",
      " 13   roam_og_mou_7        67312 non-null  float64\n",
      " 14   roam_og_mou_8        66296 non-null  float64\n",
      " 15   loc_og_t2t_mou_6     67231 non-null  float64\n",
      " 16   loc_og_t2t_mou_7     67312 non-null  float64\n",
      " 17   loc_og_t2t_mou_8     66296 non-null  float64\n",
      " 18   loc_og_t2m_mou_6     67231 non-null  float64\n",
      " 19   loc_og_t2m_mou_7     67312 non-null  float64\n",
      " 20   loc_og_t2m_mou_8     66296 non-null  float64\n",
      " 21   loc_og_t2f_mou_6     67231 non-null  float64\n",
      " 22   loc_og_t2f_mou_7     67312 non-null  float64\n",
      " 23   loc_og_t2f_mou_8     66296 non-null  float64\n",
      " 24   loc_og_t2c_mou_6     67231 non-null  float64\n",
      " 25   loc_og_t2c_mou_7     67312 non-null  float64\n",
      " 26   loc_og_t2c_mou_8     66296 non-null  float64\n",
      " 27   loc_og_mou_6         67231 non-null  float64\n",
      " 28   loc_og_mou_7         67312 non-null  float64\n",
      " 29   loc_og_mou_8         66296 non-null  float64\n",
      " 30   std_og_t2t_mou_6     67231 non-null  float64\n",
      " 31   std_og_t2t_mou_7     67312 non-null  float64\n",
      " 32   std_og_t2t_mou_8     66296 non-null  float64\n",
      " 33   std_og_t2m_mou_6     67231 non-null  float64\n",
      " 34   std_og_t2m_mou_7     67312 non-null  float64\n",
      " 35   std_og_t2m_mou_8     66296 non-null  float64\n",
      " 36   std_og_t2f_mou_6     67231 non-null  float64\n",
      " 37   std_og_t2f_mou_7     67312 non-null  float64\n",
      " 38   std_og_t2f_mou_8     66296 non-null  float64\n",
      " 39   std_og_mou_6         67231 non-null  float64\n",
      " 40   std_og_mou_7         67312 non-null  float64\n",
      " 41   std_og_mou_8         66296 non-null  float64\n",
      " 42   isd_og_mou_6         67231 non-null  float64\n",
      " 43   isd_og_mou_7         67312 non-null  float64\n",
      " 44   isd_og_mou_8         66296 non-null  float64\n",
      " 45   spl_og_mou_6         67231 non-null  float64\n",
      " 46   spl_og_mou_7         67312 non-null  float64\n",
      " 47   spl_og_mou_8         66296 non-null  float64\n",
      " 48   og_others_6          67231 non-null  float64\n",
      " 49   og_others_7          67312 non-null  float64\n",
      " 50   og_others_8          66296 non-null  float64\n",
      " 51   total_og_mou_6       69999 non-null  float64\n",
      " 52   total_og_mou_7       69999 non-null  float64\n",
      " 53   total_og_mou_8       69999 non-null  float64\n",
      " 54   loc_ic_t2t_mou_6     67231 non-null  float64\n",
      " 55   loc_ic_t2t_mou_7     67312 non-null  float64\n",
      " 56   loc_ic_t2t_mou_8     66296 non-null  float64\n",
      " 57   loc_ic_t2m_mou_6     67231 non-null  float64\n",
      " 58   loc_ic_t2m_mou_7     67312 non-null  float64\n",
      " 59   loc_ic_t2m_mou_8     66296 non-null  float64\n",
      " 60   loc_ic_t2f_mou_6     67231 non-null  float64\n",
      " 61   loc_ic_t2f_mou_7     67312 non-null  float64\n",
      " 62   loc_ic_t2f_mou_8     66296 non-null  float64\n",
      " 63   loc_ic_mou_6         67231 non-null  float64\n",
      " 64   loc_ic_mou_7         67312 non-null  float64\n",
      " 65   loc_ic_mou_8         66296 non-null  float64\n",
      " 66   std_ic_t2t_mou_6     67231 non-null  float64\n",
      " 67   std_ic_t2t_mou_7     67312 non-null  float64\n",
      " 68   std_ic_t2t_mou_8     66296 non-null  float64\n",
      " 69   std_ic_t2m_mou_6     67231 non-null  float64\n",
      " 70   std_ic_t2m_mou_7     67312 non-null  float64\n",
      " 71   std_ic_t2m_mou_8     66296 non-null  float64\n",
      " 72   std_ic_t2f_mou_6     67231 non-null  float64\n",
      " 73   std_ic_t2f_mou_7     67312 non-null  float64\n",
      " 74   std_ic_t2f_mou_8     66296 non-null  float64\n",
      " 75   std_ic_mou_6         67231 non-null  float64\n",
      " 76   std_ic_mou_7         67312 non-null  float64\n",
      " 77   std_ic_mou_8         66296 non-null  float64\n",
      " 78   total_ic_mou_6       69999 non-null  float64\n",
      " 79   total_ic_mou_7       69999 non-null  float64\n",
      " 80   total_ic_mou_8       69999 non-null  float64\n",
      " 81   spl_ic_mou_6         67231 non-null  float64\n",
      " 82   spl_ic_mou_7         67312 non-null  float64\n",
      " 83   spl_ic_mou_8         66296 non-null  float64\n",
      " 84   isd_ic_mou_6         67231 non-null  float64\n",
      " 85   isd_ic_mou_7         67312 non-null  float64\n",
      " 86   isd_ic_mou_8         66296 non-null  float64\n",
      " 87   ic_others_6          67231 non-null  float64\n",
      " 88   ic_others_7          67312 non-null  float64\n",
      " 89   ic_others_8          66296 non-null  float64\n",
      " 90   total_rech_num_6     69999 non-null  int64  \n",
      " 91   total_rech_num_7     69999 non-null  int64  \n",
      " 92   total_rech_num_8     69999 non-null  int64  \n",
      " 93   total_rech_amt_6     69999 non-null  int64  \n",
      " 94   total_rech_amt_7     69999 non-null  int64  \n",
      " 95   total_rech_amt_8     69999 non-null  int64  \n",
      " 96   max_rech_amt_6       69999 non-null  int64  \n",
      " 97   max_rech_amt_7       69999 non-null  int64  \n",
      " 98   max_rech_amt_8       69999 non-null  int64  \n",
      " 99   date_of_last_rech_6  68898 non-null  object \n",
      " 100  date_of_last_rech_7  68765 non-null  object \n",
      " 101  date_of_last_rech_8  67538 non-null  object \n",
      " 102  last_day_rch_amt_6   69999 non-null  int64  \n",
      " 103  last_day_rch_amt_7   69999 non-null  int64  \n",
      " 104  last_day_rch_amt_8   69999 non-null  int64  \n",
      " 105  vol_2g_mb_6          69999 non-null  float64\n",
      " 106  vol_2g_mb_7          69999 non-null  float64\n",
      " 107  vol_2g_mb_8          69999 non-null  float64\n",
      " 108  vol_3g_mb_6          69999 non-null  float64\n",
      " 109  vol_3g_mb_7          69999 non-null  float64\n",
      " 110  vol_3g_mb_8          69999 non-null  float64\n",
      " 111  monthly_2g_6         69999 non-null  int64  \n",
      " 112  monthly_2g_7         69999 non-null  int64  \n",
      " 113  monthly_2g_8         69999 non-null  int64  \n",
      " 114  sachet_2g_6          69999 non-null  int64  \n",
      " 115  sachet_2g_7          69999 non-null  int64  \n",
      " 116  sachet_2g_8          69999 non-null  int64  \n",
      " 117  monthly_3g_6         69999 non-null  int64  \n",
      " 118  monthly_3g_7         69999 non-null  int64  \n",
      " 119  monthly_3g_8         69999 non-null  int64  \n",
      " 120  sachet_3g_6          69999 non-null  int64  \n",
      " 121  sachet_3g_7          69999 non-null  int64  \n",
      " 122  sachet_3g_8          69999 non-null  int64  \n",
      " 123  aon                  69999 non-null  int64  \n",
      " 124  aug_vbc_3g           69999 non-null  float64\n",
      " 125  jul_vbc_3g           69999 non-null  float64\n",
      " 126  jun_vbc_3g           69999 non-null  float64\n",
      " 127  churn_probability    69999 non-null  int64  \n",
      "dtypes: float64(99), int64(26), object(3)\n",
      "memory usage: 68.4+ MB\n"
     ]
    }
   ],
   "source": [
    "df.info(verbose=True,show_counts=True)"
   ]
  },
  {
   "cell_type": "code",
   "execution_count": 32,
   "id": "f50b1de6",
   "metadata": {},
   "outputs": [
    {
     "data": {
      "text/html": [
       "<div>\n",
       "<style scoped>\n",
       "    .dataframe tbody tr th:only-of-type {\n",
       "        vertical-align: middle;\n",
       "    }\n",
       "\n",
       "    .dataframe tbody tr th {\n",
       "        vertical-align: top;\n",
       "    }\n",
       "\n",
       "    .dataframe thead th {\n",
       "        text-align: right;\n",
       "    }\n",
       "</style>\n",
       "<table border=\"1\" class=\"dataframe\">\n",
       "  <thead>\n",
       "    <tr style=\"text-align: right;\">\n",
       "      <th></th>\n",
       "      <th>date_of_last_rech_6</th>\n",
       "      <th>date_of_last_rech_7</th>\n",
       "      <th>date_of_last_rech_6</th>\n",
       "    </tr>\n",
       "  </thead>\n",
       "  <tbody>\n",
       "    <tr>\n",
       "      <th>0</th>\n",
       "      <td>6/22/2014</td>\n",
       "      <td>7/10/2014</td>\n",
       "      <td>6/22/2014</td>\n",
       "    </tr>\n",
       "    <tr>\n",
       "      <th>1</th>\n",
       "      <td>6/12/2014</td>\n",
       "      <td>7/10/2014</td>\n",
       "      <td>6/12/2014</td>\n",
       "    </tr>\n",
       "    <tr>\n",
       "      <th>2</th>\n",
       "      <td>6/11/2014</td>\n",
       "      <td>7/22/2014</td>\n",
       "      <td>6/11/2014</td>\n",
       "    </tr>\n",
       "    <tr>\n",
       "      <th>3</th>\n",
       "      <td>6/15/2014</td>\n",
       "      <td>7/21/2014</td>\n",
       "      <td>6/15/2014</td>\n",
       "    </tr>\n",
       "    <tr>\n",
       "      <th>4</th>\n",
       "      <td>6/25/2014</td>\n",
       "      <td>7/26/2014</td>\n",
       "      <td>6/25/2014</td>\n",
       "    </tr>\n",
       "  </tbody>\n",
       "</table>\n",
       "</div>"
      ],
      "text/plain": [
       "  date_of_last_rech_6 date_of_last_rech_7 date_of_last_rech_6\n",
       "0           6/22/2014           7/10/2014           6/22/2014\n",
       "1           6/12/2014           7/10/2014           6/12/2014\n",
       "2           6/11/2014           7/22/2014           6/11/2014\n",
       "3           6/15/2014           7/21/2014           6/15/2014\n",
       "4           6/25/2014           7/26/2014           6/25/2014"
      ]
     },
     "execution_count": 32,
     "metadata": {},
     "output_type": "execute_result"
    }
   ],
   "source": [
    "#checking on object data types\n",
    "df[['date_of_last_rech_6','date_of_last_rech_7','date_of_last_rech_8']].head()"
   ]
  },
  {
   "cell_type": "code",
   "execution_count": 35,
   "id": "a5689b7d",
   "metadata": {},
   "outputs": [],
   "source": [
    "##### converting string to dates\n",
    "df['date_of_last_rech_6']=pd.to_datetime(df['date_of_last_rech_6'])\n",
    "df['date_of_last_rech_7']=pd.to_datetime(df['date_of_last_rech_7'])\n",
    "df['date_of_last_rech_8']=pd.to_datetime(df['date_of_last_rech_8'])"
   ]
  },
  {
   "cell_type": "code",
   "execution_count": 39,
   "id": "1ef7f8ee",
   "metadata": {},
   "outputs": [
    {
     "data": {
      "text/plain": [
       "1234"
      ]
     },
     "execution_count": 39,
     "metadata": {},
     "output_type": "execute_result"
    }
   ],
   "source": [
    "df['date_of_last_rech_7'].isna().sum()"
   ]
  },
  {
   "cell_type": "markdown",
   "id": "44413c26",
   "metadata": {},
   "source": [
    "##### Filling null values in date columns with mode"
   ]
  },
  {
   "cell_type": "code",
   "execution_count": null,
   "id": "af8b78e1",
   "metadata": {},
   "outputs": [],
   "source": [
    "df['date_of_last_rech_6'].fillna(value=df['date_of_last_rech_6'].mode(),inplace=True)\n",
    "df['date_of_last_rech_7'].fillna(value=df['date_of_last_rech_7'].mode(),inplace=True)\n",
    "df['date_of_last_rech_8'].fillna(value=df['date_of_last_rech_8'].mode(),inplace=True)"
   ]
  },
  {
   "cell_type": "markdown",
   "id": "149b6953",
   "metadata": {},
   "source": [
    "##### Filling all null values in data with mean of columns"
   ]
  },
  {
   "cell_type": "code",
   "execution_count": 41,
   "id": "ac8a3182",
   "metadata": {},
   "outputs": [],
   "source": [
    "for i in df.columns[df.isnull().sum()!=0]:\n",
    "    df[i].fillna(value=df[i].mean(),inplace=True)"
   ]
  },
  {
   "cell_type": "code",
   "execution_count": 42,
   "id": "0b352612",
   "metadata": {},
   "outputs": [
    {
     "data": {
      "text/plain": [
       "Index([], dtype='object')"
      ]
     },
     "execution_count": 42,
     "metadata": {},
     "output_type": "execute_result"
    }
   ],
   "source": [
    "df.columns[df.isnull().sum()!=0]"
   ]
  },
  {
   "cell_type": "markdown",
   "id": "2ba9a63a",
   "metadata": {},
   "source": [
    "##### All null values were filled."
   ]
  },
  {
   "cell_type": "markdown",
   "id": "fb22df91",
   "metadata": {},
   "source": [
    "### Exploratory Data Analysis"
   ]
  },
  {
   "cell_type": "markdown",
   "id": "22f35ba5",
   "metadata": {},
   "source": [
    "#### Importing EDA Libraries"
   ]
  },
  {
   "cell_type": "code",
   "execution_count": 46,
   "id": "7a43ce84",
   "metadata": {},
   "outputs": [],
   "source": [
    "import matplotlib.pyplot as plt\n",
    "import seaborn as sns"
   ]
  },
  {
   "cell_type": "markdown",
   "id": "6f23c457",
   "metadata": {},
   "source": [
    "#### Univariate Analysis on numeric columns"
   ]
  },
  {
   "cell_type": "code",
   "execution_count": null,
   "id": "1765f3d1",
   "metadata": {},
   "outputs": [],
   "source": [
    "#starting with numerical columns\n",
    "for i,col in enumerate(df.describe().columns):\n",
    "    plt.figure(i)\n",
    "    sns.boxplot(data=df,x=col)"
   ]
  },
  {
   "cell_type": "code",
   "execution_count": null,
   "id": "46835925",
   "metadata": {},
   "outputs": [],
   "source": []
  },
  {
   "cell_type": "code",
   "execution_count": null,
   "id": "fc8148d8",
   "metadata": {},
   "outputs": [],
   "source": []
  },
  {
   "cell_type": "code",
   "execution_count": null,
   "id": "ba09a07f",
   "metadata": {},
   "outputs": [],
   "source": []
  }
 ],
 "metadata": {
  "kernelspec": {
   "display_name": "Python 3 (ipykernel)",
   "language": "python",
   "name": "python3"
  },
  "language_info": {
   "codemirror_mode": {
    "name": "ipython",
    "version": 3
   },
   "file_extension": ".py",
   "mimetype": "text/x-python",
   "name": "python",
   "nbconvert_exporter": "python",
   "pygments_lexer": "ipython3",
   "version": "3.10.6"
  }
 },
 "nbformat": 4,
 "nbformat_minor": 5
}
